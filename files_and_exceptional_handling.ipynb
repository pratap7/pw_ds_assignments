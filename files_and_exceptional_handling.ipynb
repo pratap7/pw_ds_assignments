{
  "nbformat": 4,
  "nbformat_minor": 0,
  "metadata": {
    "colab": {
      "provenance": []
    },
    "kernelspec": {
      "name": "python3",
      "display_name": "Python 3"
    },
    "language_info": {
      "name": "python"
    }
  },
  "cells": [
    {
      "cell_type": "markdown",
      "source": [
        "#Files, exceptional handling, logging and memory management\n"
      ],
      "metadata": {
        "id": "Jmq2LL1rva3H"
      }
    },
    {
      "cell_type": "markdown",
      "source": [
        "1. What is the difference between interpreted and compiled languages?\n",
        "\n",
        "    => **Compiled languages** convert the entire source code into machine code before execution using a compiler. The result is an executable file that runs directly on the hardware. They are generally faster and more efficient but require recompilation for different platforms. Examples include **C, C++, and Go.**\n",
        "\n",
        "    **Interpreted languages** execute code line by line using an interpreter at runtime. They’re slower but easier to test, debug, and run across systems since no separate compilation is needed. Examples include **Python, JavaScript, and Ruby.**\n",
        "\n",
        "    **Python** is mainly interpreted — it first compiles code to bytecode (**.pyc files**) and then executes it with the **Python Virtual Machine (PVM)**."
      ],
      "metadata": {
        "id": "z0MHnVdyvkiF"
      }
    },
    {
      "cell_type": "markdown",
      "source": [
        "2. What is exception handling in Python?\n",
        "\n",
        "    => **Exception handling** in **Python** is a way to manage errors that occur while a program is running, preventing it from crashing unexpectedly.\n",
        "\n",
        "    When an error (called an exception) occurs, Python stops executing the code unless the error is properly handled. You can handle such cases using the following keywords:\n",
        "    - **try** – block where you write code that might cause an exception.\n",
        "    - **except** – block that runs if an exception occurs.\n",
        "    - **else** – (optional) runs if no exception occurs.\n",
        "    - **finally** – (optional) always runs, whether an exception occurs or not.\n",
        "\n",
        "    **Example:**\n",
        "      ```\n",
        "        try:\n",
        "          x = int(input(\"Enter a number: \"))\n",
        "          result = 10 / x\n",
        "        except ZeroDivisionError:\n",
        "          print(\"Cannot divide by zero!\")\n",
        "        except ValueError:\n",
        "          print(\"Please enter a valid number.\")\n",
        "        else:\n",
        "          print(\"Result is:\", result)\n",
        "        finally:\n",
        "          print(\"Program ended.\")\n",
        "      ```"
      ],
      "metadata": {
        "id": "mVYQ51t1vqB-"
      }
    },
    {
      "cell_type": "markdown",
      "source": [
        "3. What is the purpose of the finally block in exception handling?\n",
        "\n",
        "    => The finally block in Python is used to define code that always runs, no matter what happens — whether an exception occurs or not. It's typically used for cleanup actions like closing files, releasing resources, or ending database connections.\n",
        "\n",
        "    *Example:*\n",
        "\n",
        "    ```\n",
        "    try:\n",
        "        f = open(\"data.txt\", \"r\")\n",
        "        print(f.read())\n",
        "    except FileNotFoundError:\n",
        "        print(\"File not found!\")\n",
        "    finally:\n",
        "        f.close()\n",
        "        print(\"File closed.\")\n",
        "    ```\n",
        "\n"
      ],
      "metadata": {
        "id": "iNLKMcBqvxce"
      }
    },
    {
      "cell_type": "markdown",
      "source": [
        "4. What is logging in Python?\n",
        "\n",
        "    => Logging in Python is a way to track events, errors, or messages that happen while a program runs. Unlike printing to the console, logging provides a flexible system to record information with different severity levels, and you can save it to files for later analysis. Python provides a built-in logging module for this purpose.\n",
        "\n",
        "    **Severity levels:**\n",
        "\n",
        "    - **DEBUG** – Detailed information, typically for developers.\n",
        "    - **INFO** – General program events.\n",
        "    - **WARNING** – Indications of potential issues.\n",
        "    - **ERROR** – Serious problems that prevent part of the program from running.\n",
        "    - **CRITICAL** – Very serious errors causing program failure.\n",
        "\n",
        "    *Example:*\n",
        "\n",
        "    ```\n",
        "    import logging\n",
        "\n",
        "    logging.basicConfig(filename='app.log', level=logging.INFO)\n",
        "\n",
        "    logging.info(\"Program started\")\n",
        "    try:\n",
        "        result = 10 / 0\n",
        "    except ZeroDivisionError:\n",
        "        logging.error(\"Division by zero error!\")\n",
        "    logging.info(\"Program ended\")\n",
        "    ```\n",
        "\n"
      ],
      "metadata": {
        "id": "HIyC16aMv0Br"
      }
    },
    {
      "cell_type": "markdown",
      "source": [
        "5. What is the significance of the __del__ method in Python?\n",
        "\n",
        "    => The __del__ method in Python is called a destructor. It is automatically invoked when an object is about to be destroyed or garbage collected. Its main purpose is to release resources or perform cleanup before the object is removed from memory.\n",
        "    \n",
        "    **Key points:**\n",
        "    - It is defined as def __del__(self):.\n",
        "    - Typically used to close files, network connections, or release other resources\n",
        "    - Python's garbage collector automatically manages most memory, so explicit use of __del__ is rare.\n",
        "    \n",
        "    *Example:*\n",
        "\n",
        "    ```\n",
        "    class FileHandler:\n",
        "        def __init__(self, filename):\n",
        "            self.file = open(filename, 'w')\n",
        "            print(\"File opened\")\n",
        "        \n",
        "        def __del__(self):\n",
        "            self.file.close()\n",
        "            print(\"File closed\")\n",
        "\n",
        "    f = FileHandler(\"test.txt\")\n",
        "    del f  # triggers __del__\n",
        "    ```\n",
        "\n"
      ],
      "metadata": {
        "id": "sNFLxer_v3Dv"
      }
    },
    {
      "cell_type": "markdown",
      "source": [
        "6. What is the difference between import and from ... import in Python?\n",
        "\n",
        "    => Here is the difference.\n",
        "\n",
        "     - **import**\n",
        "       - It imports the entire module.\n",
        "       - To access functions, classes, or variables, you need to prefix them with the module name.\n",
        "       - *Example*:\n",
        "        ```\n",
        "        import math\n",
        "        print(math.sqrt(16))  # Access sqrt using module name\n",
        "        ```\n",
        "    - **from ... import**\n",
        "      - Imports specific items (functions, classes, variables) directly into your namespace.\n",
        "      - You can use them without the module prefix.\n",
        "      - *Example*:\n",
        "\n",
        "      ```\n",
        "      from math import sqrt\n",
        "      print(sqrt(16))  # Direct access, no module prefix\n",
        "      ```\n",
        "\n",
        "\n",
        "\n",
        "\n"
      ],
      "metadata": {
        "id": "ifB86uPXv5z5"
      }
    },
    {
      "cell_type": "markdown",
      "source": [
        "7. How can you handle multiple exceptions in Python?\n",
        "\n",
        "    => In Python, you can handle multiple exceptions in a few ways using try and except blocks.\n",
        "    \n",
        "     - **Multiple except blocks**: You can write separate except blocks for each exception type.\n",
        "\n",
        "     *Example*:\n",
        "\n",
        "    ```\n",
        "    try:\n",
        "        x = int(input(\"Enter a number: \"))\n",
        "        result = 10 / x\n",
        "    except ZeroDivisionError:\n",
        "        print(\"Cannot divide by zero!\")\n",
        "    except ValueError:\n",
        "        print(\"Invalid input, enter a number.\")\n",
        "    ```\n",
        "    - **Single except block for multiple exceptions**: You can handle multiple exceptions in one block by grouping them in parentheses.\n",
        "\n",
        "    *Example*:\n",
        "\n",
        "    ```\n",
        "    try:\n",
        "        x = int(input(\"Enter a number: \"))\n",
        "        result = 10 / x\n",
        "    except (ZeroDivisionError, ValueError) as e:\n",
        "        print(\"Error occurred:\", e)\n",
        "    ```\n",
        "\n",
        "\n",
        "\n",
        "\n",
        "\n",
        "\n",
        "\n"
      ],
      "metadata": {
        "id": "HMu7ULnYv9xW"
      }
    },
    {
      "cell_type": "markdown",
      "source": [
        "8. What is the purpose of the with statement when handling files in Python?\n",
        "\n",
        "    => The with statement in Python is used for context management, especially when working with files. Its main purpose is to ensure proper resource management, like automatically closing a file after its block of code is executed, even if an exception occurs.\n",
        "\n",
        "    **Why use with**:\n",
        "    - Avoids the need to explicitly call file.close().\n",
        "    - Makes code cleaner and safer.\n",
        "    - Handles exceptions gracefully while ensuring cleanup.\n",
        "\n",
        "    *Example*:\n",
        "\n",
        "    ```\n",
        "    with open(\"data.txt\", \"r\") as file:\n",
        "        content = file.read()\n",
        "        print(content)\n",
        "    # File is automatically closed here, even if an error occurred\n",
        "    ```\n",
        "    **Purpose**: Ensures automatic cleanup of resources (like files, network connections, or locks) without requiring manual closing, reducing the chance of errors.\n"
      ],
      "metadata": {
        "id": "_V3M-ClRwCx2"
      }
    },
    {
      "cell_type": "markdown",
      "source": [
        "9. What is the difference between multithreading and multiprocessing?\n",
        "\n",
        "    => Here is a clear comparison between multithreading and multiprocessing in Python.\n",
        "\n",
        "    #**Multithreading**:\n",
        "    - **Definition**: Multiple threads run concurrently within the same process.\n",
        "    - **Memory**: Threads share the same memory space.\n",
        "    - **Best for**: I/O-bound tasks (e.g., file operations, network requests).\n",
        "    - **Limitation in Python**: The Global Interpreter Lock (GIL) prevents multiple threads from executing Python bytecode in parallel, so CPU-bound tasks may not see much speedup.\n",
        "\n",
        "    *Example*:\n",
        "\n",
        "    ```\n",
        "    import threading\n",
        "\n",
        "    def task():\n",
        "        print(\"Thread task running\")\n",
        "\n",
        "    thread = threading.Thread(target=task)\n",
        "    thread.start()\n",
        "    thread.join()\n",
        "    ```\n",
        "\n",
        "    #**Multiprocessing**:\n",
        "    - **Definition**: Multiple processes run in parallel, each with its own memory space.\n",
        "    - **Memory**: Processes do not share memory unless explicitly done using shared objects.\n",
        "    - **Best for**: CPU-bound tasks (e.g., heavy computations).\n",
        "    - **Advantage**: Bypasses the GIL, allowing true parallel execution.\n",
        "\n",
        "    Example:\n",
        "\n",
        "    ```\n",
        "    from multiprocessing import Process\n",
        "\n",
        "    def task():\n",
        "        print(\"Process task running\")\n",
        "\n",
        "    process = Process(target=task)\n",
        "    process.start()\n",
        "    process.join()\n",
        "    ```\n",
        "\n",
        "\n",
        "\n",
        "\n",
        "\n",
        "\n",
        "\n"
      ],
      "metadata": {
        "id": "m4cky8KJwGSz"
      }
    },
    {
      "cell_type": "markdown",
      "source": [
        "10. What are the advantages of using logging in a program?\n",
        "   \n",
        "    => Using logging in a program offers several important advantages over simple print() statements:\n",
        "    - **Keeps a record**: Logs can be saved to files, databases, or remote servers for future reference. Useful for debugging, auditing, or tracking application behavior over time.\n",
        "    - **Provides severity levels**: Allows you to categorize messages as DEBUG, INFO, WARNING, ERROR, CRITICAL. Helps in filtering and prioritizing issues.\n",
        "    - **Better control**: You can configure what to log, where to log, and how to format it. Supports dynamic control without changing the code.\n",
        "    - **Non-intrusive**: Logging doesn't interfere with the program’s normal output like print() does. Can run silently in the background.\n",
        "    - **Helps in production debugging**: Provides detailed insights into program flow and errors without stopping the program.\n",
        "    - *Example*:\n",
        "\n",
        "      ```\n",
        "      import logging\n",
        "\n",
        "      logging.basicConfig(filename='app.log', level=logging.INFO)\n",
        "      logging.info(\"Program started\")\n",
        "      logging.error(\"An error occurred\")\n",
        "      ```\n",
        "\n"
      ],
      "metadata": {
        "id": "YClEl0kXwJvz"
      }
    },
    {
      "cell_type": "markdown",
      "source": [
        "11. What is memory management in Python?\n",
        "\n",
        "    => Memory management in Python refers to how Python allocates, tracks, and frees memory used by objects during program execution. Python handles most of this automatically, so developers don’t usually manage memory manually.\n",
        "\n",
        "    ***Key Points:***\n",
        "    - **Automatic Allocation**: When you create objects (like lists, dictionaries, etc.), Python automatically allocates memory for them.\n",
        "    - **Reference Counting**: Python keeps track of how many references point to an object. When an object's reference count drops to zero, it becomes eligible for garbage collection.\n",
        "    - **Garbage Collection**: Python has a garbage collector that frees memory by removing objects no longer in use. It also handles cyclic references (objects referencing each other).\n",
        "    - **Memory Pools**: Python uses internal memory pools (via the pymalloc allocator) to efficiently manage small objects.\n",
        "    - *Example*:\n",
        "\n",
        "      ```\n",
        "      a = [1, 2, 3]\n",
        "      b = a  # reference count of list increases\n",
        "      del a  # reference count decreases\n",
        "      # list still exists because 'b' references it\n",
        "      ```\n",
        "\n"
      ],
      "metadata": {
        "id": "1WV8-5K4wwh3"
      }
    },
    {
      "cell_type": "markdown",
      "source": [
        "12. What are the basic steps involved in exception handling in Python?\n",
        "\n",
        "    => The basic steps of exception handling in Python involve using the try, except, else, and finally blocks to manage errors gracefully. Here’s a clear breakdown:\n",
        "    - **try block**\n",
        "      - Write the code that might raise an exception inside the try block.  Python executes this code first.\n",
        "      - **Example**:\n",
        "\n",
        "        ```\n",
        "        try:\n",
        "            x = int(input(\"Enter a number: \"))\n",
        "            result = 10 / x\n",
        "        ```\n",
        "    - **except block**\n",
        "      - Handles specific exceptions if they occur in the try block. You can catch multiple exceptions using multiple except blocks or a tuple.\n",
        "      - *Example*:\n",
        "\n",
        "\n",
        "        ```\n",
        "        except ZeroDivisionError:\n",
        "            print(\"Cannot divide by zero!\")\n",
        "        except ValueError:\n",
        "            print(\"Invalid input\")\n",
        "        ```\n",
        "    - **else block (optional)**\n",
        "      - Executes only if no exception occurs in the try block.\n",
        "      - *Example*:\n",
        "\n",
        "        ```\n",
        "        else:\n",
        "            print(\"Result is:\", result)\n",
        "        ```\n",
        "    - **finally block (optional)**\n",
        "      - Executes always, whether an exception occurs or not. Useful for cleanup tasks like closing files or releasing resources.\n",
        "      - *Example*:\n",
        "\n",
        "        ```\n",
        "        finally:\n",
        "            print(\"Program ended.\")\n",
        "        ```\n",
        "\n",
        "\n",
        "\n",
        "\n",
        "\n",
        "\n",
        "\n"
      ],
      "metadata": {
        "id": "Z1tGbdmvwzNu"
      }
    },
    {
      "cell_type": "markdown",
      "source": [
        "13. Why is memory management important in Python?\n",
        "\n",
        "    => Memory management is important in Python because it ensures that your program uses system resources efficiently and prevents problems like memory leaks, crashes, or slow performance.\n",
        "\n",
        "    **Key reasons**:\n",
        "    - **Efficient Resource Use**: Python programs often create many objects. Proper memory management ensures memory is allocated and freed as needed.\n",
        "    - **Prevents Memory Leaks**: Objects no longer in use are removed by Python's garbage collector, freeing up memory.\n",
        "    - **Improves Performance**: Efficient memory handling reduces unnecessary memory usage and keeps programs fast and responsive.\n",
        "    - **Simplifies Development**: Developers don't need to manually allocate or free memory, reducing errors and complexity.\n",
        "    - **Handles Large Data**: Proper memory management is crucial when working with big datasets or long-running applications."
      ],
      "metadata": {
        "id": "_IBCAwtNw17p"
      }
    },
    {
      "cell_type": "markdown",
      "source": [
        "14. What is the role of try and except in exception handling?\n",
        "\n",
        "    => In Python's exception handling, the try and except blocks work together to handle runtime errors gracefully.\n",
        "    - **try block**\n",
        "      - Contains the code that might raise an exception.\n",
        "      - Python attempts to execute this code first.\n",
        "\n",
        "        ```\n",
        "        try:\n",
        "            x = int(input(\"Enter a number: \"))\n",
        "            result = 10 / x\n",
        "        ```\n",
        "    - **except block**\n",
        "      - Catches and handles the exception if one occurs in the try block.\n",
        "      - Prevents the program from crashing and allows you to respond appropriately.\n",
        "\n",
        "\n",
        "        ```\n",
        "        except ZeroDivisionError:\n",
        "            print(\"Cannot divide by zero!\")\n",
        "        except ValueError:\n",
        "            print(\"Invalid input!\")\n",
        "        ```\n",
        "\n",
        "\n",
        "\n"
      ],
      "metadata": {
        "id": "Wkhr8BFqw5N8"
      }
    },
    {
      "cell_type": "markdown",
      "source": [
        "15. How does Python's garbage collection system work?\n",
        "\n",
        "    => Python’s garbage collection (GC) system automatically manages memory by reclaiming objects that are no longer in use, so developers don’t have to manually free memory. It mainly uses **reference counting** combined with a **cycle detector** for **circular references**.\n",
        "\n",
        "    - **Reference Counting**\n",
        "      - Every object in Python has a reference count (number of references pointing to it).\n",
        "      - When an object is created, its reference count is 1.\n",
        "      - Each new reference increments the count; deleting a reference decrements it.\n",
        "      - When the reference count drops to 0, the memory for that object is automatically freed.\n",
        "\n",
        "\n",
        "        ```\n",
        "        a = [1, 2, 3]  # ref count = 1\n",
        "        b = a           # ref count = 2\n",
        "        del a           # ref count = 1\n",
        "        del b           # ref count = 0, object is deleted\n",
        "        ```\n",
        "\n",
        "    - **Handling Circular References**\n",
        "      - Some objects reference each other, creating cycles (e.g., a references b and b references a).\n",
        "      - Reference counting alone cannot clean these up.\n",
        "      - Python's garbage collector periodically detects and removes these cycles.\n",
        "      - This is done using the gc module.\n",
        "\n",
        "        ```\n",
        "        import gc\n",
        "        gc.collect()  # manually trigger garbage collection\n",
        "        ```\n",
        "\n"
      ],
      "metadata": {
        "id": "aDLigyVSw79N"
      }
    },
    {
      "cell_type": "markdown",
      "source": [
        "16. What is the purpose of the else block in exception handling?\n",
        "\n",
        "    => In Python's exception handling, the else block is an optional block that runs only if no exception occurs in the try block.\n",
        "\n",
        "    **Purpose**\n",
        "     - Execute code that should run only when the try block succeeds.\n",
        "     - Keeps success logic separate from exception handling, making code cleaner and more readable.\n",
        "\n",
        "     - *Example*:\n",
        "     \n",
        "          ```\n",
        "            try:\n",
        "                x = int(input(\"Enter a number: \"))\n",
        "                result = 10 / x\n",
        "            except ZeroDivisionError:\n",
        "                print(\"Cannot divide by zero!\")\n",
        "            except ValueError:\n",
        "                print(\"Invalid input!\")\n",
        "            else:\n",
        "                print(\"Result is:\", result)  # Runs only if no exception occurs\n",
        "          ```\n",
        "\n"
      ],
      "metadata": {
        "id": "qFgjPnD3w_dO"
      }
    },
    {
      "cell_type": "markdown",
      "source": [
        "17. What are the common logging levels in Python?\n",
        "\n",
        "    => Python’s logging module provides several standard logging levels to indicate the severity of events in a program. Here are the common levels:\n",
        "\n",
        "    - DEBUG: (Lowest)\n",
        "      - Detailed information, useful for diagnosing problems.\n",
        "    - INFO: (Low)\n",
        "      - General information about program execution.\n",
        "    - WARNING: (Medium)\n",
        "      - An indication of potential problems or unexpected situations.\n",
        "    - ERROR: (High)\n",
        "       - Serious issues that prevent a part of the program from running correctly.\n",
        "    - CRITICAL: (Highest)\n",
        "      - Very severe errors that may cause the program to terminate.\n",
        "\n",
        "    *Example*:\n",
        "\n",
        "      ```\n",
        "              import logging\n",
        "\n",
        "              logging.basicConfig(level=logging.DEBUG)\n",
        "\n",
        "              logging.debug(\"Debugging information\")\n",
        "              logging.info(\"Program started\")\n",
        "              logging.warning(\"This is a warning\")\n",
        "              logging.error(\"An error occurred\")\n",
        "              logging.critical(\"Critical issue!\")\n",
        "      ```\n",
        "\n",
        "\n",
        "\n"
      ],
      "metadata": {
        "id": "KXExQp29xCDG"
      }
    },
    {
      "cell_type": "markdown",
      "source": [
        "18. What is the difference between os.fork() and multiprocessing in Python?\n",
        "\n",
        "    => Here is a clear comparison between os.fork() and multiprocessing in Python:\n",
        "    \n",
        "    - **os.fork()**\n",
        "      - **Definition**: Creates a new child process by duplicating the current process.\n",
        "      - **Platform**: Only available on Unix/Linux systems, not on Windows.\n",
        "      - **Memory**: Child process gets a copy of the parent's memory (copy-on-write), but memory is not shared.\n",
        "      - **Control**: Low-level process creation; you need to manually handle inter-process communication (IPC) if needed.\n",
        "      - Example:\n",
        "\n",
        "\n",
        "        ```\n",
        "        import os\n",
        "\n",
        "        pid = os.fork()\n",
        "        if pid == 0:\n",
        "            print(\"Child process\")\n",
        "        else:\n",
        "            print(\"Parent process\")\n",
        "        ```\n",
        "\n",
        "    - **multiprocessing module**\n",
        "      - **Definition**: High-level module for creating and managing processes.\n",
        "      - **Platform**: Works on both Unix/Linux and Windows.\n",
        "      - **Memory**: Each process has its own memory space, but the module provides tools for shared memory and communication (Queue, Pipe, Value, Array).\n",
        "      - **Control**: Easier to use and manage; comes with Process class, Pools, and synchronization primitives.\n",
        "      - *Example*:\n",
        "\n",
        "        ```\n",
        "        from multiprocessing import Process\n",
        "\n",
        "        def task():\n",
        "            print(\"Process running\")\n",
        "\n",
        "        p = Process(target=task)\n",
        "        p.start()\n",
        "        p.join()\n",
        "        ```\n",
        "\n",
        "\n",
        "\n",
        "\n"
      ],
      "metadata": {
        "id": "erbLx37fxEnm"
      }
    },
    {
      "cell_type": "markdown",
      "source": [
        "19. What is the importance of closing a file in Python?\n",
        "\n",
        "    => Closing a file in Python is important for proper resource management and program reliability.\n",
        "\n",
        "    ##### **Reasons to close a file:**\n",
        "     - **Free system resources**: Open files consume memory and file descriptors. Closing releases them for other programs.\n",
        "     - **Ensure data is written**: When writing to a file, data is often buffered. file.close() flushes the buffer, ensuring all data is actually saved.\n",
        "     - **Avoid file corruption**: Leaving files open for a long time can lead to data loss or corruption, especially if the program crashes.\n",
        "     - **Prevent reaching system limits**: Most operating systems limit the number of files a program can open. Closing files avoids hitting this limit.\n",
        "     - Example:\n",
        "\n",
        "        ```\n",
        "        # Without with statement\n",
        "        f = open(\"data.txt\", \"w\")\n",
        "        f.write(\"Hello, Python!\")\n",
        "        f.close()  # Important to close\n",
        "\n",
        "        # With with statement (automatically closes)\n",
        "        with open(\"data.txt\", \"w\") as f:\n",
        "            f.write(\"Hello again!\")\n",
        "        ```\n",
        "\n"
      ],
      "metadata": {
        "id": "un9Lp0O4xHr5"
      }
    },
    {
      "cell_type": "markdown",
      "source": [
        "20. What is the difference between file.read() and file.readline() in Python?\n",
        "\n",
        "    => Here’s the difference between file.read() and file.readline() in Python:\n",
        "    - **file.read()**\n",
        "      - Reads the entire content of the file (or a specified number of characters).\n",
        "      - Returns the content as a single string.\n",
        "      - Can consume a lot of memory for large files.\n",
        "\n",
        "        ```\n",
        "        with open(\"data.txt\", \"r\") as f:\n",
        "            content = f.read()\n",
        "            print(content)\n",
        "        ```\n",
        "\n",
        "    - **file.readline()**\n",
        "      - Reads one line at a time from the file.\n",
        "      - Returns the line as a string including the newline character (\\n).\n",
        "      - Useful for large files, as it doesn’t load the entire file into memory.\n",
        "\n",
        "        ```\n",
        "        with open(\"data.txt\", \"r\") as f:\n",
        "            line = f.readline()\n",
        "            while line:\n",
        "                print(line, end=\"\")\n",
        "                line = f.readline()\n",
        "        ```\n",
        "\n",
        "\n",
        "\n"
      ],
      "metadata": {
        "id": "m3imU6D-xMSd"
      }
    },
    {
      "cell_type": "markdown",
      "source": [
        "21. What is the logging module in Python used for?\n",
        "\n",
        "    => The logging module in Python is used to record messages about a program’s execution, helping developers track events, debug issues, and monitor applications. Unlike print(), logging can write messages to files, consoles, or remote servers and supports different severity levels.\n",
        "    ##### **Key Uses**:\n",
        "     - **Debugging**: Record detailed information about program flow and variable values.\n",
        "     - **Error** tracking: Log exceptions and errors without stopping program execution.\n",
        "     - **Monitoring**: Track application behavior in production.\n",
        "     - **Auditing**: Maintain a history of important events for analysis."
      ],
      "metadata": {
        "id": "_iRbWFtcxNoA"
      }
    },
    {
      "cell_type": "markdown",
      "source": [
        "22. What is the os module in Python used for in file handling?\n",
        "\n",
        "    => The os module in Python provides a way to interact with the operating system, including performing file and directory operations that go beyond basic reading and writing.\n",
        "\n",
        "    ##### **Common Uses in File Handling**:\n",
        "     - **File and directory management**\n",
        "       - os.mkdir() – create a directory\n",
        "       - os.makedirs() – create nested directories\n",
        "       - os.remove() – delete a file\n",
        "       - os.rmdir() – remove an empty directory\n",
        "       - os.rename() – rename a file or directory\n",
        "\n",
        "    - **Path operations**\n",
        "      - os.path.exists() – check if a file/directory exists\n",
        "      - os.path.join() – join paths in a platform-independent way\n",
        "      - os.path.isfile() / os.path.isdir() – check type\n",
        "\n",
        "    - **Listing contents**\n",
        "      - os.listdir() – list files and directories in a folder\n",
        "\n",
        "      ***Example***:\n",
        "\n",
        "\n",
        "        ```\n",
        "        import os\n",
        "\n",
        "        # Create a new directory\n",
        "        os.mkdir(\"my_folder\")\n",
        "\n",
        "        # Check if a file exists\n",
        "        if os.path.exists(\"data.txt\"):\n",
        "            print(\"File exists\")\n",
        "\n",
        "        # List all files in current directory\n",
        "        print(os.listdir(\".\"))\n",
        "        ```\n",
        "\n",
        "\n"
      ],
      "metadata": {
        "id": "eX-jTm5HxSp5"
      }
    },
    {
      "cell_type": "markdown",
      "source": [
        "23. What are the challenges associated with memory management in Python?\n",
        "\n",
        "    => Memory management in Python is mostly automatic, but there are still challenges and limitations that developers should be aware of:\n",
        "    \n",
        "    - **Reference cycles**\n",
        "      - Objects referencing each other (circular references) may not be freed immediately.\n",
        "      - Python’s garbage collector handles cycles, but detection can add overhead.\n",
        "      \n",
        "    - **Memory leaks**\n",
        "      - If references to unused objects persist (e.g., in global lists or caches), memory isn’t released.\n",
        "      - Can happen in long-running applications like web servers.\n",
        "\n",
        "    - **High memory usage for large data**\n",
        "      - Storing large objects (like big lists, dictionaries, or images) can consume a lot of memory.\n",
        "      - Python doesn’t always release memory back to the OS immediately.\n",
        "\n",
        "    - **Garbage collection overhead**\n",
        "      - Automatic garbage collection can pause execution briefly, which may affect performance in real-time systems.\n",
        "    - **Inefficient memory for small objects**\n",
        "    - Python uses memory pools (pymalloc) for efficiency, but it can sometimes fragment memory, especially in programs creating and deleting many small objects."
      ],
      "metadata": {
        "id": "z5QsR3T-xWbH"
      }
    },
    {
      "cell_type": "markdown",
      "source": [
        "24. How do you raise an exception manually in Python?\n",
        "\n",
        "    => In Python, you can raise an exception manually using the raise statement. This is useful when you want to signal that an error or unexpected condition has occurred.\n",
        "\n",
        "    **Syntax**:\n",
        "\n",
        "      ```\n",
        "      raise ExceptionType(\"Error message\")\n",
        "      ```\n",
        "\n",
        "\n",
        "    - ExceptionType – the type of exception (e.g., ValueError, TypeError, or a custom exception).\n",
        "    - \"Error message\" – optional descriptive message.\n",
        "\n",
        "    **Examples**:\n",
        "\n",
        "    - **Raising a built-in exception**\n",
        "\n",
        "        ```\n",
        "        def divide(a, b):\n",
        "            if b == 0:\n",
        "                raise ZeroDivisionError(\"Cannot divide by zero\")\n",
        "            return a / b\n",
        "\n",
        "        result = divide(10, 0)  # Raises ZeroDivisionError\n",
        "        ```\n",
        "\n",
        "    - **Raising a custom exception**\n",
        "\n",
        "        ```\n",
        "            class MyError(Exception):\n",
        "                pass\n",
        "\n",
        "            raise MyError(\"Something went wrong!\")  # Raises custom exception\n",
        "        ```\n",
        "\n",
        "\n"
      ],
      "metadata": {
        "id": "x9i7_l6ixZJV"
      }
    },
    {
      "cell_type": "markdown",
      "source": [
        "25. Why is it important to use multithreading in certain applications?\n",
        "\n",
        "    => Multithreading is important in certain applications because it allows a program to perform multiple tasks concurrently, improving responsiveness and efficiency, especially for I/O-bound operations.\n",
        "\n",
        "    #**Key Reasons to Use Multithreading**:\n",
        "      - **Improved responsiveness**\n",
        "        - In GUI or server applications, threads can handle user input or requests while other tasks run in the background.\n",
        "\n",
        "    - **Efficient I/O operations**\n",
        "      - Threads can perform tasks like reading/writing files, network requests, or database queries without blocking the main program.\n",
        "\n",
        "    - **Better resource utilization**\n",
        "      - On systems with multiple CPU cores, threads can help utilize idle time (though Python’s GIL limits true parallelism for CPU-bound tasks).\n",
        "      \n",
        "    - **Simpler program structure for concurrency**\n",
        "      - Easier to implement concurrent tasks compared to creating multiple processes, especially when sharing memory is needed.\n",
        "\n",
        "    - Example:\n",
        "\n",
        "      ```\n",
        "      import threading\n",
        "      import time\n",
        "\n",
        "      def task(name):\n",
        "          print(f\"Task {name} starting\")\n",
        "          time.sleep(2)\n",
        "          print(f\"Task {name} finished\")\n",
        "\n",
        "      t1 = threading.Thread(target=task, args=(\"A\",))\n",
        "      t2 = threading.Thread(target=task, args=(\"B\",))\n",
        "      t1.start()\n",
        "      t2.start()\n",
        "      t1.join()\n",
        "      t2.join()\n",
        "      ```\n",
        "\n",
        "\n"
      ],
      "metadata": {
        "id": "ELT-NOWzxbuR"
      }
    },
    {
      "cell_type": "markdown",
      "source": [
        "# Practical Questions"
      ],
      "metadata": {
        "id": "5aq9vQiLxftG"
      }
    },
    {
      "cell_type": "code",
      "execution_count": 3,
      "metadata": {
        "colab": {
          "base_uri": "https://localhost:8080/"
        },
        "id": "l6Raiwl5vNHE",
        "outputId": "2fad44ec-ad35-47f8-8b54-2a17644521fc"
      },
      "outputs": [
        {
          "output_type": "stream",
          "name": "stdout",
          "text": [
            "Hello, Python!\n"
          ]
        }
      ],
      "source": [
        "#1. How can you open a file for writing in Python and write a string to it?\n",
        "\n",
        "# Write to the file\n",
        "with open(\"/content/example.txt\", \"w\") as file:\n",
        "    file.write(\"Hello, Python!\")\n",
        "\n",
        "# Read and display the file content\n",
        "with open(\"/content/example.txt\", \"r\") as file:\n",
        "    print(file.read())"
      ]
    },
    {
      "cell_type": "code",
      "source": [
        "#2. Write a Python program to read the contents of a file and print each line?\n",
        "with open(\"/content/test.txt\", \"w\") as file:\n",
        "    file.write(\"Hello, Python!\\nHello, PHP!\\nHello, Java!\")\n",
        "\n",
        "with open(\"/content/test.txt\", \"r\") as file:\n",
        "    for line in file:\n",
        "        print(line, end=\"\")"
      ],
      "metadata": {
        "colab": {
          "base_uri": "https://localhost:8080/"
        },
        "id": "cq-gROSAxri6",
        "outputId": "7d8c8cca-1d6e-4ac4-a173-bbf874bd1886"
      },
      "execution_count": 5,
      "outputs": [
        {
          "output_type": "stream",
          "name": "stdout",
          "text": [
            "Hello, Python!\n",
            "Hello, PHP!\n",
            "Hello, Java!"
          ]
        }
      ]
    },
    {
      "cell_type": "code",
      "source": [
        "#3. How would you handle a case where the file doesn't exist while trying to open it for reading?\n",
        "try:\n",
        "    with open(\"example2.txt\", \"r\") as file:\n",
        "        for line in file:\n",
        "            print(line, end=\"\")\n",
        "except FileNotFoundError:\n",
        "    print(\"The file does not exist.\")"
      ],
      "metadata": {
        "colab": {
          "base_uri": "https://localhost:8080/"
        },
        "id": "xycayZ6rxuM5",
        "outputId": "c65c74cf-9dec-4464-e1b2-13dbab4da657"
      },
      "execution_count": 7,
      "outputs": [
        {
          "output_type": "stream",
          "name": "stdout",
          "text": [
            "The file does not exist.\n"
          ]
        }
      ]
    },
    {
      "cell_type": "code",
      "source": [
        "#4. Write a Python script that reads from one file and writes its content to another file?\n",
        "# Create the file\n",
        "with open(\"source.txt\", \"w\") as file:\n",
        "    file.write(\"Hello, Good morning!\")\n",
        "\n",
        "# Read from source file and write to destination file\n",
        "with open(\"source.txt\", \"r\") as src, open(\"destination.txt\", \"w\") as dest:\n",
        "    for line in src:\n",
        "        dest.write(line)\n",
        "\n",
        "# Read the destination file\n",
        "with open(\"destination.txt\", \"r\") as file:\n",
        "    print(file.read())"
      ],
      "metadata": {
        "colab": {
          "base_uri": "https://localhost:8080/"
        },
        "id": "Lj4cjofXxzwG",
        "outputId": "b4f1d2b4-cf3f-406c-e08f-fa8b490771ac"
      },
      "execution_count": 11,
      "outputs": [
        {
          "output_type": "stream",
          "name": "stdout",
          "text": [
            "Hello, Good morning!\n"
          ]
        }
      ]
    },
    {
      "cell_type": "code",
      "source": [
        "#5. How would you catch and handle division by zero error in Python?\n",
        "\n",
        "try:\n",
        "    x = 10\n",
        "    y = 0\n",
        "    result = x / y\n",
        "except ZeroDivisionError:\n",
        "    print(\"Error: Cannot divide by zero.\")"
      ],
      "metadata": {
        "colab": {
          "base_uri": "https://localhost:8080/"
        },
        "id": "b5R3HGBbx1Yx",
        "outputId": "285b63fa-9cdc-408e-8f9f-9eeb056a84ea"
      },
      "execution_count": 12,
      "outputs": [
        {
          "output_type": "stream",
          "name": "stdout",
          "text": [
            "Error: Cannot divide by zero.\n"
          ]
        }
      ]
    },
    {
      "cell_type": "code",
      "source": [
        "#6. Write a Python program that logs an error message to a log file when a division by zero exception occurs?\n",
        "import logging\n",
        "\n",
        "# Configure logging\n",
        "logging.basicConfig(filename=\"error.log\", level=logging.ERROR,\n",
        "                    format=\"%(asctime)s - %(levelname)s - %(message)s\")\n",
        "\n",
        "try:\n",
        "    x = 10\n",
        "    y = 0\n",
        "    result = x / y\n",
        "except ZeroDivisionError as e:\n",
        "    logging.error(\"Division by zero error occurred: %s\", e)"
      ],
      "metadata": {
        "colab": {
          "base_uri": "https://localhost:8080/"
        },
        "id": "hM0uW8Kmx44e",
        "outputId": "095da864-35a5-46b6-b37d-973c98b232ff"
      },
      "execution_count": 13,
      "outputs": [
        {
          "output_type": "stream",
          "name": "stderr",
          "text": [
            "ERROR:root:Division by zero error occurred: division by zero\n"
          ]
        }
      ]
    },
    {
      "cell_type": "code",
      "source": [
        "#7. How do you log information at different levels (INFO, ERROR, WARNING) in Python using the logging module?\n",
        "import logging\n",
        "\n",
        "# Configure logging\n",
        "logging.basicConfig(filename=\"app.log\", level=logging.DEBUG,\n",
        "                    format=\"%(asctime)s - %(levelname)s - %(message)s\")\n",
        "\n",
        "# Logging at different levels\n",
        "logging.info(\"This is an info message.\")\n",
        "logging.warning(\"This is a warning message.\")\n",
        "logging.error(\"This is an error message.\")"
      ],
      "metadata": {
        "colab": {
          "base_uri": "https://localhost:8080/"
        },
        "id": "HYMW13hDx8GF",
        "outputId": "0743d352-8b74-42fb-e565-06474e4ca604"
      },
      "execution_count": 14,
      "outputs": [
        {
          "output_type": "stream",
          "name": "stderr",
          "text": [
            "WARNING:root:This is a warning message.\n",
            "ERROR:root:This is an error message.\n"
          ]
        }
      ]
    },
    {
      "cell_type": "code",
      "source": [
        "#8. Write a program to handle a file opening error using exception handling?\n",
        "try:\n",
        "    with open(\"non_existent_file.txt\", \"r\") as file:\n",
        "        content = file.read()\n",
        "        print(content)\n",
        "except FileNotFoundError:\n",
        "    print(\"Error: The file does not exist.\")\n",
        "except IOError:\n",
        "    print(\"Error: Cannot open the file.\")"
      ],
      "metadata": {
        "colab": {
          "base_uri": "https://localhost:8080/"
        },
        "id": "qpUQJShjx_kE",
        "outputId": "7c97f55b-5826-41b8-8683-34eb60d80be7"
      },
      "execution_count": 15,
      "outputs": [
        {
          "output_type": "stream",
          "name": "stdout",
          "text": [
            "Error: The file does not exist.\n"
          ]
        }
      ]
    },
    {
      "cell_type": "code",
      "source": [
        "#9. How can you read a file line by line and store its content in a list in Python?\n",
        "lines = []\n",
        "with open(\"example.txt\", \"r\") as file:\n",
        "    for line in file:\n",
        "        lines.append(line.strip())  # Remove newline characters\n",
        "\n",
        "print(lines)"
      ],
      "metadata": {
        "colab": {
          "base_uri": "https://localhost:8080/"
        },
        "id": "XeMrVGE0yClg",
        "outputId": "07d2bcf2-2f7a-4928-c0de-480141b3aef6"
      },
      "execution_count": 16,
      "outputs": [
        {
          "output_type": "stream",
          "name": "stdout",
          "text": [
            "['Hello, Python!']\n"
          ]
        }
      ]
    },
    {
      "cell_type": "code",
      "source": [
        "#10. How can you append data to an existing file in Python?\n",
        "with open(\"example.txt\", \"a\") as file:\n",
        "    file.write(\"This is a new line appended.\\n\")\n",
        "\n",
        "#read the appended file\n",
        "\n",
        "with open('example.txt', 'r') as file:\n",
        "  print(file.read())\n",
        "\n"
      ],
      "metadata": {
        "colab": {
          "base_uri": "https://localhost:8080/"
        },
        "id": "TKoLB7i7yFvB",
        "outputId": "14fb0ea4-1260-434c-d121-2d5f9f2024b9"
      },
      "execution_count": 21,
      "outputs": [
        {
          "output_type": "stream",
          "name": "stdout",
          "text": [
            "Hello, Python!This is a new line appended.\n",
            "This is a new line appended.\n",
            "This is a new line appended.\n",
            "This is a new line appended.\n",
            "\n"
          ]
        }
      ]
    },
    {
      "cell_type": "code",
      "source": [
        "#11. Write a Python program that uses a try-except block to handle an error when attempting to access a dictionary key that doesn't exist?\n",
        "my_dict = {\"name\": \"Alice\", \"age\": 25}\n",
        "\n",
        "try:\n",
        "    value = my_dict[\"address\"]\n",
        "except KeyError:\n",
        "    print(\"Error: Key does not exist in the dictionary.\")"
      ],
      "metadata": {
        "colab": {
          "base_uri": "https://localhost:8080/"
        },
        "id": "VjKn17wtyIyg",
        "outputId": "a0e5769d-cec4-4500-9b31-7eb03c43f001"
      },
      "execution_count": 22,
      "outputs": [
        {
          "output_type": "stream",
          "name": "stdout",
          "text": [
            "Error: Key does not exist in the dictionary.\n"
          ]
        }
      ]
    },
    {
      "cell_type": "code",
      "source": [
        "#12. Write a program that demonstrates using multiple except blocks to handle different types of exceptions?\n",
        "try:\n",
        "    x = int(input(\"Enter a number: \"))\n",
        "    result = 10 / x\n",
        "except ZeroDivisionError:\n",
        "    print(\"Error: Cannot divide by zero.\")\n",
        "except ValueError:\n",
        "    print(\"Error: Invalid input, please enter a number.\")\n",
        "except Exception as e:\n",
        "    print(\"An unexpected error occurred:\", e)"
      ],
      "metadata": {
        "colab": {
          "base_uri": "https://localhost:8080/"
        },
        "id": "Hp007WuHyNb_",
        "outputId": "2b1473c0-51eb-4fa6-f1a8-f511db46d140"
      },
      "execution_count": 25,
      "outputs": [
        {
          "output_type": "stream",
          "name": "stdout",
          "text": [
            "Enter a number: w]\n",
            "Error: Invalid input, please enter a number.\n"
          ]
        }
      ]
    },
    {
      "cell_type": "code",
      "source": [
        "#13. How would you check if a file exists before attempting to read it in Python?\n",
        "import os\n",
        "\n",
        "filename = \"example.txt\"\n",
        "\n",
        "if os.path.exists(filename):\n",
        "    with open(filename, \"r\") as file:\n",
        "        content = file.read()\n",
        "        print(content)\n",
        "else:\n",
        "    print(\"The file does not exist.\")"
      ],
      "metadata": {
        "colab": {
          "base_uri": "https://localhost:8080/"
        },
        "id": "E6g1WpyLyQYw",
        "outputId": "2d9a94f0-a3f2-49bd-ace0-b29ac5c2909b"
      },
      "execution_count": 26,
      "outputs": [
        {
          "output_type": "stream",
          "name": "stdout",
          "text": [
            "Hello, Python!This is a new line appended.\n",
            "This is a new line appended.\n",
            "This is a new line appended.\n",
            "This is a new line appended.\n",
            "\n"
          ]
        }
      ]
    },
    {
      "cell_type": "code",
      "source": [
        "#14. Write a program that uses the logging module to log both informational and error messages?\n",
        "import logging\n",
        "\n",
        "# Configure logging\n",
        "logging.basicConfig(filename=\"app.log\", level=logging.DEBUG,\n",
        "                    format=\"%(asctime)s - %(levelname)s - %(message)s\")\n",
        "\n",
        "# Log informational message\n",
        "logging.info(\"Program started successfully.\")\n",
        "\n",
        "try:\n",
        "    x = 10\n",
        "    y = 0\n",
        "    result = x / y\n",
        "except ZeroDivisionError:\n",
        "    logging.error(\"Division by zero occurred.\")\n",
        "\n",
        "logging.info(\"Program ended.\")"
      ],
      "metadata": {
        "colab": {
          "base_uri": "https://localhost:8080/"
        },
        "id": "1kPxnNQUyT01",
        "outputId": "744325e2-87b7-4f6c-f51a-b433d084d9a3"
      },
      "execution_count": 27,
      "outputs": [
        {
          "output_type": "stream",
          "name": "stderr",
          "text": [
            "ERROR:root:Division by zero occurred.\n"
          ]
        }
      ]
    },
    {
      "cell_type": "code",
      "source": [
        "#15. Write a Python program that prints the content of a file and handles the case when the file is empty?\n",
        "filename = \"example.txt\"\n",
        "\n",
        "try:\n",
        "    with open(filename, \"r\") as file:\n",
        "        content = file.read()\n",
        "        if content:\n",
        "            print(content)\n",
        "        else:\n",
        "            print(\"The file is empty.\")\n",
        "except FileNotFoundError:\n",
        "    print(\"The file does not exist.\")"
      ],
      "metadata": {
        "colab": {
          "base_uri": "https://localhost:8080/"
        },
        "id": "SjmRtiCKymeS",
        "outputId": "d3a4c696-c269-41d7-ef34-301ff40b6e7b"
      },
      "execution_count": 28,
      "outputs": [
        {
          "output_type": "stream",
          "name": "stdout",
          "text": [
            "Hello, Python!This is a new line appended.\n",
            "This is a new line appended.\n",
            "This is a new line appended.\n",
            "This is a new line appended.\n",
            "\n"
          ]
        }
      ]
    },
    {
      "cell_type": "code",
      "source": [
        "#16. Demonstrate how to use memory profiling to check the memory usage of a small program?\n",
        "\n",
        "## NEED TO INSTALL THE memory-profiler\n",
        "from memory_profiler import profile\n",
        "\n",
        "@profile\n",
        "def my_function():\n",
        "    a = [i for i in range(10000)]\n",
        "    b = [i*i for i in range(10000)]\n",
        "    c = a + b\n",
        "    return c\n",
        "\n",
        "if __name__ == \"__main__\":\n",
        "    my_function()"
      ],
      "metadata": {
        "colab": {
          "base_uri": "https://localhost:8080/",
          "height": 393
        },
        "collapsed": true,
        "id": "vANCg9cNypwr",
        "outputId": "a64ae1e0-188d-45dc-811e-8db628d27070"
      },
      "execution_count": 30,
      "outputs": [
        {
          "output_type": "error",
          "ename": "ModuleNotFoundError",
          "evalue": "No module named 'memory_profiler'",
          "traceback": [
            "\u001b[0;31m---------------------------------------------------------------------------\u001b[0m",
            "\u001b[0;31mModuleNotFoundError\u001b[0m                       Traceback (most recent call last)",
            "\u001b[0;32m/tmp/ipython-input-2711496354.py\u001b[0m in \u001b[0;36m<cell line: 0>\u001b[0;34m()\u001b[0m\n\u001b[1;32m      1\u001b[0m \u001b[0;31m#16. Demonstrate how to use memory profiling to check the memory usage of a small program?\u001b[0m\u001b[0;34m\u001b[0m\u001b[0;34m\u001b[0m\u001b[0m\n\u001b[1;32m      2\u001b[0m \u001b[0;34m\u001b[0m\u001b[0m\n\u001b[0;32m----> 3\u001b[0;31m \u001b[0;32mfrom\u001b[0m \u001b[0mmemory_profiler\u001b[0m \u001b[0;32mimport\u001b[0m \u001b[0mprofile\u001b[0m\u001b[0;34m\u001b[0m\u001b[0;34m\u001b[0m\u001b[0m\n\u001b[0m\u001b[1;32m      4\u001b[0m \u001b[0;34m\u001b[0m\u001b[0m\n\u001b[1;32m      5\u001b[0m \u001b[0;34m@\u001b[0m\u001b[0mprofile\u001b[0m\u001b[0;34m\u001b[0m\u001b[0;34m\u001b[0m\u001b[0m\n",
            "\u001b[0;31mModuleNotFoundError\u001b[0m: No module named 'memory_profiler'",
            "",
            "\u001b[0;31m---------------------------------------------------------------------------\u001b[0;32m\nNOTE: If your import is failing due to a missing package, you can\nmanually install dependencies using either !pip or !apt.\n\nTo view examples of installing some common dependencies, click the\n\"Open Examples\" button below.\n\u001b[0;31m---------------------------------------------------------------------------\u001b[0m\n"
          ],
          "errorDetails": {
            "actions": [
              {
                "action": "open_url",
                "actionText": "Open Examples",
                "url": "/notebooks/snippets/importing_libraries.ipynb"
              }
            ]
          }
        }
      ]
    },
    {
      "cell_type": "code",
      "source": [
        "#17. Write a Python program to create and write a list of numbers to a file, one number per line?\n",
        "numbers = [1, 2, 3, 4, 5]\n",
        "\n",
        "with open(\"numbers.txt\", \"w\") as file:\n",
        "    for number in numbers:\n",
        "        file.write(f\"{number}\\n\")\n",
        "\n",
        "with open(\"numbers.txt\",\"r\") as file:\n",
        "  print(file.read())"
      ],
      "metadata": {
        "colab": {
          "base_uri": "https://localhost:8080/"
        },
        "id": "rjHJ8OWMytCB",
        "outputId": "c57ec7e5-ebb4-47ee-fe59-f58fd437b0be"
      },
      "execution_count": 33,
      "outputs": [
        {
          "output_type": "stream",
          "name": "stdout",
          "text": [
            "1\n",
            "2\n",
            "3\n",
            "4\n",
            "5\n",
            "\n"
          ]
        }
      ]
    },
    {
      "cell_type": "code",
      "source": [
        "#18. How would you implement a basic logging setup that logs to a file with rotation after 1MB?\n",
        "import logging\n",
        "from logging.handlers import RotatingFileHandler\n",
        "\n",
        "# Create a rotating file handler\n",
        "handler = RotatingFileHandler(\"app.log\", maxBytes=1_000_000, backupCount=5)\n",
        "formatter = logging.Formatter(\"%(asctime)s - %(levelname)s - %(message)s\")\n",
        "handler.setFormatter(formatter)\n",
        "\n",
        "# Configure logger\n",
        "logger = logging.getLogger()\n",
        "logger.setLevel(logging.INFO)\n",
        "logger.addHandler(handler)\n",
        "\n",
        "# Example logs\n",
        "logger.info(\"Program started\")\n",
        "logger.warning(\"This is a warning message\")\n",
        "logger.error(\"This is an error message\")"
      ],
      "metadata": {
        "colab": {
          "base_uri": "https://localhost:8080/"
        },
        "id": "WQPwbnhCyw-G",
        "outputId": "6aa5b13d-f86b-4395-9e69-8e0ecb4e5bd6"
      },
      "execution_count": 34,
      "outputs": [
        {
          "output_type": "stream",
          "name": "stderr",
          "text": [
            "INFO:root:Program started\n",
            "WARNING:root:This is a warning message\n",
            "ERROR:root:This is an error message\n"
          ]
        }
      ]
    },
    {
      "cell_type": "code",
      "source": [
        "#19. Write a program that handles both IndexError and KeyError using a try-except block?\n",
        "my_list = [1, 2, 3]\n",
        "my_dict = {\"a\": 10, \"b\": 20}\n",
        "\n",
        "try:\n",
        "    print(my_list[5])        # May raise IndexError\n",
        "    print(my_dict[\"c\"])      # May raise KeyError\n",
        "except IndexError:\n",
        "    print(\"Error: List index out of range.\")\n",
        "except KeyError:\n",
        "    print(\"Error: Key does not exist in the dictionary.\")"
      ],
      "metadata": {
        "colab": {
          "base_uri": "https://localhost:8080/"
        },
        "id": "uabfm8LVzBZD",
        "outputId": "fa7ec694-f613-4726-9ec1-111f7037ca93"
      },
      "execution_count": 35,
      "outputs": [
        {
          "output_type": "stream",
          "name": "stdout",
          "text": [
            "Error: List index out of range.\n"
          ]
        }
      ]
    },
    {
      "cell_type": "code",
      "source": [
        "#20. How would you open a file and read its contents using a context manager in Python?\n",
        "with open(\"example.txt\", \"r\") as file:\n",
        "    content = file.read()\n",
        "    print(content)"
      ],
      "metadata": {
        "colab": {
          "base_uri": "https://localhost:8080/"
        },
        "id": "OzCLIZcEzEcW",
        "outputId": "5425f6de-3b25-49a6-fd86-4cb02d19919f"
      },
      "execution_count": 36,
      "outputs": [
        {
          "output_type": "stream",
          "name": "stdout",
          "text": [
            "Hello, Python!This is a new line appended.\n",
            "This is a new line appended.\n",
            "This is a new line appended.\n",
            "This is a new line appended.\n",
            "\n"
          ]
        }
      ]
    },
    {
      "cell_type": "code",
      "source": [
        "#21. Write a Python program that reads a file and prints the number of occurrences of a specific word?\n",
        "filename = \"example.txt\"\n",
        "word_to_count = \"Python\"\n",
        "count = 0\n",
        "\n",
        "with open(filename, \"r\") as file:\n",
        "    for line in file:\n",
        "        count += line.lower().split().count(word_to_count.lower())\n",
        "\n",
        "print(f\"The word '{word_to_count}' occurs {count} times in the file.\")"
      ],
      "metadata": {
        "colab": {
          "base_uri": "https://localhost:8080/"
        },
        "id": "qajCk9YTzIE0",
        "outputId": "fc8fc9a5-ac6e-40b0-ca11-7c42dfd9fd8a"
      },
      "execution_count": 37,
      "outputs": [
        {
          "output_type": "stream",
          "name": "stdout",
          "text": [
            "The word 'Python' occurs 0 times in the file.\n"
          ]
        }
      ]
    },
    {
      "cell_type": "code",
      "source": [
        "#22. How can you check if a file is empty before attempting to read its contents?\n",
        "import os\n",
        "\n",
        "filename = \"example.txt\"\n",
        "\n",
        "if os.path.exists(filename) and os.path.getsize(filename) > 0:\n",
        "    with open(filename, \"r\") as file:\n",
        "        content = file.read()\n",
        "        print(content)\n",
        "else:\n",
        "    print(\"The file is either empty or does not exist.\")"
      ],
      "metadata": {
        "colab": {
          "base_uri": "https://localhost:8080/"
        },
        "id": "Erb4q-AKzLXd",
        "outputId": "ec6fc47a-120c-4952-f06d-446ab2b6d9fb"
      },
      "execution_count": 38,
      "outputs": [
        {
          "output_type": "stream",
          "name": "stdout",
          "text": [
            "Hello, Python!This is a new line appended.\n",
            "This is a new line appended.\n",
            "This is a new line appended.\n",
            "This is a new line appended.\n",
            "\n"
          ]
        }
      ]
    },
    {
      "cell_type": "code",
      "source": [
        "#23. Write a Python program that writes to a log file when an error occurs during file handling.\n",
        "import logging\n",
        "\n",
        "# Configure logging\n",
        "logging.basicConfig(filename=\"file_errors.log\", level=logging.ERROR,\n",
        "                    format=\"%(asctime)s - %(levelname)s - %(message)s\")\n",
        "\n",
        "filename = \"non_existent_file.txt\"\n",
        "\n",
        "try:\n",
        "    with open(filename, \"r\") as file:\n",
        "        content = file.read()\n",
        "except Exception as e:\n",
        "    logging.error(\"An error occurred while handling the file: %s\", e)"
      ],
      "metadata": {
        "colab": {
          "base_uri": "https://localhost:8080/"
        },
        "id": "oy1GLpgOzSTq",
        "outputId": "b45d6d0c-d903-4d9d-f8eb-b87a1d1335f5"
      },
      "execution_count": 42,
      "outputs": [
        {
          "output_type": "stream",
          "name": "stderr",
          "text": [
            "ERROR:root:An error occurred while handling the file: [Errno 2] No such file or directory: 'non_existent_file.txt'\n"
          ]
        }
      ]
    }
  ]
}