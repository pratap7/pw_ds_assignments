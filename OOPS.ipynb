{
  "nbformat": 4,
  "nbformat_minor": 0,
  "metadata": {
    "colab": {
      "provenance": []
    },
    "kernelspec": {
      "name": "python3",
      "display_name": "Python 3"
    },
    "language_info": {
      "name": "python"
    }
  },
  "cells": [
    {
      "cell_type": "markdown",
      "source": [
        "#Python OOPs: Theory Questions"
      ],
      "metadata": {
        "id": "gxyADE7YPn58"
      }
    },
    {
      "cell_type": "markdown",
      "source": [
        "1. What is Object-Oriented Programming (OOP)?\n",
        "\n",
        "    => Object-Oriented Programming (OOP) is a programming style that organizes code into objects — bundles of data (attributes) and behaviors (methods) that work together. Python is a fully object-oriented language, meaning almost everything in Python is an object.\n",
        "\n",
        "    It focuses on real-world modeling using four main principles:\n",
        "     - **Encapsulation** – hiding data and methods inside classes.\n",
        "     - **Inheritance** – reusing code from parent classes.\n",
        "     - **Polymorphism** – same method name, different behaviors.\n",
        "     - **Abstraction** – hiding complex details, showing only essentials."
      ],
      "metadata": {
        "id": "j3FB3r9QPuAv"
      }
    },
    {
      "cell_type": "markdown",
      "source": [
        "2. What is a class in OOP?\n",
        "  \n",
        "    => A class in OOP (Object-Oriented Programming) is a blueprint or template for creating objects. It defines the attributes (data) and methods (functions) that its objects will have.\n",
        "\n",
        "    Example:\n",
        "    ```class Car:\n",
        "    def __init__(self, brand, model):\n",
        "        self.brand = brand\n",
        "        self.model = model\n",
        "\n",
        "    def drive(self):\n",
        "        print(f\"{self.brand} {self.model} is driving.\")\n",
        "    ```\n",
        "    Here, Car is a class, and you can create objects like:\n",
        "      c1 = Car(\"Toyota\", \"Corolla\")\n",
        "      #c1 is an object (instance) of the Car class."
      ],
      "metadata": {
        "id": "cz5ok-60Xlun"
      }
    },
    {
      "cell_type": "markdown",
      "source": [
        "3. What is an object in OOP?\n",
        "\n",
        "   => An object in OOP (Object-Oriented Programming) is an instance of a class. It represents a real-world entity and contains both data (attributes) and behavior (methods) defined by its class."
      ],
      "metadata": {
        "id": "TQX_AiOOYzUJ"
      }
    },
    {
      "cell_type": "markdown",
      "source": [
        "4. What is the difference between abstraction and encapsulation?\n",
        "\n",
        "   =>  **Abstraction** means showing only the important details and hiding the complex implementation. It focuses on what an object does, not how it does it.\n",
        "\n",
        "   **Encapsulation** means binding data and methods together in a single unit (class) and restricting direct access to that data. It focuses on protecting the data.\n",
        "    ```\n",
        "    # Abstraction example\n",
        "    class Car:\n",
        "        def start(self):   # user knows 'start', not how it works internally\n",
        "            self.__engine_start()\n",
        "\n",
        "    # Encapsulation example\n",
        "    class Bank:\n",
        "        def __init__(self):\n",
        "            self.__balance = 0   # private variable (data hidden)\n",
        "    ```\n",
        "\n"
      ],
      "metadata": {
        "id": "AGFG2-__eSsI"
      }
    },
    {
      "cell_type": "markdown",
      "source": [
        "5. What are dunder methods in Python?\n",
        "\n",
        "   => Dunder methods in Python (short for “double underscore” methods) are special built-in methods that start and end with double underscores, like __init__, __str__, or __len__. They are also called magic methods and are used to define how objects of a class behave with built-in operations (like printing, addition, comparison, etc.).\n",
        "\n",
        "   Example: __init__ (Initializes an object when it is created)\n",
        "            \n",
        "            def __init__(self, name):"
      ],
      "metadata": {
        "id": "st03rTdqfUGQ"
      }
    },
    {
      "cell_type": "markdown",
      "source": [
        "6. Explain the concept of inheritance in OOP?\n",
        "\n",
        "   => Inheritance in Object-Oriented Programming (OOP) is the concept that allows a class (child/subclass) to inherit properties and methods from another class (parent/superclass).\n",
        "\n",
        "   Example:\n",
        "\n",
        "    ```\n",
        "    class Animal:                 # Parent class\n",
        "      def speak(self):\n",
        "        print(\"Animal makes a sound\")\n",
        "\n",
        "    class Dog(Animal):            # Child class\n",
        "      def bark(self):\n",
        "        print(\"Dog barks\")\n",
        "\n",
        "      # Creating an object of Dog\n",
        "      d = Dog()\n",
        "      d.speak()   # Inherited from Animal\n",
        "      d.bark()    # Defined in Dog\n",
        "    ```\n",
        "\n"
      ],
      "metadata": {
        "id": "op5Ccme0gkRf"
      }
    },
    {
      "cell_type": "markdown",
      "source": [
        "7. What is polymorphism in OOP?\n",
        "\n",
        "   => Polymorphism in OOP (Object-Oriented Programming) means \"many forms\". It allows different classes to define methods with the same name, but with different behaviors depending on the object that calls them.\n",
        "\n",
        "   Example:\n",
        "    ```\n",
        "    class Dog:\n",
        "        def sound(self):\n",
        "            print(\"Woof\")\n",
        "\n",
        "    class Cat:\n",
        "        def sound(self):\n",
        "            print(\"Meow\")\n",
        "\n",
        "    # Polymorphism in action\n",
        "    for animal in [Dog(), Cat()]:\n",
        "        animal.sound()   # same method name, different behavior\n",
        "    ```\n",
        "\n"
      ],
      "metadata": {
        "id": "06Ywur75iwUV"
      }
    },
    {
      "cell_type": "markdown",
      "source": [
        "8. How is encapsulation achieved in Python?\n",
        "\n",
        "   => Encapsulation in Python is achieved by hiding data (variables) and restricting direct access to it using access modifiers. It bundles the data (attributes) and methods that operate on that data into a single unit — the class.\n",
        "\n",
        "   **Use private or protected variables:**\n",
        "    - Single underscore (_var): Protected (convention: for internal use only)\n",
        "    - Double underscore (__var): Private (name mangling hides it from outside access).\n",
        "\n",
        "    **Example:**\n",
        "\n",
        "\n",
        "    ```\n",
        "    class BankAccount:\n",
        "        def __init__(self, balance):\n",
        "            self.__balance = balance   # private variable\n",
        "\n",
        "        def deposit(self, amount):\n",
        "            self.__balance += amount\n",
        "\n",
        "        def get_balance(self):\n",
        "            return self.__balance\n",
        "\n",
        "    # Using the class\n",
        "    acc = BankAccount(1000)\n",
        "    acc.deposit(500)\n",
        "    print(acc.get_balance())   # Access through method\n",
        "    print(acc.__balance)       # AttributeError\n",
        "    ```\n",
        "\n"
      ],
      "metadata": {
        "id": "24mon5FSjLqC"
      }
    },
    {
      "cell_type": "markdown",
      "source": [
        "9. What is a constructor in Python?\n",
        "\n",
        "   =>  A constructor in Python is a special method used to initialize a newly created object of a class.\n",
        "    - It is automatically called when an object is created.\n",
        "    - In Python, the constructor is the __init__ method.\n",
        "    - Example:\n",
        "\n",
        "      ```\n",
        "      class ClassName:\n",
        "          def __init__(self, parameters):\n",
        "              # initialize object attributes\n",
        "              self.attribute = parameters\n",
        "      ```\n",
        "\n",
        "\n"
      ],
      "metadata": {
        "id": "Y-4eGrJikkrW"
      }
    },
    {
      "cell_type": "markdown",
      "source": [
        "10. What are class and static methods in Python?\n",
        "\n",
        "    => In Python, class methods and static methods are special types of methods that behave differently from regular instance methods.\n",
        "    - **Class Method:**\n",
        "      - Defined using the @classmethod decorator.\n",
        "      - The first parameter is cls, which refers to the class itself, not the object.\n",
        "      - Can access or modify class variables, but not instance variables.\n",
        "\n",
        "      *Example*\n",
        "      ```\n",
        "      class Person:\n",
        "          species = \"Homo sapiens\"  # class variable\n",
        "\n",
        "          def __init__(self, name):\n",
        "              self.name = name       # instance variable\n",
        "\n",
        "          @classmethod\n",
        "          def get_species(cls):\n",
        "              return cls.species\n",
        "\n",
        "      print(Person.get_species())   # Homo sapiens\n",
        "      ```\n",
        "\n",
        "    - **Static Method:**\n",
        "      - Defined using the @staticmethod decorator.\n",
        "      - Does not take self or cls as the first argument.\n",
        "      - Behaves like a regular function, but belongs to the class for logical grouping.\n",
        "\n",
        "      *Example*\n",
        "\n",
        "        ```\n",
        "        class MathUtils:\n",
        "            @staticmethod\n",
        "            def add(a, b):\n",
        "                return a + b\n",
        "\n",
        "        print(MathUtils.add(5, 3))  # 8\n",
        "        ```\n",
        "\n"
      ],
      "metadata": {
        "id": "I_Yu1j-qoFkz"
      }
    },
    {
      "cell_type": "markdown",
      "source": [
        "11. What is method overloading in Python?\n",
        "\n",
        "    => In Python, method overloading is the concept of having multiple methods with the same name but different parameters. Method overloading is not supported by Python. Even if you overload the method, Python only takes into account the most recent definition. If you overload a method in Python, a TypeError will be raised.\n",
        "    \n",
        "    Example:\n",
        "\n",
        "      ```\n",
        "        def mul (x,y):\n",
        "          z = x*y\n",
        "          print (z)\n",
        "\n",
        "        def mul (P, 9,r):\n",
        "          s = p*q*r\n",
        "          print(\"Output: \",s)\n",
        "\n",
        "        #mul (5,6) error\n",
        "        mul (5,2,3)\n",
        "      ```\n",
        "\n"
      ],
      "metadata": {
        "id": "-eXL0CXcpYYP"
      }
    },
    {
      "cell_type": "markdown",
      "source": [
        "12. What is method overriding in OOP?\n",
        "\n",
        "    => Method overriding in OOP (Object-Oriented Programming) happens when a child class defines a method with the same name and parameters as a method in its parent class, but provides a different implementation.\n",
        "\n",
        "    Example:\n",
        "\n",
        "      ```\n",
        "        class Animal:\n",
        "            def speak(self):\n",
        "                print(\"Animal makes a sound\")\n",
        "\n",
        "        class Dog(Animal):\n",
        "            def speak(self):  # overriding the parent method\n",
        "                print(\"Dog barks\")\n",
        "\n",
        "        # Creating objects\n",
        "        a = Animal()\n",
        "        d = Dog()\n",
        "\n",
        "        a.speak()   # Animal makes a sound\n",
        "        d.speak()   # Dog barks\n",
        "      ```\n",
        "\n"
      ],
      "metadata": {
        "id": "aT_DCvmJCOfK"
      }
    },
    {
      "cell_type": "markdown",
      "source": [
        "13. What is a property decorator in Python?\n",
        "\n",
        "    => A property decorator in Python (@property) is used to turn a method into a read-only attribute. It allows you to access methods like attributes — without using parentheses — and is commonly used for getter, setter, and deleter methods to control access to class attributes.\n",
        "\n",
        "    Example:\n",
        "\n",
        "    ```\n",
        "      class Person:\n",
        "          def __init__(self, name):\n",
        "              self._name = name   # protected attribute\n",
        "\n",
        "          @property\n",
        "          def name(self):         # getter method\n",
        "              return self._name\n",
        "\n",
        "      p = Person(\"Alice\")\n",
        "      print(p.name) # Accessed like an attribute, but actually calls the method\n",
        "    ```\n",
        "\n"
      ],
      "metadata": {
        "id": "juWoQZZNC-QX"
      }
    },
    {
      "cell_type": "markdown",
      "source": [
        "14. Why is polymorphism important in OOP?\n",
        "\n",
        "    => Polymorphism is important in Object-Oriented Programming (OOP) because it makes code flexible, reusable, and easier to maintain. It allows the same method name to behave differently depending on the object that calls it — enabling a single interface to work with different types of objects.\n",
        "\n",
        "    **Why it is important:**\n",
        "      - Code Reusability: You can write general code that works for different object types.\n",
        "      - Flexibility and Extensibility: You can add new classes without changing existing code.\n",
        "      - Simplified Code: Reduces the need for long if-else or type-checking statements.\n",
        "      - Improves Maintainability: Makes code easier to read, update, and debug.- Encourages Interface-Based Design: Promotes clean and modular programming.\n",
        "\n",
        "      Example:\n",
        "\n",
        "\n",
        "      ```\n",
        "        class Dog:\n",
        "          def sound(self):\n",
        "              print(\"Woof\")\n",
        "\n",
        "        class Cat:\n",
        "            def sound(self):\n",
        "                print(\"Meow\")\n",
        "\n",
        "            def make_sound(animal):\n",
        "              animal.sound()  # same method call, different behavior\n",
        "\n",
        "        make_sound(Dog())  # Woof\n",
        "        make_sound(Cat())  # Meow\n",
        "     ```\n",
        "\n"
      ],
      "metadata": {
        "id": "9Fc-PP_xDegI"
      }
    },
    {
      "cell_type": "markdown",
      "source": [
        "15. What is an abstract class in Python?\n",
        "\n",
        "    => An abstract class in Python is a blueprint for other classes. It defines methods that must be implemented by its subclasses — ensuring a common interface for all derived classes. You cannot create objects directly from an abstract class.\n",
        "\n",
        "    **Create an Abstract Class:**\n",
        "\n",
        "    ```\n",
        "    class Animal(ABC):               # Inherits from ABC\n",
        "        @abstractmethod\n",
        "        def make_sound(self):        # Abstract method pass\n",
        "    ```\n",
        "    *Here, make_sound() is an abstract method — any subclass must implement it.\n",
        "\n",
        "    **Example of Abstract Class**\n",
        "      ```\n",
        "      class Animal(ABC):\n",
        "          @abstractmethod\n",
        "          def make_sound(self):\n",
        "              pass\n",
        "\n",
        "      class Dog(Animal):\n",
        "          def make_sound(self):\n",
        "              print(\"Woof\")\n",
        "\n",
        "      class Cat(Animal):\n",
        "          def make_sound(self):\n",
        "              print(\"Meow\")\n",
        "\n",
        "      # a = Animal() Error (can not instantiate abstract class)\n",
        "      dog = Dog()\n",
        "      cat = Cat()\n",
        "\n",
        "      dog.make_sound()  # Woof\n",
        "      cat.make_sound()  # Meow\n",
        "      ```"
      ],
      "metadata": {
        "id": "kgoTyOI9ElL-"
      }
    },
    {
      "cell_type": "markdown",
      "source": [
        "16. What are the advantages of OOP?\n",
        "\n",
        "    => Here are the main advantages of Object-Oriented Programming (OOP).\n",
        "       - **Modularity:** Code is organized into classes and objects, making programs easier to understand, debug, and manage.\n",
        "       - **Reusability**: Through inheritance, existing classes can be reused and extended — reducing code duplication.\n",
        "       - **Data Security (Encapsulation)**: Encapsulation hides the internal data of objects and exposes only what’s necessary, protecting data from accidental modification.\n",
        "       - **Flexibility (Polymorphism):** Polymorphism allows the same method name to perform different actions, making code more flexible and extensible.\n",
        "       - **Abstraction:** Abstraction hides complex details and shows only essential features, simplifying program design.\n",
        "       - **Maintainability:** Since classes are modular and independent, updating or fixing one part of the code doesn't affect others.\n",
        "       - **Code Reusability and Collaboration:** OOP promotes reusable components and makes it easier for multiple developers to work on large projects simultaneously.\n"
      ],
      "metadata": {
        "id": "0R2HBH4lMeZR"
      }
    },
    {
      "cell_type": "markdown",
      "source": [
        "17. What is the difference between a class variable and an instance variable?\n",
        "\n",
        "    => In Python, class variables and instance variables both store data in a class, but they differ in scope and behavior.\n",
        "\n",
        "    **Class Variable**:\n",
        "     - Shared by all objects of the class.\n",
        "     - Defined inside the class, but outside any method.\n",
        "     - Used for common data that should be the same for every instance.\n",
        "\n",
        "     Example:\n",
        "     ``` class Car:\n",
        "          wheels = 4   # class variable\n",
        "     ```\n",
        "     **Instance Variable**:\n",
        "     - Belongs to a specific object.\n",
        "     - Defined inside the __init__ method using self.\n",
        "     - Used for object-specific data.\n",
        "\n",
        "     Example:\n",
        "\n",
        "      ```\n",
        "      class Car:\n",
        "          def __init__(self, brand):\n",
        "              self.brand = brand   # instance variable\n",
        "      ```\n",
        "\n"
      ],
      "metadata": {
        "id": "ol97wUveOC5d"
      }
    },
    {
      "cell_type": "markdown",
      "source": [
        "18. What is multiple inheritance in Python?\n",
        "\n",
        "    => Multiple inheritance in Python is a feature that allows a child class to inherit from more than one parent class. This means a single subclass can access the attributes and methods of multiple base classes, combining their functionality.\n",
        "\n",
        "    Example:\n",
        "\n",
        "      ```\n",
        "      class Father:\n",
        "          def skills(self):\n",
        "              print(\"Can drive\")\n",
        "\n",
        "      class Mother:\n",
        "          def skills(self):\n",
        "              print(\"Can cook\")\n",
        "\n",
        "      class Child(Father, Mother):  # inherits from both\n",
        "          def skills(self):\n",
        "              super().skills()\n",
        "              print(\"Can code\")\n",
        "\n",
        "      c = Child()\n",
        "      c.skills()\n",
        "      ```\n",
        "\n",
        "\n",
        "    "
      ],
      "metadata": {
        "id": "iTCiTdY3PYzd"
      }
    },
    {
      "cell_type": "markdown",
      "source": [
        "19. Explain the purpose of ‘’__str__’ and ‘__repr__’ ‘ methods in Python.\n",
        "\n",
        "    => In Python, the __str__ and __repr__ methods are special (dunder) methods used to define how an object is represented as a string. Both control what is shown when you print an object or inspect it in the console, but they serve slightly different purposes.\n",
        "\n",
        "    - `__str__()` => User-Friendly Representation\n",
        "      - Used by the print() function or str().\n",
        "      - Returns a readable, human-friendly string meant for end users.\n",
        "      - Should describe the object in a clear and concise way.\n",
        "      - Example:\n",
        "\n",
        "        ```\n",
        "        class Book:\n",
        "            def __init__(self, title, author):\n",
        "                self.title = title\n",
        "                self.author = author\n",
        "\n",
        "            def __str__(self):\n",
        "                return f\"'{self.title}' by {self.author}\"\n",
        "\n",
        "        b = Book(\"1984\", \"George Orwell\")\n",
        "        print(b)          # calls __str__()\n",
        "\n",
        "        #Output: '1984' by George Orwell\n",
        "        ```\n",
        "\n",
        "    - `__repr__()` => Developer-Friendly Representation\n",
        "      - Used by the Python interpreter or repr() function.\n",
        "      - Returns a detailed, unambiguous string meant for developers.\n",
        "      - Ideally, it should return a string that could recreate the object if evaluated.\n",
        "      - Example:\n",
        "\n",
        "        ```\n",
        "        class Book:\n",
        "            def __init__(self, title, author):\n",
        "                self.title = title\n",
        "                self.author = author\n",
        "\n",
        "            def __repr__(self):\n",
        "                return f\"Book(title='{self.title}', author='{self.author}')\"\n",
        "\n",
        "        b = Book(\"1984\", \"George Orwell\")\n",
        "        print(repr(b))    # calls __repr__()\n",
        "        #Output: Book(title='1984', author='George Orwell')\n",
        "\n",
        "        ```\n",
        "\n",
        "\n"
      ],
      "metadata": {
        "id": "a3g-JXdHXMos"
      }
    },
    {
      "cell_type": "markdown",
      "source": [
        "20. What is the significance of the ‘super()’ function in Python?\n",
        "\n",
        "    => The super() function in Python is used to call methods from a parent (or superclass) in a child class. It is especially useful in inheritance, allowing a subclass to reuse or extend the functionality of the parent class without explicitly naming it.\n",
        "\n",
        "    **Uses:**\n",
        "     - Access Parent Methods: Call a method of the parent class that has been overridden in the child class.\n",
        "     - Avoid Hardcoding Parent Class Name: Makes code more maintainable, especially with multiple inheritance.\n",
        "     - Work with Multiple Inheritance: Ensures that Method Resolution Order (MRO) is respected.\n"
      ],
      "metadata": {
        "id": "8enkKpaPZqrZ"
      }
    },
    {
      "cell_type": "markdown",
      "source": [
        "21. What is the significance of the __del__ method in Python?\n",
        "\n",
        "    => The __del__ method in Python (also called the destructor) is significant because it allows you to define what should happen when an object is about to be destroyed — that is, when it is no longer needed and is being removed from memory. It is mainly used to release external resources or perform cleanup tasks automatically.\n",
        "\n",
        "    **Purpose of __del__ method:**\n",
        "     - To free resources like files, database connections, or network sockets.\n",
        "     - To log or track object deletion for debugging.\n",
        "     - To perform cleanup operations before the object is destroyed."
      ],
      "metadata": {
        "id": "SnJUj3k9bjGv"
      }
    },
    {
      "cell_type": "markdown",
      "source": [
        "22. What is the difference between @staticmethod and @classmethod in Python?\n",
        "\n",
        "    => Here is a clear and simple explanation of the difference between @staticmethod and @classmethod in Python.\n",
        "\n",
        "    **@staticmethod**\n",
        "     - A static method is a method that doesn’t depend on the class or any instance.\n",
        "     - It does not take self or cls as the first parameter.\n",
        "     - It behaves like a regular function, but it is placed inside a class for logical grouping.\n",
        "\n",
        "     **@classmethod**\n",
        "      - A class method is a method that takes cls as the first parameter, representing the class itself.\n",
        "      - It can access or modify class variables that are shared among all instances."
      ],
      "metadata": {
        "id": "fUQGm2UWblhN"
      }
    },
    {
      "cell_type": "markdown",
      "source": [
        "23. How does polymorphism work in Python with inheritance?\n",
        "\n",
        "    => Polymorphism in Python with inheritance allows a child class to provide a different implementation of a method that already exists in its parent class — while using the same method name. This lets you call the same method on objects of different classes, and each object will respond according to its own class definition.\n",
        "\n",
        "    **Example of Polymorphism with Inheritance:**\n",
        "\n",
        "      ```\n",
        "      class Animal:\n",
        "          def speak(self):\n",
        "              print(\"Animal makes a sound\")\n",
        "\n",
        "      class Dog(Animal):\n",
        "          def speak(self):\n",
        "              print(\"Dog barks\")\n",
        "\n",
        "      class Cat(Animal):\n",
        "          def speak(self):\n",
        "              print(\"Cat meows\")\n",
        "\n",
        "      # Polymorphism in action\n",
        "      animals = [Dog(), Cat()]\n",
        "\n",
        "      for animal in animals:\n",
        "          animal.speak()   # Same method name, different behavior\n",
        "\n",
        "      # Output: Dog barks Cat meows\n",
        "      ```\n",
        "\n",
        "      **How It Works:**\n",
        "      - Both Dog and Cat inherit from Animal.\n",
        "      - Each subclass overrides the parent's speak() method.\n",
        "      - When speak() is called on each object, Python determines at runtime which version of the method to use — this is runtime polymorphism.\n",
        "\n",
        "\n"
      ],
      "metadata": {
        "id": "aHdM3HKBbpxo"
      }
    },
    {
      "cell_type": "markdown",
      "source": [
        "24. What is method chaining in Python OOP?\n",
        "\n",
        "    => Method chaining in Python OOP is a technique where multiple methods are called on the same object in a single line, one after another. Each method returns the object itself (self), allowing the next method to be called immediately — creating a fluent and concise style of programming.\n",
        "\n",
        "    **Example:**\n",
        "\n",
        "\n",
        "      ```\n",
        "      class Person:\n",
        "          def __init__(self, name):\n",
        "              self.name = name\n",
        "\n",
        "          def greet(self):\n",
        "              print(f\"Hello, I'm {self.name}\")\n",
        "              return self  # returning the object for chaining\n",
        "\n",
        "          def walk(self):\n",
        "              print(f\"{self.name} is walking.\")\n",
        "              return self\n",
        "\n",
        "          def eat(self):\n",
        "              print(f\"{self.name} is eating.\")\n",
        "              return self\n",
        "\n",
        "      # Method chaining\n",
        "      p = Person(\"Alice\")\n",
        "      p.greet().walk().eat()\n",
        "\n",
        "      # Output:\n",
        "      # Hello, I'm Alice\n",
        "      # Alice is walking.\n",
        "      # Alice is eating.\n",
        "      ```\n",
        "\n"
      ],
      "metadata": {
        "id": "q2phb3cFbxdZ"
      }
    },
    {
      "cell_type": "markdown",
      "source": [
        "25. What is the purpose of the __call__ method in Python?\n",
        "\n",
        "    => The __call__ method in Python is a special (dunder) method that allows an object to be called like a function. If a class defines the __call__() method, then its instances can be invoked using parentheses, just like regular functions.\n",
        "\n",
        "    **`Purpose of __call__`**\n",
        "    - To make objects behave like functions.\n",
        "    - Useful for function wrappers, callbacks, or stateful functions (functions that remember past data).\n",
        "    - Often used in decorators, machine learning models, or custom callable classes.\n",
        "\n",
        "    **Example:**\n",
        "\n",
        "\n",
        "    ```\n",
        "    class Greeter:\n",
        "        def __init__(self, name):\n",
        "            self.name = name\n",
        "\n",
        "        def __call__(self, message):\n",
        "            print(f\"{self.name} says: {message}\")\n",
        "\n",
        "    # Create an object\n",
        "    g = Greeter(\"Alice\")\n",
        "\n",
        "    # Call the object like a function\n",
        "    g(\"Hello, world!\")\n",
        "    #Output: Alice says: Hello, world!\n",
        "    ```\n",
        "\n",
        "\n",
        "\n"
      ],
      "metadata": {
        "id": "JIQ6Ytbpb1qY"
      }
    },
    {
      "cell_type": "markdown",
      "source": [
        "# Python OOPs: Practical Questions"
      ],
      "metadata": {
        "id": "M14eK7fsb6ET"
      }
    },
    {
      "cell_type": "code",
      "source": [
        "#1. Create a parent class Animal with a method speak() that prints a generic message. Create a child class Dog that overrides the speak() method\n",
        "# to print \"Bark!\".\n",
        "class Animal:\n",
        "  def speak(self):\n",
        "    print('Animal makea a sound!')\n",
        "\n",
        "class Dog(Animal):\n",
        "  def speak(self):\n",
        "    print('Bark!')\n",
        "\n",
        "a = Animal()\n",
        "b = Dog()\n",
        "\n",
        "a.speak()\n",
        "b.speak()\n"
      ],
      "metadata": {
        "id": "cZFcOtwHPtac",
        "colab": {
          "base_uri": "https://localhost:8080/"
        },
        "outputId": "7fec51fa-69a2-4171-85fa-0cf48db30e08"
      },
      "execution_count": 4,
      "outputs": [
        {
          "output_type": "stream",
          "name": "stdout",
          "text": [
            "Animal makea a sound!\n",
            "Bark!\n"
          ]
        }
      ]
    },
    {
      "cell_type": "code",
      "source": [
        "#2. Write a program to create an abstract class Shape with a method area(). Derive classes Circle and Rectangle from it and implement the area()\n",
        "# method in both.\n",
        "from abc import ABC, abstractmethod\n",
        "import math\n",
        "# Abstract class\n",
        "class Shape(ABC):\n",
        "  @abstractmethod\n",
        "  def area(self):\n",
        "    pass # abstract method, no implementation\n",
        "\n",
        "\n",
        "# Derived class - Circle\n",
        "class Circle(Shape):\n",
        "  def __init__(self, radius):\n",
        "    self.radius = radius\n",
        "\n",
        "  def area(self):\n",
        "    return math.pi * (self.radius ** 2)\n",
        "\n",
        "\n",
        "# Derived class - Rectangle\n",
        "class  Rectangle(Shape):\n",
        "  def __init__(self, width, length):\n",
        "    self.width = width\n",
        "    self.length = length\n",
        "\n",
        "  def area(self):\n",
        "    return self.length * self.width\n",
        "\n",
        "c = Circle(5)\n",
        "r = Rectangle(4, 6)\n",
        "\n",
        "print(f\"Area of Circle: {c.area()}\")\n",
        "print(f\"Area of Rectangle: {r.area()}\")\n"
      ],
      "metadata": {
        "id": "KPUd2xJIPs3W",
        "colab": {
          "base_uri": "https://localhost:8080/"
        },
        "outputId": "cbe921c8-f940-4660-9d04-9eab6999a78b"
      },
      "execution_count": 6,
      "outputs": [
        {
          "output_type": "stream",
          "name": "stdout",
          "text": [
            "Area of Circle: 78.53981633974483\n",
            "Area of Rectangle: 24\n"
          ]
        }
      ]
    },
    {
      "cell_type": "code",
      "source": [
        "#3. Implement a multi-level inheritance scenario where a class Vehicle has an attribute type. Derive a class Car and further derive a class ElectricCar\n",
        "# that adds a battery attribute.\n",
        "\n",
        "class Vehicle:\n",
        "  def __init__(self, vehicle_type):\n",
        "      self.vehicle_type = vehicle_type\n",
        "\n",
        "  def show_type(self):\n",
        "      print(f\"Vehicle type: {self.type}\")\n",
        "\n",
        "\n",
        "class Car(Vehicle):\n",
        "  def __init__(self, vehicle_type, brand):\n",
        "      super().__init__(vehicle_type)   # call Vehicle constructor\n",
        "      self.brand = brand\n",
        "\n",
        "  def show_type(self):\n",
        "      print(f\"Vehicle type: {self.vehicle_type}\")\n",
        "\n",
        "  def show_brand(self):\n",
        "        print(f\"Car brand is {self.brand}\")\n",
        "\n",
        "class ElectricCar(Car):\n",
        "\n",
        "    def __init__(self, vehicle_type, brand, battery_capacity):\n",
        "        super().__init__(vehicle_type, brand)  # call Car constructor\n",
        "        self.battery = battery_capacity\n",
        "\n",
        "    def show_battery(self):\n",
        "        print(f\"Battery capacity: {self.battery} kWh\")\n",
        "\n",
        "e_car = ElectricCar(\"Four-wheeler\", \"Tesla\", 85)\n",
        "\n",
        "# Display details\n",
        "e_car.show_type()     # Inherited from Vehicle\n",
        "e_car.show_brand()    # Inherited from Car\n",
        "e_car.show_battery()  # Defined in ElectricCar"
      ],
      "metadata": {
        "id": "Ey4voJe2cTGp",
        "colab": {
          "base_uri": "https://localhost:8080/"
        },
        "outputId": "0adf21c1-54c1-441f-9b4f-1fb1b0cf141c"
      },
      "execution_count": 12,
      "outputs": [
        {
          "output_type": "stream",
          "name": "stdout",
          "text": [
            "Vehicle type: Four-wheeler\n",
            "Car brand is Tesla\n",
            "Battery capacity: 85 kWh\n"
          ]
        }
      ]
    },
    {
      "cell_type": "code",
      "source": [
        "#4. Demonstrate polymorphism by creating a base class Bird with a method fly(). Create two derived classes Sparrow and Penguin that override the fly() method.\n",
        "class Bird:\n",
        "  def fly(self):\n",
        "    print('Some birds can fly!')\n",
        "\n",
        "class Sparrow(Bird):\n",
        "  def fly(self): # overriding the base method\n",
        "    print(\"Sparrow can fly!\")\n",
        "\n",
        "\n",
        "class Penguin(Bird):\n",
        "  def fly(self):\n",
        "    print(\"Penguin can not fly!\")\n",
        "\n",
        "birds = [Sparrow(), Penguin()]\n",
        "\n",
        "for bird in birds:\n",
        "    bird.fly()  # same method name, different behavior\n"
      ],
      "metadata": {
        "id": "bLJWFbiocXMS",
        "colab": {
          "base_uri": "https://localhost:8080/"
        },
        "outputId": "97b8903b-3ece-4fcd-ded1-daed52a3861b"
      },
      "execution_count": 13,
      "outputs": [
        {
          "output_type": "stream",
          "name": "stdout",
          "text": [
            "Sparrow can fly!\n",
            "Penguin can not fly!\n"
          ]
        }
      ]
    },
    {
      "cell_type": "code",
      "source": [
        "#5. Write a program to demonstrate encapsulation by creating a class BankAccount with private attributes balance and methods to deposit, withdraw, and check balance.\n",
        "class BankAccount:\n",
        "  def __init__(self, balance=0):\n",
        "    self.__balance = balance # private atribute\n",
        "\n",
        "  def deposit(self, amount):\n",
        "    if(amount > 0):\n",
        "      self.__balance += amount\n",
        "      print(f\"Deposited: ${amount}\")\n",
        "    else:\n",
        "      print(\"Deposit amount must be positive.\")\n",
        "\n",
        "  def withdraw(self, amount):\n",
        "    if 0 < amount <= self.__balance:\n",
        "      self.__balance -= amount\n",
        "      print(f\"Withdrawn: ${amount}\")\n",
        "    else:\n",
        "      print(\"Insufficient balance or invalid amount.\")\n",
        "\n",
        "  def check_balance(self):\n",
        "        print(f\"Current balance: ${self.__balance}\")\n",
        "\n",
        "# Create a BankAccount object\n",
        "account = BankAccount(1000)\n",
        "\n",
        "# Access methods (encapsulated access to balance)\n",
        "account.check_balance()\n",
        "account.deposit(500)\n",
        "account.withdraw(300)\n",
        "account.check_balance()\n"
      ],
      "metadata": {
        "id": "lcgs8oMccarE",
        "colab": {
          "base_uri": "https://localhost:8080/"
        },
        "outputId": "c7c5399b-5ae4-4439-866d-f61606fbc3ec"
      },
      "execution_count": 15,
      "outputs": [
        {
          "output_type": "stream",
          "name": "stdout",
          "text": [
            "Current balance: $1000\n",
            "Deposited: $500\n",
            "Withdrawn: $300\n",
            "Current balance: $1200\n"
          ]
        }
      ]
    },
    {
      "cell_type": "code",
      "source": [
        "#6. Demonstrate runtime polymorphism using a method play() in a base class Instrument. Derive classes Guitar and Piano that implement their own\n",
        "# version of play().\n",
        "# Base class\n",
        "class Instrument:\n",
        "    def play(self):\n",
        "        print(\"Playing an instrument.\")\n",
        "\n",
        "# Derived class 1\n",
        "class Guitar(Instrument):\n",
        "    def play(self):  # overriding base method\n",
        "        print(\"Strumming the guitar!\")\n",
        "\n",
        "# Derived class 2\n",
        "class Piano(Instrument):\n",
        "    def play(self):  # overriding base method\n",
        "        print(\"Playing the piano keys!\")\n",
        "\n",
        "# Runtime polymorphism in action\n",
        "instruments = [Guitar(), Piano()]\n",
        "\n",
        "for instrument in instruments:\n",
        "    instrument.play()  # same method call, different behavior"
      ],
      "metadata": {
        "id": "SVVA9hAEcepX",
        "colab": {
          "base_uri": "https://localhost:8080/"
        },
        "outputId": "c508669e-addc-47d5-e0c3-7bbc7050d642"
      },
      "execution_count": 16,
      "outputs": [
        {
          "output_type": "stream",
          "name": "stdout",
          "text": [
            "Strumming the guitar!\n",
            "Playing the piano keys!\n"
          ]
        }
      ]
    },
    {
      "cell_type": "code",
      "source": [
        "#7. Create a class MathOperations with a class method add_numbers() to add two numbers and a static method subtract_numbers() to subtract two numbers.\n",
        "class MathOperations:\n",
        "    # Class method to add two numbers\n",
        "    @classmethod\n",
        "    def add_numbers(cls, a, b):\n",
        "        return a + b\n",
        "\n",
        "    # Static method to subtract two numbers\n",
        "    @staticmethod\n",
        "    def subtract_numbers(a, b):\n",
        "        return a - b\n",
        "\n",
        "# Using class method\n",
        "sum_result = MathOperations.add_numbers(10, 5)\n",
        "print(f\"Sum: {sum_result}\")\n",
        "\n",
        "# Using static method\n",
        "diff_result = MathOperations.subtract_numbers(10, 5)\n",
        "print(f\"Difference: {diff_result}\")"
      ],
      "metadata": {
        "id": "YXnSFVMucjCZ",
        "colab": {
          "base_uri": "https://localhost:8080/"
        },
        "outputId": "753aec13-5909-4cd8-ba66-caecab7121e1"
      },
      "execution_count": 17,
      "outputs": [
        {
          "output_type": "stream",
          "name": "stdout",
          "text": [
            "Sum: 15\n",
            "Difference: 5\n"
          ]
        }
      ]
    },
    {
      "cell_type": "code",
      "source": [
        "#8. Implement a class Person with a class method to count the total number of persons created.\n",
        "class Person:\n",
        "    # Class variable to keep count\n",
        "    total_persons = 0\n",
        "\n",
        "    def __init__(self, name):\n",
        "        self.name = name\n",
        "        Person.total_persons += 1  # increment count when a new object is created\n",
        "\n",
        "    # Class method to get total persons\n",
        "    @classmethod\n",
        "    def get_total_persons(cls):\n",
        "        return cls.total_persons\n",
        "\n",
        "# Create Person objects\n",
        "p1 = Person(\"Alice\")\n",
        "p2 = Person(\"Bob\")\n",
        "p3 = Person(\"Charlie\")\n",
        "\n",
        "# Access class method\n",
        "print(f\"Total persons created: {Person.get_total_persons()}\")"
      ],
      "metadata": {
        "id": "Cz6D8Q7zcnmE",
        "colab": {
          "base_uri": "https://localhost:8080/"
        },
        "outputId": "fe1f16ed-7ba3-4dd8-86eb-f747f11e9aa6"
      },
      "execution_count": 18,
      "outputs": [
        {
          "output_type": "stream",
          "name": "stdout",
          "text": [
            "Total persons created: 3\n"
          ]
        }
      ]
    },
    {
      "cell_type": "code",
      "source": [
        "#9. Write a class Fraction with attributes numerator and denominator. Override the str method to display the fraction as \"numerator/denominator\".\n",
        "class Fraction:\n",
        "    def __init__(self, numerator, denominator):\n",
        "        self.numerator = numerator\n",
        "        self.denominator = denominator\n",
        "\n",
        "    # Overriding __str__ method\n",
        "    def __str__(self):\n",
        "        return f\"{self.numerator}/{self.denominator}\"\n",
        "\n",
        "# Create Fraction objects\n",
        "f1 = Fraction(3, 4)\n",
        "f2 = Fraction(7, 2)\n",
        "\n",
        "# Display fractions\n",
        "print(f1)\n",
        "print(f2)"
      ],
      "metadata": {
        "id": "jbPLTuTScq3G",
        "colab": {
          "base_uri": "https://localhost:8080/"
        },
        "outputId": "7e5b1c30-e768-40e1-d959-79a648486f30"
      },
      "execution_count": 19,
      "outputs": [
        {
          "output_type": "stream",
          "name": "stdout",
          "text": [
            "3/4\n",
            "7/2\n"
          ]
        }
      ]
    },
    {
      "cell_type": "code",
      "source": [
        "#10. Demonstrate operator overloading by creating a class Vector and overriding the add method to add two vectors.\n",
        "class Vector:\n",
        "    def __init__(self, x, y):\n",
        "        self.x = x\n",
        "        self.y = y\n",
        "\n",
        "    # Overloading the + operator\n",
        "    def __add__(self, other):\n",
        "        return Vector(self.x + other.x, self.y + other.y)\n",
        "\n",
        "    # For readable output\n",
        "    def __str__(self):\n",
        "        return f\"({self.x}, {self.y})\"\n",
        "\n",
        "# Create Vector objects\n",
        "v1 = Vector(2, 3)\n",
        "v2 = Vector(4, 5)\n",
        "\n",
        "# Add vectors using overloaded +\n",
        "v3 = v1 + v2\n",
        "\n",
        "print(f\"v1 + v2 = {v3}\")"
      ],
      "metadata": {
        "id": "xIvYTfvVcuIf",
        "colab": {
          "base_uri": "https://localhost:8080/"
        },
        "outputId": "60171544-ab78-4936-cc2e-c137284b1cd6"
      },
      "execution_count": 20,
      "outputs": [
        {
          "output_type": "stream",
          "name": "stdout",
          "text": [
            "v1 + v2 = (6, 8)\n"
          ]
        }
      ]
    },
    {
      "cell_type": "code",
      "source": [
        "#11. Create a class Person with attributes name and age. Add a method greet() that prints \"Hello, my name is {name} and I am {age} years old.\"\n",
        "class Person:\n",
        "    def __init__(self, name, age):\n",
        "        self.name = name\n",
        "        self.age = age\n",
        "\n",
        "    # Method to greet\n",
        "    def greet(self):\n",
        "        print(f\"Hello, my name is {self.name} and I am {self.age} years old.\")\n",
        "\n",
        "# Create Person objects\n",
        "p1 = Person(\"Alice\", 25)\n",
        "p2 = Person(\"Bob\", 30)\n",
        "\n",
        "# Call greet method\n",
        "p1.greet()\n",
        "p2.greet()"
      ],
      "metadata": {
        "id": "kpUlMUJac0fB",
        "colab": {
          "base_uri": "https://localhost:8080/"
        },
        "outputId": "2f67c522-9471-47ba-c5f2-7de60741003b"
      },
      "execution_count": 21,
      "outputs": [
        {
          "output_type": "stream",
          "name": "stdout",
          "text": [
            "Hello, my name is Alice and I am 25 years old.\n",
            "Hello, my name is Bob and I am 30 years old.\n"
          ]
        }
      ]
    },
    {
      "cell_type": "code",
      "source": [
        "#12. Implement a class Student with attributes name and grades. Create a method average_grade() to compute the average of the grades.\n",
        "class Student:\n",
        "    def __init__(self, name, grades):\n",
        "        self.name = name\n",
        "        self.grades = grades  # List or tuple of numerical values\n",
        "\n",
        "    def average_grade(self):\n",
        "        if len(self.grades) == 0:\n",
        "            return 0\n",
        "        return sum(self.grades) / len(self.grades)\n",
        "\n",
        "# Example usage\n",
        "s1 = Student(\"Alice\", [85, 90, 78, 92])\n",
        "s2 = Student(\"Bob\", [70, 75, 80])\n",
        "\n",
        "print(f\"{s1.name}'s average grade: {s1.average_grade():.2f}\")\n",
        "print(f\"{s2.name}'s average grade: {s2.average_grade():.2f}\")"
      ],
      "metadata": {
        "id": "nkXgqcC5c8Al",
        "colab": {
          "base_uri": "https://localhost:8080/"
        },
        "outputId": "44bb174f-cdd7-4807-a99c-2b9842c75330"
      },
      "execution_count": 22,
      "outputs": [
        {
          "output_type": "stream",
          "name": "stdout",
          "text": [
            "Alice's average grade: 86.25\n",
            "Bob's average grade: 75.00\n"
          ]
        }
      ]
    },
    {
      "cell_type": "code",
      "source": [
        "#13. Create a class Rectangle with methods set_dimensions() to set the dimensions and area() to calculate the area.\n",
        "class Rectangle:\n",
        "    def __init__(self):\n",
        "        self.length = 0\n",
        "        self.width = 0\n",
        "\n",
        "    # Method to set dimensions\n",
        "    def set_dimensions(self, length, width):\n",
        "        self.length = length\n",
        "        self.width = width\n",
        "\n",
        "    # Method to calculate area\n",
        "    def area(self):\n",
        "        return self.length * self.width\n",
        "\n",
        "# Example usage\n",
        "rect = Rectangle()\n",
        "rect.set_dimensions(5, 3)\n",
        "print(f\"Area of rectangle: {rect.area()}\")"
      ],
      "metadata": {
        "id": "LKbm58Ahc98z",
        "colab": {
          "base_uri": "https://localhost:8080/"
        },
        "outputId": "3ce19a60-fa07-4eb1-bb3e-efabea03f5f8"
      },
      "execution_count": 23,
      "outputs": [
        {
          "output_type": "stream",
          "name": "stdout",
          "text": [
            "Area of rectangle: 15\n"
          ]
        }
      ]
    },
    {
      "cell_type": "code",
      "source": [
        "#14. Create a class Employee with a method calculate_salary() that computes the salary based on hours worked and hourly rate. Create a derived class Manager that adds a bonus to the salary.\n",
        "class Employee:\n",
        "    def __init__(self, name, hours_worked, hourly_rate):\n",
        "        self.name = name\n",
        "        self.hours_worked = hours_worked\n",
        "        self.hourly_rate = hourly_rate\n",
        "\n",
        "    def calculate_salary(self):\n",
        "        return self.hours_worked * self.hourly_rate\n",
        "\n",
        "\n",
        "# Derived class\n",
        "class Manager(Employee):\n",
        "    def __init__(self, name, hours_worked, hourly_rate, bonus):\n",
        "        super().__init__(name, hours_worked, hourly_rate)\n",
        "        self.bonus = bonus\n",
        "\n",
        "    # Override calculate_salary() to include bonus\n",
        "    def calculate_salary(self):\n",
        "        base_salary = super().calculate_salary()\n",
        "        return base_salary + self.bonus\n",
        "\n",
        "\n",
        "# Example usage\n",
        "emp = Employee(\"Alice\", 40, 20)\n",
        "mgr = Manager(\"Bob\", 40, 25, 500)\n",
        "\n",
        "print(f\"{emp.name}'s Salary: ${emp.calculate_salary()}\")\n",
        "print(f\"{mgr.name}'s Salary: ${mgr.calculate_salary()}\")"
      ],
      "metadata": {
        "id": "gztVw024dBAl",
        "colab": {
          "base_uri": "https://localhost:8080/"
        },
        "outputId": "e80702fb-2bd6-4184-b6ec-dceb4c36b44a"
      },
      "execution_count": 24,
      "outputs": [
        {
          "output_type": "stream",
          "name": "stdout",
          "text": [
            "Alice's Salary: $800\n",
            "Bob's Salary: $1500\n"
          ]
        }
      ]
    },
    {
      "cell_type": "code",
      "source": [
        "#15. Create a class Product with attributes name, price, and quantity. Implement a method total_price() that calculates the total price of the product.\n",
        "class Product:\n",
        "    def __init__(self, name, price, quantity):\n",
        "        self.name = name\n",
        "        self.price = price\n",
        "        self.quantity = quantity\n",
        "\n",
        "    # Method to calculate total price\n",
        "    def total_price(self):\n",
        "        return self.price * self.quantity\n",
        "\n",
        "\n",
        "# Example usage\n",
        "p1 = Product(\"Laptop\", 75000, 2)\n",
        "p2 = Product(\"Phone\", 30000, 3)\n",
        "\n",
        "print(f\"Total price for {p1.name}: ₹{p1.total_price()}\")\n",
        "print(f\"Total price for {p2.name}: ₹{p2.total_price()}\")"
      ],
      "metadata": {
        "id": "aET3Q3zGdFF-",
        "colab": {
          "base_uri": "https://localhost:8080/"
        },
        "outputId": "fe81091a-438c-4cb4-fdbc-82dad556172a"
      },
      "execution_count": 25,
      "outputs": [
        {
          "output_type": "stream",
          "name": "stdout",
          "text": [
            "Total price for Laptop: ₹150000\n",
            "Total price for Phone: ₹90000\n"
          ]
        }
      ]
    },
    {
      "cell_type": "code",
      "source": [
        "#16. Create a class Animal with an abstract method sound(). Create two derived classes Cow and Sheep that implement the sound() method.\n",
        "from abc import ABC, abstractmethod\n",
        "\n",
        "# Abstract base class\n",
        "class Animal(ABC):\n",
        "    @abstractmethod\n",
        "    def sound(self):\n",
        "        pass  # Abstract method\n",
        "\n",
        "\n",
        "# Derived class 1\n",
        "class Cow(Animal):\n",
        "    def sound(self):\n",
        "        print(\"Cow says: Moo!\")\n",
        "\n",
        "\n",
        "# Derived class 2\n",
        "class Sheep(Animal):\n",
        "    def sound(self):\n",
        "        print(\"Sheep says: Baa!\")\n",
        "\n",
        "\n",
        "# Example usage\n",
        "animals = [Cow(), Sheep()]\n",
        "\n",
        "for animal in animals:\n",
        "    animal.sound()"
      ],
      "metadata": {
        "id": "_WmhYWWldIvE",
        "colab": {
          "base_uri": "https://localhost:8080/"
        },
        "outputId": "02db03cc-ed2b-4a9c-e887-230849ff4706"
      },
      "execution_count": 26,
      "outputs": [
        {
          "output_type": "stream",
          "name": "stdout",
          "text": [
            "Cow says: Moo!\n",
            "Sheep says: Baa!\n"
          ]
        }
      ]
    },
    {
      "cell_type": "code",
      "source": [
        "#17. Create a class Book with attributes title, author, and year_published. Add a method get_book_info() that returns a formatted string with the book's details.\n",
        "class Book:\n",
        "    def __init__(self, title, author, year_published):\n",
        "        self.title = title\n",
        "        self.author = author\n",
        "        self.year_published = year_published\n",
        "\n",
        "    # Method to return book details\n",
        "    def get_book_info(self):\n",
        "        return f\"'{self.title}' by {self.author} (Published in {self.year_published})\"\n",
        "\n",
        "\n",
        "# Example usage\n",
        "b1 = Book(\"To Kill a Mockingbird\", \"Harper Lee\", 1960)\n",
        "b2 = Book(\"1984\", \"George Orwell\", 1949)\n",
        "\n",
        "print(b1.get_book_info())\n",
        "print(b2.get_book_info())"
      ],
      "metadata": {
        "id": "LwSdTAlhdNfA",
        "colab": {
          "base_uri": "https://localhost:8080/"
        },
        "outputId": "ece4d11f-45f5-4bde-a3c5-d4e4e794f39e"
      },
      "execution_count": 27,
      "outputs": [
        {
          "output_type": "stream",
          "name": "stdout",
          "text": [
            "'To Kill a Mockingbird' by Harper Lee (Published in 1960)\n",
            "'1984' by George Orwell (Published in 1949)\n"
          ]
        }
      ]
    },
    {
      "cell_type": "code",
      "source": [
        "#18. Create a class House with attributes address and price. Create a derived class Mansion that adds an attribute number_of_rooms.\n",
        "class House:\n",
        "    def __init__(self, address, price):\n",
        "        self.address = address\n",
        "        self.price = price\n",
        "\n",
        "    def display_info(self):\n",
        "        print(f\"Address: {self.address}\")\n",
        "        print(f\"Price: ₹{self.price}\")\n",
        "\n",
        "# Derived class\n",
        "class Mansion(House):\n",
        "    def __init__(self, address, price, number_of_rooms):\n",
        "        super().__init__(address, price)  # Call the parent class constructor\n",
        "        self.number_of_rooms = number_of_rooms\n",
        "\n",
        "    def display_info(self):\n",
        "        super().display_info()  # Reuse parent method\n",
        "        print(f\"Number of Rooms: {self.number_of_rooms}\")\n",
        "\n",
        "\n",
        "# Example usage\n",
        "m = Mansion(\"1235 Panache valley, Dehradun\", 500000000, 10)\n",
        "m.display_info()"
      ],
      "metadata": {
        "id": "t2kjJacudPX9",
        "colab": {
          "base_uri": "https://localhost:8080/"
        },
        "outputId": "c977a2a3-3e5c-442a-f227-1cdb9722c485"
      },
      "execution_count": 30,
      "outputs": [
        {
          "output_type": "stream",
          "name": "stdout",
          "text": [
            "Address: 1235 Panache valley, Dehradun\n",
            "Price: ₹500000000\n",
            "Number of Rooms: 10\n"
          ]
        }
      ]
    }
  ]
}