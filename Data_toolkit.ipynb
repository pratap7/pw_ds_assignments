{
  "nbformat": 4,
  "nbformat_minor": 0,
  "metadata": {
    "colab": {
      "provenance": []
    },
    "kernelspec": {
      "name": "python3",
      "display_name": "Python 3"
    },
    "language_info": {
      "name": "python"
    }
  },
  "cells": [
    {
      "cell_type": "markdown",
      "source": [
        "# Data Toolkit: Theory Questions"
      ],
      "metadata": {
        "id": "KaJDJvUOoVxE"
      }
    },
    {
      "cell_type": "markdown",
      "source": [
        "1. What is NumPy, and why is it widely used in Python?\n",
        "\n",
        "    => NumPy is a fundamental library in Python for scientific computing. It offers powerful features for working with multidimensional arrays and performing various mathematical operations efficiently. NumPy (Numerical Python) is an open source Python library that has a wide range of inbuilt functions.\n",
        "\n",
        "    **Why is NumPy widely used**:\n",
        "     - **Fast and Efficient Computation**: NumPy arrays are implemented in C, making operations much faster than native Python lists—especially for large datasets.\n",
        "     - **Vectorization**: You can apply operations to entire arrays without explicit loops:\n",
        "\n",
        "        ```\n",
        "        import numpy as np\n",
        "        arr = np.array([1, 2, 3])\n",
        "        print(arr * 2)  # [2 4 6]\n",
        "        ```\n",
        "          This leads to cleaner and faster code.\n",
        "      - **Memory Efficiency**: NumPy stores data in contiguous memory blocks, which reduces overhead compared to Python objects.\n",
        "      - **Integration with Other Libraries**: Libraries like Pandas, Scikit-learn, TensorFlow, and PyTorch use NumPy arrays as their underlying data structure.\n",
        "      - **Mathematical and Statistical Functions**: NumPy provides a large number of built-in functions like np.mean(), np.std(), np.dot(), etc.\n",
        "      - **Interoperability with C/C++ and Fortran**: NumPy allows you to interface with code written in other languages for even greater performance."
      ],
      "metadata": {
        "id": "r3Q71-Pc7wYv"
      }
    },
    {
      "cell_type": "markdown",
      "source": [
        "2. How does broadcasting work in NumPy?\n",
        "\n",
        "    => Broadcasting is a mechanism in NumPy that allows performing operations on arrays of different shapes under certain conditions. When operands have different shapes, NumPy expands the smaller array to match the larger one in a specific way to perform element-wise operations. Broadcasting allows NumPy to perform arithmetic operations on arrays of different shapes without copying data.\n",
        "    \n",
        "    When operating on two arrays, NumPy compares their shapes from right to left. Two dimensions are compatible if:\n",
        "    - They are equal, or\n",
        "    - One of them is 1 (it can be stretched).\n",
        "\n",
        "    *Example 1* :\n",
        "\n",
        "      ```\n",
        "      import numpy as np\n",
        "\n",
        "      A = np.array([[1, 2, 3],\n",
        "                    [4, 5, 6]])   # Shape: (2, 3)\n",
        "\n",
        "      B = np.array([10, 20, 30])  # Shape: (3,)\n",
        "\n",
        "      print(A + B)\n",
        "      # output: [[11 22 33]\n",
        "      #       [14 25 36]]\n",
        "      ```\n",
        "\n",
        "      *Example 2* :\n",
        "\n",
        "\n",
        "    ```\n",
        "    A = np.array([[1], [2], [3]])  # Shape: (3, 1)\n",
        "    B = np.array([10, 20, 30])     # Shape: (3,)\n",
        "    ```\n",
        "    This gives an error because the shapes (3,1) and (3,) are not compatible after alignment.\n",
        "\n"
      ],
      "metadata": {
        "id": "nCEkXTZY714s"
      }
    },
    {
      "cell_type": "markdown",
      "source": [
        "3. What is a Pandas DataFrame?\n",
        "\n",
        "    => A DataFrame is a 2-dimensional labeled data structure in Python provided by the Pandas library. It is like a table or spreadsheet, where data is organized in rows and columns, and each column can have a different data type (numbers, strings, dates, etc.).\n",
        "    You typically import Pandas like this:\n",
        "\n",
        "      ```\n",
        "      import pandas as pd\n",
        "      ```\n",
        "      **Key Features**:\n",
        "      - **Labeled Axes**\n",
        "        - Rows have index labels\n",
        "        - Columns have column names\n",
        "      - **Heterogeneous Data**\n",
        "        - Each column can hold different types of data (int, float, string, etc.)\n",
        "      - **Powerful Data Operations**\n",
        "        - Filtering, grouping, merging, aggregating, sorting, etc.\n",
        "      - **Easy Input/Output**\n",
        "        - Can read/write from CSV, Excel, SQL, JSON, and more"
      ],
      "metadata": {
        "id": "Y-7VINqD76UG"
      }
    },
    {
      "cell_type": "markdown",
      "source": [
        "4. Explain the use of the groupby() method in Pandas?\n",
        "\n",
        "    => The groupby() method in Pandas is used to split a DataFrame into groups based on the values of one or more columns, then apply an operation (like sum, mean, count, etc.) to each group.\n",
        "\n",
        "    *It follows the “Split-Apply-Combine” strategy*:\n",
        "     - Split the data into groups\n",
        "     - Apply a function to each group\n",
        "     - Combine the results into a new DataFrame or Series\n",
        "\n",
        "     *Example*:\n",
        "\n",
        "\n",
        "      ```\n",
        "      import pandas as pd\n",
        "\n",
        "      data = {\n",
        "          'Department': ['HR', 'IT', 'HR', 'IT', 'Sales'],\n",
        "          'Employee': ['Alice', 'Bob', 'Charlie', 'David', 'Eve'],\n",
        "          'Salary': [50000, 60000, 55000, 65000, 70000]\n",
        "      }\n",
        "\n",
        "      df = pd.DataFrame(data)\n",
        "\n",
        "      # Group by Department and calculate average salary\n",
        "      grouped = df.groupby('Department')['Salary'].mean()\n",
        "      print(grouped)\n",
        "\n",
        "      # Output: Department\n",
        "      #         HR       52500.0\n",
        "      #         IT       62500.0\n",
        "      #         Sales    70000.0\n",
        "      #         Name: Salary, dtype: float64\n",
        "      ```\n",
        "    **Key Uses**:\n",
        "    - Aggregation: .sum(), .mean(), .count(), .max(), etc.\n",
        "    - Transformation: apply a function to modify group values\n",
        "    - Filtering: keep groups that meet a condition\n",
        "\n"
      ],
      "metadata": {
        "id": "bix0diti79nv"
      }
    },
    {
      "cell_type": "markdown",
      "source": [
        "5. Why is Seaborn preferred for statistical visualizations?\n",
        "\n",
        "    => Seaborn is a Python library built on top of Matplotlib that makes it easier to create attractive and informative statistical graphics.\n",
        "\n",
        "    **Key Reasons for Preference**:\n",
        "    - **High-Level Interface**\n",
        "      - Simplifies complex visualizations with just a few lines of code.\n",
        "      - Example: sns.boxplot(x='Category', y='Value', data=df) automatically handles grouping and statistics.\n",
        "    - **Built-in Statistical Plots**\n",
        "      - Provides specialized plots for statistical analysis:\n",
        "        - Distribution plots: histplot(), kdeplot()\n",
        "        - Categorical plots: boxplot(), violinplot(), barplot()\n",
        "        - Relational plots: scatterplot(), lineplot()\n",
        "      - Many of these automatically compute aggregates, confidence intervals, and summaries.\n",
        "    - **Integration with Pandas**\n",
        "      - Works directly with DataFrames, using column names for plotting, no need to convert data manually.\n",
        "    - **Beautiful Default Styles**\n",
        "      - Seaborn applies visually appealing themes and color palettes automatically, so plots look professional without much tweaking.\n",
        "    - **Handles Complex Data Easily**\n",
        "      - Can visualize relationships between multiple variables using facets, hue, and style options.\n",
        "      - Example: sns.pairplot(df, hue='Category') shows all pairwise relationships with color-coded categories."
      ],
      "metadata": {
        "id": "bNKdBMak8BNn"
      }
    },
    {
      "cell_type": "markdown",
      "source": [
        "6. What are the differences between NumPy arrays and Python lists?\n",
        "\n",
        "    => Here’s a clear comparison between NumPy arrays and Python lists:\n",
        "     - **Homogeneity**\n",
        "       - **NumPy array**: All elements must be of the same data type (int, float, etc.)\n",
        "       - **Python list**: Can contain mixed data types (ints, strings, objects)\n",
        "\n",
        "        ```\n",
        "        import numpy as np\n",
        "        arr = np.array([1, 2, 3])  # all integers\n",
        "        lst = [1, 'a', 3.5]        # mixed types allowed\n",
        "        ```\n",
        "    - **Performance**\n",
        "      - **NumPy array**: Implemented in C, very fast for large-scale numerical operations\n",
        "      - **Python list**: Slower for arithmetic or large computations, because each element is a Python object\n",
        "    - **Memory Efficiency**\n",
        "      - **NumPy array**: Uses contiguous memory blocks, more efficient\n",
        "      - **Python list**: Each element is a separate object → more memory overhead\n",
        "    - **Operations**\n",
        "      - **NumPy array**: Supports vectorized operations (element-wise operations without loops)\n",
        "\n",
        "\n",
        "        ```\n",
        "        import numpy as np\n",
        "        arr = np.array([1, 2, 3])\n",
        "        print(arr * 2)  # [2 4 6]\n",
        "        ```\n",
        "\n",
        "      - **Python list**: Must use loops or list comprehensions\n",
        "\n",
        "          ```\n",
        "          lst = [1, 2, 3]\n",
        "          print([x*2 for x in lst])  # [2, 4, 6]\n",
        "          ```\n",
        "    - **Functionality**\n",
        "      - **NumPy array**: Has built-in mathematical, statistical, and linear algebra functions\n",
        "      - **Python list**: Lacks built-in array operations; must use loops or external libraries"
      ],
      "metadata": {
        "id": "BFqeh3sD8EeB"
      }
    },
    {
      "cell_type": "markdown",
      "source": [
        "7. What is a heatmap, and when should it be used?\n",
        "\n",
        "    => A heatmap is a graphical representation of data where values are shown as colors in a grid or matrix.\n",
        "     - Typically, darker or brighter colors indicate higher or lower values.\n",
        "     - Often used to visualize correlations, frequencies, or patterns in datasets.\n",
        "\n",
        "    In Python, heatmaps are usually created using Seaborn:\n",
        "\n",
        "\n",
        "      ```\n",
        "          import seaborn as sns\n",
        "          import pandas as pd\n",
        "\n",
        "          # Example data\n",
        "          data = pd.DataFrame({\n",
        "              'A': [1, 2, 3],\n",
        "              'B': [4, 5, 6],\n",
        "              'C': [7, 8, 9]\n",
        "          })\n",
        "\n",
        "          sns.heatmap(data, annot=True, cmap='coolwarm')\n",
        "      ```\n",
        "      **When to Use a Heatmap**:\n",
        "      - **Correlation Analysis** – visualize how features relate to each other.\n",
        "      - **Data Patterns** – see clusters, trends, or anomalies in large datasets.\n",
        "      - **Confusion Matrices** – in classification tasks to show prediction accuracy.\n",
        "      - **Comparisons** – easy way to compare values across rows and columns at a glance."
      ],
      "metadata": {
        "id": "eQR8dv2E8I7e"
      }
    },
    {
      "cell_type": "markdown",
      "source": [
        "8. What does the term “vectorized operation” mean in NumPy?\n",
        "\n",
        "    => A vectorized operation in NumPy means performing element-wise operations on entire arrays without writing explicit Python loops.\n",
        "     - NumPy handles the operation internally in optimized C code, making it faster and more efficient than looping through elements in Python.\n",
        "\n",
        "     *Example: Multiplying each element by 2*\n",
        "\n",
        "\n",
        "      ```\n",
        "      #Using a Python loop:\n",
        "\n",
        "      lst = [1, 2, 3, 4]\n",
        "      result = [x*2 for x in lst]  # or use a for-loop\n",
        "      print(result)  # [2, 4, 6, 8]\n",
        "\n",
        "\n",
        "      #Using NumPy (vectorized):\n",
        "\n",
        "      import numpy as np\n",
        "      arr = np.array([1, 2, 3, 4])\n",
        "      result = arr * 2\n",
        "      print(result)  # [2 4 6 8]\n",
        "      ```\n",
        "\n",
        "    **Why Vectorization Matters**\n",
        "    - **Performance**: Much faster for large datasets.\n",
        "    - **Concise Code**: Fewer lines, easier to read.\n",
        "    - **Memory Efficient**: Operates on contiguous memory blocks internally."
      ],
      "metadata": {
        "id": "X8LxyMMh8LCx"
      }
    },
    {
      "cell_type": "markdown",
      "source": [
        "9. How does Matplotlib differ from Plotly?\n",
        "\n",
        "    => Here’s a clear comparison between Matplotlib and Plotly:\n",
        "     - **Nature of Plots**\n",
        "        - **Matplotlib**: Primarily static plots (images).\n",
        "        - **Plotly**: Creates interactive plots that you can zoom, hover, and pan.\n",
        "    - **Ease of Use**\n",
        "      - **Matplotlib**: Low-level, highly customizable, but requires more code for complex plots.\n",
        "      - **Plotly**: High-level, simpler for interactive and dashboard-ready plots.\n",
        "      \n",
        "    - **Integration**\n",
        "      - **Matplotlib**: Works well in Jupyter notebooks and for static reports.\n",
        "      - **Plotly**: Works in notebooks, web apps (via Dash), and can export interactive HTML files.\n",
        "      \n",
        "    - **Styling and Appearance**\n",
        "      - **Matplotlib**: Good default styles, can be customized extensively, but may require manual tweaking.\n",
        "      - **Plotly**: Beautiful interactive styles by default, often requires less styling effort.\n",
        "      \n",
        "    - **Use Cases**\n",
        "      - **Matplotlib**: Best for static figures, scientific papers, and precise customization.\n",
        "      - **Plotly**: Best for interactive dashboards, exploratory data analysis, and web visualizations."
      ],
      "metadata": {
        "id": "YKnqVdXi8Oj7"
      }
    },
    {
      "cell_type": "markdown",
      "source": [
        "10. What is the significance of hierarchical indexing in Pandas?\n",
        "\n",
        "    => Hierarchical indexing (also called multi-level indexing) in Pandas allows a DataFrame or Series to have multiple index levels on rows and/or columns.\n",
        "     - It lets you organize and access data in a more structured way, especially for multi-dimensional data.\n",
        "     - Think of it as having rows within rows or columns within columns.\n",
        "\n",
        "    **Why It is Useful**\n",
        "     - **Better Organization**\n",
        "       - Can store data with multiple keys, e.g., sales by country → city → month.\n",
        "    - **Easier Aggregation & Slicing**\n",
        "      - You can quickly group, filter, or aggregate by any level of the index.\n",
        "\n",
        "    - **Compact Representation**\n",
        "      - Avoids creating wide DataFrames with many columns for multi-level data."
      ],
      "metadata": {
        "id": "voKIsE358SpB"
      }
    },
    {
      "cell_type": "markdown",
      "source": [
        "11. What is the role of Seaborn’s pairplot() function?\n",
        "\n",
        "    => The pairplot() function in Seaborn is used to visualize pairwise relationships in a dataset.\n",
        "\n",
        "      - It creates a matrix of plots showing scatter plots for each pair of numerical variables.\n",
        "      - It also shows diagonal plots (like histograms or KDEs) for individual variables.\n",
        "      - You can color points by a categorical variable using the hue parameter.\n",
        "\n",
        "    **Why It is Useful**\n",
        "     - **Quick EDA (Exploratory Data Analysis)**:\n",
        "        - Helps identify correlations, trends, or clusters between variables.\n",
        "    - **Visualizing Relationships**:\n",
        "      - Shows how each variable relates to every other variable in the dataset.\n",
        "\n",
        "    - **Categorical Insights**:\n",
        "      - Coloring by a category helps detect class separation or patterns."
      ],
      "metadata": {
        "id": "rEcGPKMA8Wlg"
      }
    },
    {
      "cell_type": "markdown",
      "source": [
        "12. What is the purpose of the describe() function in Pandas?\n",
        "\n",
        "    => The describe() function generates summary statistics of a DataFrame’s numerical (or categorical) columns. It provides a quick overview of the data’s distribution and central tendency.\n",
        "     - What it Shows (for numeric data by default)\n",
        "       - count - Number of non-missing values\n",
        "       - mean\t- Average value\n",
        "       - std\t- Standard deviation (spread)\n",
        "       - min\t- Minimum value\n",
        "       - 25%\t- 1st quartile (25th percentile)\n",
        "       - 50%\t- Median (50th percentile)\n",
        "       - 75%\t- 3rd quartile (75th percentile)\n",
        "       - max\t- Maximum value\n",
        "\n",
        "      - *Example*:\n",
        "\n",
        "\n",
        "        ```\n",
        "        import pandas as pd\n",
        "\n",
        "        data = pd.DataFrame({\n",
        "            'Age': [25, 30, 35, 40],\n",
        "            'Salary': [50000, 60000, 70000, 80000]\n",
        "        })\n",
        "\n",
        "        print(data.describe())\n",
        "\n",
        "        #Output:\n",
        "\n",
        "                    Age        Salary\n",
        "        count   4.000000      4.000000\n",
        "        mean   32.500000  65000.000000\n",
        "        std     6.454972  12909.944487\n",
        "        min    25.000000  50000.000000\n",
        "        25%    28.750000  57500.000000\n",
        "        50%    32.500000  65000.000000\n",
        "        75%    36.250000  72500.000000\n",
        "        max    40.000000  80000.000000\n",
        "        ```\n",
        "\n",
        "      **Why It is Useful**\n",
        "       - Quickly understand distributions and spot anomalies.\n",
        "       - Helps in data cleaning, exploration, and preprocessing.\n",
        "       - Can also summarize categorical data with data.describe(include='object')."
      ],
      "metadata": {
        "id": "kulpX3uS8aR9"
      }
    },
    {
      "cell_type": "markdown",
      "source": [
        "13. Why is handling missing data important in Pandas?\n",
        "\n",
        "    => Missing data (NaN or None) can cause errors, incorrect calculations, and misleading results in data analysis. Proper handling ensures that your analysis is accurate and meaningful.\n",
        "\n",
        "    **Key Reasons**\n",
        "     - **Prevents Errors**\n",
        "       - Functions like .mean(), .sum(), or machine learning algorithms may fail or produce wrong outputs if missing values are present.\n",
        "\n",
        "    - **Improves Analysis Accuracy**\n",
        "      - Ignoring missing data can bias results if the missingness is not random.\n",
        "\n",
        "    - **Necessary for Modeling**\n",
        "      - Most statistical or ML models cannot handle NaN values, so you must clean or impute missing data.\n",
        "\n",
        "    - **Data Integrity**\n",
        "      - Helps maintain consistent datasets, ensuring comparisons and calculations are valid."
      ],
      "metadata": {
        "id": "5ZiitDJs8ecf"
      }
    },
    {
      "cell_type": "markdown",
      "source": [
        "14. What are the benefits of using Plotly for data visualization?\n",
        "\n",
        "    => Plotly is a Python library for creating interactive, web-ready visualizations. Its main benefits include:\n",
        "      - **Interactivity**\n",
        "        - Plots are interactive by default: zoom, pan, hover, and click events.\n",
        "        - Ideal for exploratory data analysis and dashboards.\n",
        "      - **Wide Range of Plots**\n",
        "        - Supports line, bar, scatter, box, heatmaps, 3D plots, and more.\n",
        "        - Specialized charts like choropleth maps, candlestick charts, and sunburst plots.\n",
        "    - **Web & Dashboard Integration**\n",
        "      - Easily embed plots in web apps using Dash or export as interactive HTML.\n",
        "      \n",
        "    - **Beautiful Default Styles**\n",
        "      - Attractive, modern aesthetics without extensive styling.\n",
        "      - Color palettes, themes, and labels are highly customizable.\n",
        "    - **Multi-Language Support**\n",
        "      - Works in Python, R, JavaScript, and Julia, enabling cross-platform visualization.\n",
        "    - **Handles Large Datasets**\n",
        "      - Can efficiently handle large datasets with interactive filtering and updates."
      ],
      "metadata": {
        "id": "5T781mHC8hjJ"
      }
    },
    {
      "cell_type": "markdown",
      "source": [
        "15. How does NumPy handle multidimensional arrays?\n",
        "\n",
        "    => NumPy supports N-dimensional arrays (ndarrays), which are generalizations of 1D and 2D arrays.\n",
        "\n",
        "    - Each array has a shape, indicating the size along each dimension.\n",
        "    - NumPy provides efficient storage and operations for multidimensional arrays.\n",
        "\n",
        "    **How It Works**\n",
        "     - **Shape and Dimensions**\n",
        "       - Each array has a .shape (tuple of sizes along each axis) and .ndim (number of axes).\n",
        "\n",
        "\n",
        "        ```\n",
        "            import numpy as np\n",
        "            arr = np.array([[1, 2, 3], [4, 5, 6]])\n",
        "            print(arr.shape)  # (2, 3)\n",
        "            print(arr.ndim)   # 2\n",
        "        ```\n",
        "    - **Efficient Memory Storage**\n",
        "        - Data is stored in a contiguous block of memory, making operations faster and more memory-efficient than nested Python lists.\n",
        "\n",
        "    - **Indexing and Slicing**\n",
        "      - You can access elements using multiple indices:\n",
        "      ```\n",
        "        print(arr[1, 2])  # 6\n",
        "      ```\n",
        "      - Supports slicing along multiple dimensions:\n",
        "\n",
        "      ```\n",
        "      print(arr[:, 1])  # second column → [2 5]\n",
        "      ```\n",
        "\n",
        "    - **Operations Across Dimensions**\n",
        "      - Arithmetic and mathematical operations are broadcast across all elements, regardless of dimensions:\n",
        "\n",
        "\n",
        "      ```\n",
        "      print(arr * 2)\n",
        "      ```\n",
        "    - **Reshaping and Transposing**\n",
        "      - NumPy allows reshaping arrays to new dimensions without copying data:\n",
        "\n",
        "      ```\n",
        "      arr.reshape(3, 2)\n",
        "      arr.T  # transpose\n",
        "      ```\n",
        "\n",
        "\n",
        "\n",
        "\n"
      ],
      "metadata": {
        "id": "-ogQaqfo8kq7"
      }
    },
    {
      "cell_type": "markdown",
      "source": [
        "16. What is the role of Bokeh in data visualization?\n",
        "\n",
        "    => Bokeh is a Python library designed for creating interactive, web-ready visualizations. Its primary role is to turn data into interactive plots that can be displayed in browsers.\n",
        "\n",
        "    **Key Features and Benefits**\n",
        "     - **Interactivity**\n",
        "       - Zoom, pan, hover, and selection tools are available by default.\n",
        "       - Makes exploratory data analysis more engaging.\n",
        "\n",
        "    - **Web Integration**\n",
        "      - Generates HTML and JavaScript outputs that can be embedded in websites or dashboards.\n",
        "      - Works seamlessly with frameworks like Flask or Django.\n",
        "\n",
        "    - **High-Quality Visuals**\n",
        "      - Supports lines, bars, scatter, heatmaps, and more.\n",
        "      - Plots can be styled and customized extensively.\n",
        "\n",
        "    - **Streaming and Large Datasets**\n",
        "      - Can handle real-time updates and large datasets efficiently.\n",
        "    - **Pythonic API**\n",
        "      - Easy to use with Python code, but also allows low-level customization with JavaScript callbacks."
      ],
      "metadata": {
        "id": "F6cgzwTU8n2H"
      }
    },
    {
      "cell_type": "markdown",
      "source": [
        "17. Explain the difference between apply() and map() in Pandas?\n",
        "\n",
        "    => Here’s a clear explanation of the difference between apply() and map() in Pandas:\n",
        "     #**map()**\n",
        "      - Used primarily on Series.\n",
        "      - Applies a function element-wise to each value in the Series.\n",
        "      - Can also take a dictionary or Series for mapping values.\n",
        "      - *Example*:\n",
        "\n",
        "\n",
        "        ```\n",
        "        import pandas as pd\n",
        "        s = pd.Series([1, 2, 3])\n",
        "        s_mapped = s.map(lambda x: x*2)\n",
        "        print(s_mapped)\n",
        "\n",
        "        #Output:\n",
        "        0    2\n",
        "        1    4\n",
        "        2    6\n",
        "        dtype: int64\n",
        "        ```\n",
        "\n",
        "\n",
        "    #**apply()**\n",
        "     - Can be used on Series or DataFrame.\n",
        "     - For a Series, works like map() (element-wise).\n",
        "     - For a DataFrame, can apply a function row-wise (axis=1) or column-wise (axis=0).\n",
        "\n",
        "    - *Example on Series*:\n",
        "\n",
        "      ```\n",
        "      s_applied = s.apply(lambda x: x**2)\n",
        "      print(s_applied)\n",
        "\n",
        "      Output:\n",
        "      0    1\n",
        "      1    4\n",
        "      2    9\n",
        "      dtype: int64\n",
        "      ```\n",
        "\n",
        "\n",
        "    - *Example on DataFrame*:\n",
        "\n",
        "\n",
        "      ```\n",
        "      df = pd.DataFrame({'A': [1, 2], 'B': [3, 4]})\n",
        "      df_applied = df.apply(lambda x: x.sum(), axis=1)  # sum across rows\n",
        "      print(df_applied)\n",
        "\n",
        "      Output:\n",
        "      0    4\n",
        "      1    6\n",
        "      dtype: int64\n",
        "      ```\n",
        "\n",
        "\n"
      ],
      "metadata": {
        "id": "fmoLHXI-8rYQ"
      }
    },
    {
      "cell_type": "markdown",
      "source": [
        "18. What are some advanced features of NumPy?\n",
        "\n",
        "    => Here’s a concise overview of some advanced features of NumPy beyond basic array operations:\n",
        "     - **Broadcasting**\n",
        "       - Allows operations on arrays of different shapes without explicit loops.\n",
        "       - Efficient for element-wise operations on large arrays.\n",
        "\n",
        "          ```\n",
        "          import numpy as np\n",
        "          a = np.array([[1, 2, 3]])\n",
        "          b = np.array([[10], [20]])\n",
        "          print(a + b)\n",
        "          ```\n",
        "    - **Advanced Indexing**\n",
        "      - Boolean indexing: select elements based on conditions.\n",
        "\n",
        "        ```\n",
        "        arr = np.array([1, 2, 3, 4])\n",
        "        print(arr[arr > 2])  # [3 4]\n",
        "        ```\n",
        "      - Fancy indexing: select multiple elements using arrays of indices\n",
        "    - **Universal Functions (ufuncs)**\n",
        "      - Vectorized mathematical functions: np.sin(), np.exp(), np.log(), etc.\n",
        "      - Operate element-wise on arrays efficiently.\n",
        "    - **Linear Algebra and Matrix Operations**\n",
        "      - Functions like np.dot(), np.linalg.inv(), np.linalg.eig() for matrix computations.\n",
        "\n",
        "        ```\n",
        "        A = np.array([[1, 2], [3, 4]])\n",
        "        print(np.linalg.inv(A))  # Inverse of matrix\n",
        "        ```\n",
        "\n",
        "    - **Random Number Generation**\n",
        "      - numpy.random module for simulations, sampling, and stochastic processes.\n",
        "\n",
        "        ```\n",
        "        np.random.normal(0, 1, size=(3,3))  # 3x3 normal random numbers\n",
        "        ```\n",
        "    - **Structured Arrays**\n",
        "      - Allows arrays with heterogeneous data types, similar to a lightweight database table.\n",
        "\n",
        "        ```\n",
        "        dt = np.dtype([('name', 'U10'), ('age', 'i4')])\n",
        "        arr = np.array([('Alice', 25), ('Bob', 30)], dtype=dt)\n",
        "        ```\n",
        "\n",
        "    - **Memory Mapping and Performance**\n",
        "      - np.memmap for working with large datasets that do not fit in memory.\n",
        "      - Supports views and slicing without copying data."
      ],
      "metadata": {
        "id": "eruyZIaR8vMk"
      }
    },
    {
      "cell_type": "markdown",
      "source": [
        "19. How does Pandas simplify time series analysis?\n",
        "\n",
        "    => Pandas has built-in tools specifically designed to make working with time series data easier, faster, and more intuitive.\n",
        "    \n",
        "    **Key Features**\n",
        "     - **Datetime Support**\n",
        "       - Convert strings or timestamps to datetime objects with pd.to_datetime().\n",
        "       - Supports date arithmetic, comparisons, and formatting.\n",
        "\n",
        "        ```\n",
        "        import pandas as pd\n",
        "        dates = pd.to_datetime(['2023-01-01', '2023-01-02'])\n",
        "        print(dates + pd.Timedelta(days=5))\n",
        "        ```\n",
        "\n",
        "    - **Indexing with Dates**\n",
        "      - Can set a DatetimeIndex for easy label-based slicing.\n",
        "\n",
        "      ```\n",
        "      df = pd.DataFrame({'Value':[10,20]}, index=dates)\n",
        "      print(df['2023-01-01':'2023-01-02'])\n",
        "      ```\n",
        "\n",
        "    - **Resampling and Frequency Conversion**\n",
        "      - Easily aggregate data to different time frequencies: daily, weekly, monthly.\n",
        "\n",
        "      ```\n",
        "      ts = pd.Series([1, 2, 3, 4], index=pd.date_range('2023-01-01', periods=4, freq='D'))\n",
        "      print(ts.resample('2D').sum())  # sum every 2 days\n",
        "      ```\n",
        "    - **Rolling and Moving Windows**\n",
        "      - Compute rolling statistics like moving averages or sums:\n",
        "\n",
        "\n",
        "        ```\n",
        "        print(ts.rolling(window=2).mean())\n",
        "        ```\n",
        "    - **Time Zone Handling**\n",
        "      - Convert between time zones or localize timestamps:\n",
        "\n",
        "        ```\n",
        "        ts = ts.tz_localize('UTC').tz_convert('US/Eastern')\n",
        "        ```\n",
        "    - **Handling Missing Dates**\n",
        "      - Pandas can fill in missing dates and perform interpolation or forward/backward filling."
      ],
      "metadata": {
        "id": "FfFq-0tO8y97"
      }
    },
    {
      "cell_type": "markdown",
      "source": [
        "20. What is the role of a pivot table in Pandas?\n",
        "\n",
        "    => A pivot table in Pandas is used to summarize, aggregate, and reorganize data in a tabular format.\n",
        "     - It allows you to group data by one or more keys, perform aggregations, and reshape the data for easier analysis.\n",
        "     - Conceptually similar to Excel pivot tables.\n",
        "\n",
        "    **Key Features**\n",
        "    - **Aggregation**\n",
        "      - Calculate sums, averages, counts, or other statistics for grouped data.\n",
        "    - **Multi-level Indexing**\n",
        "      - Can group by rows and columns simultaneously for multi-dimensional summaries.\n",
        "    - **Flexible Functions**\n",
        "      - Supports different aggregation functions: sum, mean, count, min, max, or custom functions.\n",
        "\n",
        "    - *Example*\n",
        "\n",
        "\n",
        "      ```\n",
        "      import pandas as pd\n",
        "\n",
        "      data = pd.DataFrame({\n",
        "          'Department': ['HR', 'IT', 'HR', 'IT', 'Sales'],\n",
        "          'Employee': ['Alice', 'Bob', 'Charlie', 'David', 'Eve'],\n",
        "          'Salary': [50000, 60000, 55000, 65000, 70000]\n",
        "      })\n",
        "\n",
        "      # Pivot table: average salary by Department\n",
        "      pivot = data.pivot_table(values='Salary', index='Department', aggfunc='mean')\n",
        "      print(pivot)\n",
        "\n",
        "      #Output:          \n",
        "      Department    Salary     \n",
        "      HR            52500.0\n",
        "      IT            62500.0\n",
        "      Sales         70000.0\n",
        "      ```\n",
        "\n",
        "\n"
      ],
      "metadata": {
        "id": "yNrQ85Vm82cU"
      }
    },
    {
      "cell_type": "markdown",
      "source": [
        "21. Why is NumPy’s array slicing faster than Python’s list slicing?\n",
        "\n",
        "    => Here are the reasons:\n",
        "     - **Contiguous Memory Storage**\n",
        "       - NumPy arrays store data in contiguous blocks of memory (like C arrays).\n",
        "       - Python lists store references to objects, which may be scattered in memory.\n",
        "       - Accessing contiguous memory is much faster due to better cache utilization.\n",
        "\n",
        "    - **Vectorized Operations**\n",
        "      - Slicing in NumPy creates views, not copies, whenever possible.\n",
        "      - Operations on slices can be applied directly to the array data without loops.\n",
        "      - Python lists always create new lists when slicing, which requires copying each element individually.\n",
        "    - **Homogeneous Data Type**\n",
        "      - NumPy arrays are homogeneous (all elements same type), enabling optimized low-level operations.\n",
        "      - Python lists can hold mixed types, so slicing involves extra overhead for type checking.\n",
        "    *Example*\n",
        "    ```\n",
        "      import numpy as np\n",
        "      import time\n",
        "\n",
        "      # NumPy array\n",
        "      arr = np.arange(1_000_000)\n",
        "      start = time.time()\n",
        "      slice_arr = arr[1000:5000]\n",
        "      end = time.time()\n",
        "      print(\"NumPy slice:\", end - start)\n",
        "\n",
        "      # Python list\n",
        "      lst = list(range(1_000_000))\n",
        "      start = time.time()\n",
        "      slice_lst = lst[1000:5000]\n",
        "      end = time.time()\n",
        "      print(\"Python list slice:\", end - start)\n",
        "      ```\n",
        "       NumPy slicing is faster and more memory-efficient, especially for large datasets."
      ],
      "metadata": {
        "id": "KfzB0P9W858v"
      }
    },
    {
      "cell_type": "markdown",
      "source": [
        "22. What are some common use cases for Seaborn?\n",
        "\n",
        "    => Seaborn is a Python library built on Matplotlib, designed for statistical data visualization. Some common use cases include:\n",
        "     - **Visualizing Distributions**\n",
        "       - Histograms, KDE plots, and rug plots to understand the distribution of a variable.\n",
        "\n",
        "          ```\n",
        "          sns.histplot(data=df, x='Age', kde=True)\n",
        "          ```\n",
        "    - **Analyzing Relationships**\n",
        "       - Scatter plots, regression plots, and pair plots to explore correlations between variables.\n",
        "          ```\n",
        "          sns.scatterplot(x='Height', y='Weight', data=df)\n",
        "          sns.pairplot(df, hue='Gender')\n",
        "          ```\n",
        "    - **Categorical Data Visualization**\n",
        "      - Boxplots, violin plots, bar plots, count plots to compare distributions across categories.\n",
        "\n",
        "        ```\n",
        "        sns.boxplot(x='Department', y='Salary', data=df)\n",
        "        ```\n",
        "    - **Heatmaps**\n",
        "      - Visualize correlation matrices, frequency tables, or pivot tables.\n",
        "\n",
        "        ```\n",
        "        sns.heatmap(df.corr(), annot=True, cmap='coolwarm')\n",
        "        ```\n",
        "    - **Time Series and Trend Analysis**\n",
        "      - Line plots for trends over time with confidence intervals.\n",
        "\n",
        "        ```\n",
        "        sns.lineplot(x='Date', y='Sales', data=df)\n",
        "        ```\n",
        "    - **Exploratory Data Analysis (EDA)**\n",
        "      - Quickly summarize and visualize datasets to detect patterns, outliers, and relationships."
      ],
      "metadata": {
        "id": "oqkXRMIa89IA"
      }
    },
    {
      "cell_type": "markdown",
      "source": [
        "# Practical Questions"
      ],
      "metadata": {
        "id": "iDSYGwx59DLK"
      }
    },
    {
      "cell_type": "code",
      "source": [
        "#1. How do you create a 2D NumPy array and calculate the sum of each row?\n",
        "import numpy as np\n",
        "\n",
        "# Create a 2D array (matrix)\n",
        "arr = np.array([[1, 2, 3],\n",
        "                [4, 5, 6],\n",
        "                [7, 8, 9]])\n",
        "row_sums = arr.sum(axis=1)\n",
        "print(row_sums)"
      ],
      "metadata": {
        "colab": {
          "base_uri": "https://localhost:8080/"
        },
        "id": "0cfdg8au7uS9",
        "outputId": "c60c382e-0a29-4ab2-d03e-4be4b237c459"
      },
      "execution_count": 3,
      "outputs": [
        {
          "output_type": "stream",
          "name": "stdout",
          "text": [
            "[ 6 15 24]\n"
          ]
        }
      ]
    },
    {
      "cell_type": "code",
      "source": [
        "#2. Write a Pandas script to find the mean of a specific column in a DataFrame.\n",
        "import pandas as pd\n",
        "\n",
        "# Example DataFrame\n",
        "df = pd.DataFrame({\n",
        "    'Age': [25, 30, 35, 40],\n",
        "    'Salary': [50000, 60000, 70000, 80000]\n",
        "})\n",
        "\n",
        "# Calculate mean of 'Salary' column\n",
        "mean_salary = df['Salary'].mean()\n",
        "print(mean_salary)  # 65000.0"
      ],
      "metadata": {
        "colab": {
          "base_uri": "https://localhost:8080/"
        },
        "id": "k2wVPnup9MCO",
        "outputId": "b234c5f7-c51c-48f5-b546-2a7a92862e79"
      },
      "execution_count": 4,
      "outputs": [
        {
          "output_type": "stream",
          "name": "stdout",
          "text": [
            "65000.0\n"
          ]
        }
      ]
    },
    {
      "cell_type": "code",
      "source": [
        "#3. Create a scatter plot using Matplotlib.\n",
        "import matplotlib.pyplot as plt\n",
        "\n",
        "# Example data\n",
        "x = [1, 2, 3, 4, 5]\n",
        "y = [5, 7, 4, 6, 8]\n",
        "\n",
        "# Create scatter plot\n",
        "plt.scatter(x, y)\n",
        "plt.xlabel('X-axis')\n",
        "plt.ylabel('Y-axis')\n",
        "plt.title('Scatter Plot Example')\n",
        "plt.show()"
      ],
      "metadata": {
        "colab": {
          "base_uri": "https://localhost:8080/",
          "height": 472
        },
        "id": "dsNd0TuM9PnE",
        "outputId": "dc798863-086c-44e5-bace-bf91ab638092"
      },
      "execution_count": 5,
      "outputs": [
        {
          "output_type": "display_data",
          "data": {
            "text/plain": [
              "<Figure size 640x480 with 1 Axes>"
            ],
            "image/png": "[encoded data removed]"
          },
          "metadata": {}
        }
      ]
    },
    {
      "cell_type": "code",
      "source": [
        "#4. How do you calculate the correlation matrix using Seaborn and visualize it with a heatmap?\n",
        "import seaborn as sns\n",
        "import pandas as pd\n",
        "import matplotlib.pyplot as plt\n",
        "\n",
        "# Example DataFrame\n",
        "df = pd.DataFrame({\n",
        "    'A': [1, 2, 3, 4],\n",
        "    'B': [4, 3, 2, 1],\n",
        "    'C': [2, 3, 4, 5]\n",
        "})\n",
        "\n",
        "# Calculate correlation matrix\n",
        "corr_matrix = df.corr()\n",
        "\n",
        "# Visualize with heatmap\n",
        "sns.heatmap(corr_matrix, annot=True, cmap='coolwarm')\n",
        "plt.show()"
      ],
      "metadata": {
        "colab": {
          "base_uri": "https://localhost:8080/",
          "height": 435
        },
        "id": "oFJ3CcGK9TVp",
        "outputId": "f753e01b-a95f-42bc-fa1e-f9a0bdc56f9e"
      },
      "execution_count": 6,
      "outputs": [
        {
          "output_type": "display_data",
          "data": {
            "text/plain": [
              "<Figure size 640x480 with 2 Axes>"
            ],
            "image/png": "[encoded data removed]"
          },
          "metadata": {}
        }
      ]
    },
    {
      "cell_type": "code",
      "source": [
        "#5. Generate a bar plot using Plotly.\n",
        "import plotly.express as px\n",
        "import pandas as pd\n",
        "\n",
        "# Example DataFrame\n",
        "df = pd.DataFrame({\n",
        "    'Category': ['A', 'B', 'C'],\n",
        "    'Values': [10, 20, 15]\n",
        "})\n",
        "\n",
        "# Create bar plot\n",
        "fig = px.bar(df, x='Category', y='Values', title='Bar Plot Example')\n",
        "fig.show()"
      ],
      "metadata": {
        "colab": {
          "base_uri": "https://localhost:8080/",
          "height": 542
        },
        "id": "Tj23XSGY9Xgm",
        "outputId": "9c048a18-1d3a-4996-cf95-d5baa7e41d55"
      },
      "execution_count": 7,
      "outputs": [
        {
          "output_type": "display_data",
          "data": {
            "text/html": [
              "<html>\n",
              "<head><meta charset=\"utf-8\" /></head>\n",
              "<body>\n",
              "    <div>            <script src=\"https://cdnjs.cloudflare.com/ajax/libs/mathjax/2.7.5/MathJax.js?config=TeX-AMS-MML_SVG\"></script><script type=\"text/javascript\">if (window.MathJax && window.MathJax.Hub && window.MathJax.Hub.Config) {window.MathJax.Hub.Config({SVG: {font: \"STIX-Web\"}});}</script>                <script type=\"text/javascript\">window.PlotlyConfig = {MathJaxConfig: 'local'};</script>\n",
              "        <script charset=\"utf-8\" src=\"https://cdn.plot.ly/plotly-2.35.2.min.js\"></script>                <div id=\"b7bcc0f3-fc0c-4c0f-ad4c-ffc81fcc3f8c\" class=\"plotly-graph-div\" style=\"height:525px; width:100%;\"></div>            <script type=\"text/javascript\">                                    window.PLOTLYENV=window.PLOTLYENV || {};                                    if (document.getElementById(\"b7bcc0f3-fc0c-4c0f-ad4c-ffc81fcc3f8c\")) {                    Plotly.newPlot(                        \"b7bcc0f3-fc0c-4c0f-ad4c-ffc81fcc3f8c\",                        [{\"alignmentgroup\":\"True\",\"hovertemplate\":\"Category=%{x}\\u003cbr\\u003eValues=%{y}\\u003cextra\\u003e\\u003c\\u002fextra\\u003e\",\"legendgroup\":\"\",\"marker\":{\"color\":\"#636efa\",\"pattern\":{\"shape\":\"\"}},\"name\":\"\",\"offsetgroup\":\"\",\"orientation\":\"v\",\"showlegend\":false,\"textposition\":\"auto\",\"x\":[\"A\",\"B\",\"C\"],\"xaxis\":\"x\",\"y\":[10,20,15],\"yaxis\":\"y\",\"type\":\"bar\"}],                        {\"template\":{\"data\":{\"histogram2dcontour\":[{\"type\":\"histogram2dcontour\",\"colorbar\":{\"outlinewidth\":0,\"ticks\":\"\"},\"colorscale\":[[0.0,\"#0d0887\"],[0.1111111111111111,\"#46039f\"],[0.2222222222222222,\"#7201a8\"],[0.3333333333333333,\"#9c179e\"],[0.4444444444444444,\"#bd3786\"],[0.5555555555555556,\"#d8576b\"],[0.6666666666666666,\"#ed7953\"],[0.7777777777777778,\"#fb9f3a\"],[0.8888888888888888,\"#fdca26\"],[1.0,\"#f0f921\"]]}],\"choropleth\":[{\"type\":\"choropleth\",\"colorbar\":{\"outlinewidth\":0,\"ticks\":\"\"}}],\"histogram2d\":[{\"type\":\"histogram2d\",\"colorbar\":{\"outlinewidth\":0,\"ticks\":\"\"},\"colorscale\":[[0.0,\"#0d0887\"],[0.1111111111111111,\"#46039f\"],[0.2222222222222222,\"#7201a8\"],[0.3333333333333333,\"#9c179e\"],[0.4444444444444444,\"#bd3786\"],[0.5555555555555556,\"#d8576b\"],[0.6666666666666666,\"#ed7953\"],[0.7777777777777778,\"#fb9f3a\"],[0.8888888888888888,\"#fdca26\"],[1.0,\"#f0f921\"]]}],\"heatmap\":[{\"type\":\"heatmap\",\"colorbar\":{\"outlinewidth\":0,\"ticks\":\"\"},\"colorscale\":[[0.0,\"#0d0887\"],[0.1111111111111111,\"#46039f\"],[0.2222222222222222,\"#7201a8\"],[0.3333333333333333,\"#9c179e\"],[0.4444444444444444,\"#bd3786\"],[0.5555555555555556,\"#d8576b\"],[0.6666666666666666,\"#ed7953\"],[0.7777777777777778,\"#fb9f3a\"],[0.8888888888888888,\"#fdca26\"],[1.0,\"#f0f921\"]]}],\"heatmapgl\":[{\"type\":\"heatmapgl\",\"colorbar\":{\"outlinewidth\":0,\"ticks\":\"\"},\"colorscale\":[[0.0,\"#0d0887\"],[0.1111111111111111,\"#46039f\"],[0.2222222222222222,\"#7201a8\"],[0.3333333333333333,\"#9c179e\"],[0.4444444444444444,\"#bd3786\"],[0.5555555555555556,\"#d8576b\"],[0.6666666666666666,\"#ed7953\"],[0.7777777777777778,\"#fb9f3a\"],[0.8888888888888888,\"#fdca26\"],[1.0,\"#f0f921\"]]}],\"contourcarpet\":[{\"type\":\"contourcarpet\",\"colorbar\":{\"outlinewidth\":0,\"ticks\":\"\"}}],\"contour\":[{\"type\":\"contour\",\"colorbar\":{\"outlinewidth\":0,\"ticks\":\"\"},\"colorscale\":[[0.0,\"#0d0887\"],[0.1111111111111111,\"#46039f\"],[0.2222222222222222,\"#7201a8\"],[0.3333333333333333,\"#9c179e\"],[0.4444444444444444,\"#bd3786\"],[0.5555555555555556,\"#d8576b\"],[0.6666666666666666,\"#ed7953\"],[0.7777777777777778,\"#fb9f3a\"],[0.8888888888888888,\"#fdca26\"],[1.0,\"#f0f921\"]]}],\"surface\":[{\"type\":\"surface\",\"colorbar\":{\"outlinewidth\":0,\"ticks\":\"\"},\"colorscale\":[[0.0,\"#0d0887\"],[0.1111111111111111,\"#46039f\"],[0.2222222222222222,\"#7201a8\"],[0.3333333333333333,\"#9c179e\"],[0.4444444444444444,\"#bd3786\"],[0.5555555555555556,\"#d8576b\"],[0.6666666666666666,\"#ed7953\"],[0.7777777777777778,\"#fb9f3a\"],[0.8888888888888888,\"#fdca26\"],[1.0,\"#f0f921\"]]}],\"mesh3d\":[{\"type\":\"mesh3d\",\"colorbar\":{\"outlinewidth\":0,\"ticks\":\"\"}}],\"scatter\":[{\"fillpattern\":{\"fillmode\":\"overlay\",\"size\":10,\"solidity\":0.2},\"type\":\"scatter\"}],\"parcoords\":[{\"type\":\"parcoords\",\"line\":{\"colorbar\":{\"outlinewidth\":0,\"ticks\":\"\"}}}],\"scatterpolargl\":[{\"type\":\"scatterpolargl\",\"marker\":{\"colorbar\":{\"outlinewidth\":0,\"ticks\":\"\"}}}],\"bar\":[{\"error_x\":{\"color\":\"#2a3f5f\"},\"error_y\":{\"color\":\"#2a3f5f\"},\"marker\":{\"line\":{\"color\":\"#E5ECF6\",\"width\":0.5},\"pattern\":{\"fillmode\":\"overlay\",\"size\":10,\"solidity\":0.2}},\"type\":\"bar\"}],\"scattergeo\":[{\"type\":\"scattergeo\",\"marker\":{\"colorbar\":{\"outlinewidth\":0,\"ticks\":\"\"}}}],\"scatterpolar\":[{\"type\":\"scatterpolar\",\"marker\":{\"colorbar\":{\"outlinewidth\":0,\"ticks\":\"\"}}}],\"histogram\":[{\"marker\":{\"pattern\":{\"fillmode\":\"overlay\",\"size\":10,\"solidity\":0.2}},\"type\":\"histogram\"}],\"scattergl\":[{\"type\":\"scattergl\",\"marker\":{\"colorbar\":{\"outlinewidth\":0,\"ticks\":\"\"}}}],\"scatter3d\":[{\"type\":\"scatter3d\",\"line\":{\"colorbar\":{\"outlinewidth\":0,\"ticks\":\"\"}},\"marker\":{\"colorbar\":{\"outlinewidth\":0,\"ticks\":\"\"}}}],\"scattermapbox\":[{\"type\":\"scattermapbox\",\"marker\":{\"colorbar\":{\"outlinewidth\":0,\"ticks\":\"\"}}}],\"scatterternary\":[{\"type\":\"scatterternary\",\"marker\":{\"colorbar\":{\"outlinewidth\":0,\"ticks\":\"\"}}}],\"scattercarpet\":[{\"type\":\"scattercarpet\",\"marker\":{\"colorbar\":{\"outlinewidth\":0,\"ticks\":\"\"}}}],\"carpet\":[{\"aaxis\":{\"endlinecolor\":\"#2a3f5f\",\"gridcolor\":\"white\",\"linecolor\":\"white\",\"minorgridcolor\":\"white\",\"startlinecolor\":\"#2a3f5f\"},\"baxis\":{\"endlinecolor\":\"#2a3f5f\",\"gridcolor\":\"white\",\"linecolor\":\"white\",\"minorgridcolor\":\"white\",\"startlinecolor\":\"#2a3f5f\"},\"type\":\"carpet\"}],\"table\":[{\"cells\":{\"fill\":{\"color\":\"#EBF0F8\"},\"line\":{\"color\":\"white\"}},\"header\":{\"fill\":{\"color\":\"#C8D4E3\"},\"line\":{\"color\":\"white\"}},\"type\":\"table\"}],\"barpolar\":[{\"marker\":{\"line\":{\"color\":\"#E5ECF6\",\"width\":0.5},\"pattern\":{\"fillmode\":\"overlay\",\"size\":10,\"solidity\":0.2}},\"type\":\"barpolar\"}],\"pie\":[{\"automargin\":true,\"type\":\"pie\"}]},\"layout\":{\"autotypenumbers\":\"strict\",\"colorway\":[\"#636efa\",\"#EF553B\",\"#00cc96\",\"#ab63fa\",\"#FFA15A\",\"#19d3f3\",\"#FF6692\",\"#B6E880\",\"#FF97FF\",\"#FECB52\"],\"font\":{\"color\":\"#2a3f5f\"},\"hovermode\":\"closest\",\"hoverlabel\":{\"align\":\"left\"},\"paper_bgcolor\":\"white\",\"plot_bgcolor\":\"#E5ECF6\",\"polar\":{\"bgcolor\":\"#E5ECF6\",\"angularaxis\":{\"gridcolor\":\"white\",\"linecolor\":\"white\",\"ticks\":\"\"},\"radialaxis\":{\"gridcolor\":\"white\",\"linecolor\":\"white\",\"ticks\":\"\"}},\"ternary\":{\"bgcolor\":\"#E5ECF6\",\"aaxis\":{\"gridcolor\":\"white\",\"linecolor\":\"white\",\"ticks\":\"\"},\"baxis\":{\"gridcolor\":\"white\",\"linecolor\":\"white\",\"ticks\":\"\"},\"caxis\":{\"gridcolor\":\"white\",\"linecolor\":\"white\",\"ticks\":\"\"}},\"coloraxis\":{\"colorbar\":{\"outlinewidth\":0,\"ticks\":\"\"}},\"colorscale\":{\"sequential\":[[0.0,\"#0d0887\"],[0.1111111111111111,\"#46039f\"],[0.2222222222222222,\"#7201a8\"],[0.3333333333333333,\"#9c179e\"],[0.4444444444444444,\"#bd3786\"],[0.5555555555555556,\"#d8576b\"],[0.6666666666666666,\"#ed7953\"],[0.7777777777777778,\"#fb9f3a\"],[0.8888888888888888,\"#fdca26\"],[1.0,\"#f0f921\"]],\"sequentialminus\":[[0.0,\"#0d0887\"],[0.1111111111111111,\"#46039f\"],[0.2222222222222222,\"#7201a8\"],[0.3333333333333333,\"#9c179e\"],[0.4444444444444444,\"#bd3786\"],[0.5555555555555556,\"#d8576b\"],[0.6666666666666666,\"#ed7953\"],[0.7777777777777778,\"#fb9f3a\"],[0.8888888888888888,\"#fdca26\"],[1.0,\"#f0f921\"]],\"diverging\":[[0,\"#8e0152\"],[0.1,\"#c51b7d\"],[0.2,\"#de77ae\"],[0.3,\"#f1b6da\"],[0.4,\"#fde0ef\"],[0.5,\"#f7f7f7\"],[0.6,\"#e6f5d0\"],[0.7,\"#b8e186\"],[0.8,\"#7fbc41\"],[0.9,\"#4d9221\"],[1,\"#276419\"]]},\"xaxis\":{\"gridcolor\":\"white\",\"linecolor\":\"white\",\"ticks\":\"\",\"title\":{\"standoff\":15},\"zerolinecolor\":\"white\",\"automargin\":true,\"zerolinewidth\":2},\"yaxis\":{\"gridcolor\":\"white\",\"linecolor\":\"white\",\"ticks\":\"\",\"title\":{\"standoff\":15},\"zerolinecolor\":\"white\",\"automargin\":true,\"zerolinewidth\":2},\"scene\":{\"xaxis\":{\"backgroundcolor\":\"#E5ECF6\",\"gridcolor\":\"white\",\"linecolor\":\"white\",\"showbackground\":true,\"ticks\":\"\",\"zerolinecolor\":\"white\",\"gridwidth\":2},\"yaxis\":{\"backgroundcolor\":\"#E5ECF6\",\"gridcolor\":\"white\",\"linecolor\":\"white\",\"showbackground\":true,\"ticks\":\"\",\"zerolinecolor\":\"white\",\"gridwidth\":2},\"zaxis\":{\"backgroundcolor\":\"#E5ECF6\",\"gridcolor\":\"white\",\"linecolor\":\"white\",\"showbackground\":true,\"ticks\":\"\",\"zerolinecolor\":\"white\",\"gridwidth\":2}},\"shapedefaults\":{\"line\":{\"color\":\"#2a3f5f\"}},\"annotationdefaults\":{\"arrowcolor\":\"#2a3f5f\",\"arrowhead\":0,\"arrowwidth\":1},\"geo\":{\"bgcolor\":\"white\",\"landcolor\":\"#E5ECF6\",\"subunitcolor\":\"white\",\"showland\":true,\"showlakes\":true,\"lakecolor\":\"white\"},\"title\":{\"x\":0.05},\"mapbox\":{\"style\":\"light\"}}},\"xaxis\":{\"anchor\":\"y\",\"domain\":[0.0,1.0],\"title\":{\"text\":\"Category\"}},\"yaxis\":{\"anchor\":\"x\",\"domain\":[0.0,1.0],\"title\":{\"text\":\"Values\"}},\"legend\":{\"tracegroupgap\":0},\"title\":{\"text\":\"Bar Plot Example\"},\"barmode\":\"relative\"},                        {\"responsive\": true}                    ).then(function(){\n",
              "                            \n",
              "var gd = document.getElementById('b7bcc0f3-fc0c-4c0f-ad4c-ffc81fcc3f8c');\n",
              "var x = new MutationObserver(function (mutations, observer) {{\n",
              "        var display = window.getComputedStyle(gd).display;\n",
              "        if (!display || display === 'none') {{\n",
              "            console.log([gd, 'removed!']);\n",
              "            Plotly.purge(gd);\n",
              "            observer.disconnect();\n",
              "        }}\n",
              "}});\n",
              "\n",
              "// Listen for the removal of the full notebook cells\n",
              "var notebookContainer = gd.closest('#notebook-container');\n",
              "if (notebookContainer) {{\n",
              "    x.observe(notebookContainer, {childList: true});\n",
              "}}\n",
              "\n",
              "// Listen for the clearing of the current output cell\n",
              "var outputEl = gd.closest('.output');\n",
              "if (outputEl) {{\n",
              "    x.observe(outputEl, {childList: true});\n",
              "}}\n",
              "\n",
              "                        })                };                            </script>        </div>\n",
              "</body>\n",
              "</html>"
            ]
          },
          "metadata": {}
        }
      ]
    },
    {
      "cell_type": "code",
      "source": [
        "#6. Create a DataFrame and add a new column based on an existing column.\n",
        "import pandas as pd\n",
        "\n",
        "# Create DataFrame\n",
        "df = pd.DataFrame({\n",
        "    'Numbers': [1, 2, 3, 4, 5]\n",
        "})\n",
        "\n",
        "# Add a new column 'Squared' based on 'Numbers'\n",
        "df['Squared'] = df['Numbers'] ** 2\n",
        "\n",
        "print(df)"
      ],
      "metadata": {
        "colab": {
          "base_uri": "https://localhost:8080/"
        },
        "id": "FyICChFV9b1M",
        "outputId": "fcd7b690-a9db-47b7-a0c9-eb3511bd16f6"
      },
      "execution_count": 8,
      "outputs": [
        {
          "output_type": "stream",
          "name": "stdout",
          "text": [
            "   Numbers  Squared\n",
            "0        1        1\n",
            "1        2        4\n",
            "2        3        9\n",
            "3        4       16\n",
            "4        5       25\n"
          ]
        }
      ]
    },
    {
      "cell_type": "code",
      "source": [
        "#7. Write a program to perform element-wise multiplication of two NumPy arrays.\n",
        "import numpy as np\n",
        "\n",
        "# Create two arrays\n",
        "arr1 = np.array([1, 2, 3, 4])\n",
        "arr2 = np.array([5, 6, 7, 8])\n",
        "\n",
        "# Element-wise multiplication\n",
        "result = arr1 * arr2\n",
        "print(result)  # [ 5 12 21 32 ]"
      ],
      "metadata": {
        "colab": {
          "base_uri": "https://localhost:8080/"
        },
        "id": "LVJYx-Ib9peQ",
        "outputId": "153a7c3b-fd2f-4b61-9bb3-0ad3163f17d7"
      },
      "execution_count": 9,
      "outputs": [
        {
          "output_type": "stream",
          "name": "stdout",
          "text": [
            "[ 5 12 21 32]\n"
          ]
        }
      ]
    },
    {
      "cell_type": "code",
      "source": [
        "#8. Create a line plot with multiple lines using Matplotlib.\n",
        "import matplotlib.pyplot as plt\n",
        "\n",
        "# Example data\n",
        "x = [1, 2, 3, 4, 5]\n",
        "y1 = [2, 4, 6, 8, 10]\n",
        "y2 = [1, 3, 5, 7, 9]\n",
        "\n",
        "# Create line plot with multiple lines\n",
        "plt.plot(x, y1, label='Line 1', marker='o')\n",
        "plt.plot(x, y2, label='Line 2', marker='s')\n",
        "plt.xlabel('X-axis')\n",
        "plt.ylabel('Y-axis')\n",
        "plt.title('Multiple Line Plot')\n",
        "plt.legend()\n",
        "plt.show()"
      ],
      "metadata": {
        "colab": {
          "base_uri": "https://localhost:8080/",
          "height": 472
        },
        "id": "1DXa7DkR9s6t",
        "outputId": "547d4562-4532-46f2-bba8-6cee37092c2f"
      },
      "execution_count": 10,
      "outputs": [
        {
          "output_type": "display_data",
          "data": {
            "text/plain": [
              "<Figure size 640x480 with 1 Axes>"
            ],
            "image/png": "[encoded data removed]"
          },
          "metadata": {}
        }
      ]
    },
    {
      "cell_type": "code",
      "source": [
        "#9. Generate a Pandas DataFrame and filter rows where a column value is greater than a threshold.\n",
        "\n",
        "import pandas as pd\n",
        "\n",
        "# Create DataFrame\n",
        "df = pd.DataFrame({\n",
        "    'Name': ['Alice', 'Bob', 'Charlie', 'David'],\n",
        "    'Age': [25, 30, 35, 40]\n",
        "})\n",
        "\n",
        "# Filter rows where 'Age' > 30\n",
        "filtered_df = df[df['Age'] > 30]\n",
        "print(filtered_df)"
      ],
      "metadata": {
        "colab": {
          "base_uri": "https://localhost:8080/"
        },
        "id": "8xduI-0c9wp3",
        "outputId": "34fc6288-e528-4945-baeb-5c6073221859"
      },
      "execution_count": 11,
      "outputs": [
        {
          "output_type": "stream",
          "name": "stdout",
          "text": [
            "      Name  Age\n",
            "2  Charlie   35\n",
            "3    David   40\n"
          ]
        }
      ]
    },
    {
      "cell_type": "code",
      "source": [
        "#10. Create a histogram using Seaborn to visualize a distribution.\n",
        "import seaborn as sns\n",
        "import pandas as pd\n",
        "import matplotlib.pyplot as plt\n",
        "\n",
        "# Example data\n",
        "df = pd.DataFrame({'Age': [22, 25, 27, 30, 22, 24, 28, 29, 31, 23]})\n",
        "\n",
        "# Create histogram\n",
        "sns.histplot(df['Age'], bins=5, kde=True)\n",
        "plt.xlabel('Age')\n",
        "plt.ylabel('Frequency')\n",
        "plt.title('Age Distribution')\n",
        "plt.show()"
      ],
      "metadata": {
        "colab": {
          "base_uri": "https://localhost:8080/",
          "height": 472
        },
        "id": "-KQHcOfJ90to",
        "outputId": "8cc90055-5e55-4671-fed7-a5713579527a"
      },
      "execution_count": 12,
      "outputs": [
        {
          "output_type": "display_data",
          "data": {
            "text/plain": [
              "<Figure size 640x480 with 1 Axes>"
            ],
            "image/png": "[encoded data removed]"
          },
          "metadata": {}
        }
      ]
    },
    {
      "cell_type": "code",
      "source": [
        "#11. Perform matrix multiplication using NumPy.\n",
        "import numpy as np\n",
        "\n",
        "# Create two 2D arrays (matrices)\n",
        "A = np.array([[1, 2],\n",
        "              [3, 4]])\n",
        "B = np.array([[5, 6],\n",
        "              [7, 8]])\n",
        "\n",
        "# Perform matrix multiplication\n",
        "result = np.dot(A, B)  # or A @ B\n",
        "print(result)"
      ],
      "metadata": {
        "colab": {
          "base_uri": "https://localhost:8080/"
        },
        "id": "CSPTV69t94ZF",
        "outputId": "47b09d07-8d01-4664-ac38-f1baf761865c"
      },
      "execution_count": 13,
      "outputs": [
        {
          "output_type": "stream",
          "name": "stdout",
          "text": [
            "[[19 22]\n",
            " [43 50]]\n"
          ]
        }
      ]
    },
    {
      "cell_type": "code",
      "source": [
        "#12. Use Pandas to load a CSV file and display its first 5 rows.\n",
        "import pandas as pd\n",
        "\n",
        "url = 'https://people.sc.fsu.edu/~jburkardt/data/csv/addresses.csv'\n",
        "df = pd.read_csv(url)\n",
        "\n",
        "# Display first 5 rows\n",
        "print(df.head())"
      ],
      "metadata": {
        "colab": {
          "base_uri": "https://localhost:8080/"
        },
        "id": "3SnFan2o98i3",
        "outputId": "29dc8ea4-ee83-4890-f66c-f2842dd0c2df"
      },
      "execution_count": 15,
      "outputs": [
        {
          "output_type": "stream",
          "name": "stdout",
          "text": [
            "                    John       Doe                 120 jefferson st.  \\\n",
            "0                   Jack  McGinnis                      220 hobo Av.   \n",
            "1          John \"Da Man\"    Repici                 120 Jefferson St.   \n",
            "2                Stephen     Tyler  7452 Terrace \"At the Plaza\" road   \n",
            "3                    NaN  Blankman                               NaN   \n",
            "4  Joan \"the bone\", Anne       Jet               9th, at Terrace plc   \n",
            "\n",
            "     Riverside   NJ   08075  \n",
            "0        Phila   PA    9119  \n",
            "1    Riverside   NJ    8075  \n",
            "2     SomeTown   SD   91234  \n",
            "3     SomeTown   SD     298  \n",
            "4  Desert City   CO     123  \n"
          ]
        }
      ]
    },
    {
      "cell_type": "code",
      "source": [
        "#13. Create a 3D scatter plot using Plotly.\n",
        "import plotly.express as px\n",
        "import pandas as pd\n",
        "\n",
        "# Example DataFrame\n",
        "df = pd.DataFrame({\n",
        "    'x': [1, 2, 3, 4, 5],\n",
        "    'y': [10, 11, 12, 13, 14],\n",
        "    'z': [5, 6, 7, 8, 9],\n",
        "    'color': [100, 200, 300, 400, 500]\n",
        "})\n",
        "\n",
        "# Create 3D scatter plot\n",
        "fig = px.scatter_3d(df, x='x', y='y', z='z', color='color', title='3D Scatter Plot Example')\n",
        "fig.show()"
      ],
      "metadata": {
        "colab": {
          "base_uri": "https://localhost:8080/",
          "height": 542
        },
        "id": "nbGPzVu69_uX",
        "outputId": "c07dea46-29e5-4910-b81c-29d57b27ed45"
      },
      "execution_count": 16,
      "outputs": [
        {
          "output_type": "display_data",
          "data": {
            "text/html": [
              "<html>\n",
              "<head><meta charset=\"utf-8\" /></head>\n",
              "<body>\n",
              "    <div>            <script src=\"https://cdnjs.cloudflare.com/ajax/libs/mathjax/2.7.5/MathJax.js?config=TeX-AMS-MML_SVG\"></script><script type=\"text/javascript\">if (window.MathJax && window.MathJax.Hub && window.MathJax.Hub.Config) {window.MathJax.Hub.Config({SVG: {font: \"STIX-Web\"}});}</script>                <script type=\"text/javascript\">window.PlotlyConfig = {MathJaxConfig: 'local'};</script>\n",
              "        <script charset=\"utf-8\" src=\"https://cdn.plot.ly/plotly-2.35.2.min.js\"></script>                <div id=\"f571244e-7c40-44b5-8216-f453f34e610a\" class=\"plotly-graph-div\" style=\"height:525px; width:100%;\"></div>            <script type=\"text/javascript\">                                    window.PLOTLYENV=window.PLOTLYENV || {};                                    if (document.getElementById(\"f571244e-7c40-44b5-8216-f453f34e610a\")) {                    Plotly.newPlot(                        \"f571244e-7c40-44b5-8216-f453f34e610a\",                        [{\"hovertemplate\":\"x=%{x}\\u003cbr\\u003ey=%{y}\\u003cbr\\u003ez=%{z}\\u003cbr\\u003ecolor=%{marker.color}\\u003cextra\\u003e\\u003c\\u002fextra\\u003e\",\"legendgroup\":\"\",\"marker\":{\"color\":[100,200,300,400,500],\"coloraxis\":\"coloraxis\",\"symbol\":\"circle\"},\"mode\":\"markers\",\"name\":\"\",\"scene\":\"scene\",\"showlegend\":false,\"x\":[1,2,3,4,5],\"y\":[10,11,12,13,14],\"z\":[5,6,7,8,9],\"type\":\"scatter3d\"}],                        {\"template\":{\"data\":{\"histogram2dcontour\":[{\"type\":\"histogram2dcontour\",\"colorbar\":{\"outlinewidth\":0,\"ticks\":\"\"},\"colorscale\":[[0.0,\"#0d0887\"],[0.1111111111111111,\"#46039f\"],[0.2222222222222222,\"#7201a8\"],[0.3333333333333333,\"#9c179e\"],[0.4444444444444444,\"#bd3786\"],[0.5555555555555556,\"#d8576b\"],[0.6666666666666666,\"#ed7953\"],[0.7777777777777778,\"#fb9f3a\"],[0.8888888888888888,\"#fdca26\"],[1.0,\"#f0f921\"]]}],\"choropleth\":[{\"type\":\"choropleth\",\"colorbar\":{\"outlinewidth\":0,\"ticks\":\"\"}}],\"histogram2d\":[{\"type\":\"histogram2d\",\"colorbar\":{\"outlinewidth\":0,\"ticks\":\"\"},\"colorscale\":[[0.0,\"#0d0887\"],[0.1111111111111111,\"#46039f\"],[0.2222222222222222,\"#7201a8\"],[0.3333333333333333,\"#9c179e\"],[0.4444444444444444,\"#bd3786\"],[0.5555555555555556,\"#d8576b\"],[0.6666666666666666,\"#ed7953\"],[0.7777777777777778,\"#fb9f3a\"],[0.8888888888888888,\"#fdca26\"],[1.0,\"#f0f921\"]]}],\"heatmap\":[{\"type\":\"heatmap\",\"colorbar\":{\"outlinewidth\":0,\"ticks\":\"\"},\"colorscale\":[[0.0,\"#0d0887\"],[0.1111111111111111,\"#46039f\"],[0.2222222222222222,\"#7201a8\"],[0.3333333333333333,\"#9c179e\"],[0.4444444444444444,\"#bd3786\"],[0.5555555555555556,\"#d8576b\"],[0.6666666666666666,\"#ed7953\"],[0.7777777777777778,\"#fb9f3a\"],[0.8888888888888888,\"#fdca26\"],[1.0,\"#f0f921\"]]}],\"heatmapgl\":[{\"type\":\"heatmapgl\",\"colorbar\":{\"outlinewidth\":0,\"ticks\":\"\"},\"colorscale\":[[0.0,\"#0d0887\"],[0.1111111111111111,\"#46039f\"],[0.2222222222222222,\"#7201a8\"],[0.3333333333333333,\"#9c179e\"],[0.4444444444444444,\"#bd3786\"],[0.5555555555555556,\"#d8576b\"],[0.6666666666666666,\"#ed7953\"],[0.7777777777777778,\"#fb9f3a\"],[0.8888888888888888,\"#fdca26\"],[1.0,\"#f0f921\"]]}],\"contourcarpet\":[{\"type\":\"contourcarpet\",\"colorbar\":{\"outlinewidth\":0,\"ticks\":\"\"}}],\"contour\":[{\"type\":\"contour\",\"colorbar\":{\"outlinewidth\":0,\"ticks\":\"\"},\"colorscale\":[[0.0,\"#0d0887\"],[0.1111111111111111,\"#46039f\"],[0.2222222222222222,\"#7201a8\"],[0.3333333333333333,\"#9c179e\"],[0.4444444444444444,\"#bd3786\"],[0.5555555555555556,\"#d8576b\"],[0.6666666666666666,\"#ed7953\"],[0.7777777777777778,\"#fb9f3a\"],[0.8888888888888888,\"#fdca26\"],[1.0,\"#f0f921\"]]}],\"surface\":[{\"type\":\"surface\",\"colorbar\":{\"outlinewidth\":0,\"ticks\":\"\"},\"colorscale\":[[0.0,\"#0d0887\"],[0.1111111111111111,\"#46039f\"],[0.2222222222222222,\"#7201a8\"],[0.3333333333333333,\"#9c179e\"],[0.4444444444444444,\"#bd3786\"],[0.5555555555555556,\"#d8576b\"],[0.6666666666666666,\"#ed7953\"],[0.7777777777777778,\"#fb9f3a\"],[0.8888888888888888,\"#fdca26\"],[1.0,\"#f0f921\"]]}],\"mesh3d\":[{\"type\":\"mesh3d\",\"colorbar\":{\"outlinewidth\":0,\"ticks\":\"\"}}],\"scatter\":[{\"fillpattern\":{\"fillmode\":\"overlay\",\"size\":10,\"solidity\":0.2},\"type\":\"scatter\"}],\"parcoords\":[{\"type\":\"parcoords\",\"line\":{\"colorbar\":{\"outlinewidth\":0,\"ticks\":\"\"}}}],\"scatterpolargl\":[{\"type\":\"scatterpolargl\",\"marker\":{\"colorbar\":{\"outlinewidth\":0,\"ticks\":\"\"}}}],\"bar\":[{\"error_x\":{\"color\":\"#2a3f5f\"},\"error_y\":{\"color\":\"#2a3f5f\"},\"marker\":{\"line\":{\"color\":\"#E5ECF6\",\"width\":0.5},\"pattern\":{\"fillmode\":\"overlay\",\"size\":10,\"solidity\":0.2}},\"type\":\"bar\"}],\"scattergeo\":[{\"type\":\"scattergeo\",\"marker\":{\"colorbar\":{\"outlinewidth\":0,\"ticks\":\"\"}}}],\"scatterpolar\":[{\"type\":\"scatterpolar\",\"marker\":{\"colorbar\":{\"outlinewidth\":0,\"ticks\":\"\"}}}],\"histogram\":[{\"marker\":{\"pattern\":{\"fillmode\":\"overlay\",\"size\":10,\"solidity\":0.2}},\"type\":\"histogram\"}],\"scattergl\":[{\"type\":\"scattergl\",\"marker\":{\"colorbar\":{\"outlinewidth\":0,\"ticks\":\"\"}}}],\"scatter3d\":[{\"type\":\"scatter3d\",\"line\":{\"colorbar\":{\"outlinewidth\":0,\"ticks\":\"\"}},\"marker\":{\"colorbar\":{\"outlinewidth\":0,\"ticks\":\"\"}}}],\"scattermapbox\":[{\"type\":\"scattermapbox\",\"marker\":{\"colorbar\":{\"outlinewidth\":0,\"ticks\":\"\"}}}],\"scatterternary\":[{\"type\":\"scatterternary\",\"marker\":{\"colorbar\":{\"outlinewidth\":0,\"ticks\":\"\"}}}],\"scattercarpet\":[{\"type\":\"scattercarpet\",\"marker\":{\"colorbar\":{\"outlinewidth\":0,\"ticks\":\"\"}}}],\"carpet\":[{\"aaxis\":{\"endlinecolor\":\"#2a3f5f\",\"gridcolor\":\"white\",\"linecolor\":\"white\",\"minorgridcolor\":\"white\",\"startlinecolor\":\"#2a3f5f\"},\"baxis\":{\"endlinecolor\":\"#2a3f5f\",\"gridcolor\":\"white\",\"linecolor\":\"white\",\"minorgridcolor\":\"white\",\"startlinecolor\":\"#2a3f5f\"},\"type\":\"carpet\"}],\"table\":[{\"cells\":{\"fill\":{\"color\":\"#EBF0F8\"},\"line\":{\"color\":\"white\"}},\"header\":{\"fill\":{\"color\":\"#C8D4E3\"},\"line\":{\"color\":\"white\"}},\"type\":\"table\"}],\"barpolar\":[{\"marker\":{\"line\":{\"color\":\"#E5ECF6\",\"width\":0.5},\"pattern\":{\"fillmode\":\"overlay\",\"size\":10,\"solidity\":0.2}},\"type\":\"barpolar\"}],\"pie\":[{\"automargin\":true,\"type\":\"pie\"}]},\"layout\":{\"autotypenumbers\":\"strict\",\"colorway\":[\"#636efa\",\"#EF553B\",\"#00cc96\",\"#ab63fa\",\"#FFA15A\",\"#19d3f3\",\"#FF6692\",\"#B6E880\",\"#FF97FF\",\"#FECB52\"],\"font\":{\"color\":\"#2a3f5f\"},\"hovermode\":\"closest\",\"hoverlabel\":{\"align\":\"left\"},\"paper_bgcolor\":\"white\",\"plot_bgcolor\":\"#E5ECF6\",\"polar\":{\"bgcolor\":\"#E5ECF6\",\"angularaxis\":{\"gridcolor\":\"white\",\"linecolor\":\"white\",\"ticks\":\"\"},\"radialaxis\":{\"gridcolor\":\"white\",\"linecolor\":\"white\",\"ticks\":\"\"}},\"ternary\":{\"bgcolor\":\"#E5ECF6\",\"aaxis\":{\"gridcolor\":\"white\",\"linecolor\":\"white\",\"ticks\":\"\"},\"baxis\":{\"gridcolor\":\"white\",\"linecolor\":\"white\",\"ticks\":\"\"},\"caxis\":{\"gridcolor\":\"white\",\"linecolor\":\"white\",\"ticks\":\"\"}},\"coloraxis\":{\"colorbar\":{\"outlinewidth\":0,\"ticks\":\"\"}},\"colorscale\":{\"sequential\":[[0.0,\"#0d0887\"],[0.1111111111111111,\"#46039f\"],[0.2222222222222222,\"#7201a8\"],[0.3333333333333333,\"#9c179e\"],[0.4444444444444444,\"#bd3786\"],[0.5555555555555556,\"#d8576b\"],[0.6666666666666666,\"#ed7953\"],[0.7777777777777778,\"#fb9f3a\"],[0.8888888888888888,\"#fdca26\"],[1.0,\"#f0f921\"]],\"sequentialminus\":[[0.0,\"#0d0887\"],[0.1111111111111111,\"#46039f\"],[0.2222222222222222,\"#7201a8\"],[0.3333333333333333,\"#9c179e\"],[0.4444444444444444,\"#bd3786\"],[0.5555555555555556,\"#d8576b\"],[0.6666666666666666,\"#ed7953\"],[0.7777777777777778,\"#fb9f3a\"],[0.8888888888888888,\"#fdca26\"],[1.0,\"#f0f921\"]],\"diverging\":[[0,\"#8e0152\"],[0.1,\"#c51b7d\"],[0.2,\"#de77ae\"],[0.3,\"#f1b6da\"],[0.4,\"#fde0ef\"],[0.5,\"#f7f7f7\"],[0.6,\"#e6f5d0\"],[0.7,\"#b8e186\"],[0.8,\"#7fbc41\"],[0.9,\"#4d9221\"],[1,\"#276419\"]]},\"xaxis\":{\"gridcolor\":\"white\",\"linecolor\":\"white\",\"ticks\":\"\",\"title\":{\"standoff\":15},\"zerolinecolor\":\"white\",\"automargin\":true,\"zerolinewidth\":2},\"yaxis\":{\"gridcolor\":\"white\",\"linecolor\":\"white\",\"ticks\":\"\",\"title\":{\"standoff\":15},\"zerolinecolor\":\"white\",\"automargin\":true,\"zerolinewidth\":2},\"scene\":{\"xaxis\":{\"backgroundcolor\":\"#E5ECF6\",\"gridcolor\":\"white\",\"linecolor\":\"white\",\"showbackground\":true,\"ticks\":\"\",\"zerolinecolor\":\"white\",\"gridwidth\":2},\"yaxis\":{\"backgroundcolor\":\"#E5ECF6\",\"gridcolor\":\"white\",\"linecolor\":\"white\",\"showbackground\":true,\"ticks\":\"\",\"zerolinecolor\":\"white\",\"gridwidth\":2},\"zaxis\":{\"backgroundcolor\":\"#E5ECF6\",\"gridcolor\":\"white\",\"linecolor\":\"white\",\"showbackground\":true,\"ticks\":\"\",\"zerolinecolor\":\"white\",\"gridwidth\":2}},\"shapedefaults\":{\"line\":{\"color\":\"#2a3f5f\"}},\"annotationdefaults\":{\"arrowcolor\":\"#2a3f5f\",\"arrowhead\":0,\"arrowwidth\":1},\"geo\":{\"bgcolor\":\"white\",\"landcolor\":\"#E5ECF6\",\"subunitcolor\":\"white\",\"showland\":true,\"showlakes\":true,\"lakecolor\":\"white\"},\"title\":{\"x\":0.05},\"mapbox\":{\"style\":\"light\"}}},\"scene\":{\"domain\":{\"x\":[0.0,1.0],\"y\":[0.0,1.0]},\"xaxis\":{\"title\":{\"text\":\"x\"}},\"yaxis\":{\"title\":{\"text\":\"y\"}},\"zaxis\":{\"title\":{\"text\":\"z\"}}},\"coloraxis\":{\"colorbar\":{\"title\":{\"text\":\"color\"}},\"colorscale\":[[0.0,\"#0d0887\"],[0.1111111111111111,\"#46039f\"],[0.2222222222222222,\"#7201a8\"],[0.3333333333333333,\"#9c179e\"],[0.4444444444444444,\"#bd3786\"],[0.5555555555555556,\"#d8576b\"],[0.6666666666666666,\"#ed7953\"],[0.7777777777777778,\"#fb9f3a\"],[0.8888888888888888,\"#fdca26\"],[1.0,\"#f0f921\"]]},\"legend\":{\"tracegroupgap\":0},\"title\":{\"text\":\"3D Scatter Plot Example\"}},                        {\"responsive\": true}                    ).then(function(){\n",
              "                            \n",
              "var gd = document.getElementById('f571244e-7c40-44b5-8216-f453f34e610a');\n",
              "var x = new MutationObserver(function (mutations, observer) {{\n",
              "        var display = window.getComputedStyle(gd).display;\n",
              "        if (!display || display === 'none') {{\n",
              "            console.log([gd, 'removed!']);\n",
              "            Plotly.purge(gd);\n",
              "            observer.disconnect();\n",
              "        }}\n",
              "}});\n",
              "\n",
              "// Listen for the removal of the full notebook cells\n",
              "var notebookContainer = gd.closest('#notebook-container');\n",
              "if (notebookContainer) {{\n",
              "    x.observe(notebookContainer, {childList: true});\n",
              "}}\n",
              "\n",
              "// Listen for the clearing of the current output cell\n",
              "var outputEl = gd.closest('.output');\n",
              "if (outputEl) {{\n",
              "    x.observe(outputEl, {childList: true});\n",
              "}}\n",
              "\n",
              "                        })                };                            </script>        </div>\n",
              "</body>\n",
              "</html>"
            ]
          },
          "metadata": {}
        }
      ]
    }
  ]
}