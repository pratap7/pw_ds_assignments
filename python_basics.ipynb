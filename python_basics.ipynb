{
  "nbformat": 4,
  "nbformat_minor": 0,
  "metadata": {
    "colab": {
      "provenance": []
    },
    "kernelspec": {
      "name": "python3",
      "display_name": "Python 3"
    },
    "language_info": {
      "name": "python"
    }
  },
  "cells": [
    {
      "cell_type": "markdown",
      "source": [
        "# Python Basics\n",
        "\n",
        "\n"
      ],
      "metadata": {
        "id": "Zq22UDVcrALG"
      }
    },
    {
      "cell_type": "markdown",
      "source": [
        "1. What is Python, and why is it popular?\n",
        "    \n",
        "    =>  Python is a high-level, interpreted programming language. It is basically used for Web development, software development, data science, system scriptng etc. It is popular because:\n",
        "    - Widely used in Industry\n",
        "    - Easy to learn\n",
        "    - Huge library support\n",
        "    - Versatile (web dev, data science, AI, automation, etc.)\n",
        "    - Large Active Community"
      ],
      "metadata": {
        "id": "cvHQkCs7xEIP"
      }
    },
    {
      "cell_type": "markdown",
      "source": [
        "2. What is an interpreter in Python?\n",
        "\n",
        "    => An interpreter in Python is a program that reads and executes Python code line by line, instead of converting the whole code into machine language at once.\n",
        "\n",
        "\n",
        "3. What are pre-defined keywords in Python?\n",
        "\n",
        "    => Pre-defined keywords in Python are reserved words that have a special meaning in the language, You can not use them as variable names.\n",
        "    example: if, else, for, while etc.\n",
        "\n",
        "\n",
        "4. Can keywords be used as variable names?\n",
        "\n",
        "    => No, keywords can not be used as variable name. Because, keywords are reserved for special purposes in language.\n",
        "\n",
        "\n",
        "5. What is mutability in Python?\n",
        "\n",
        "    => In Python, mutability refers to whether an object's state or value can be modified after it has been created. Objects are categorized as either mutable or immutable.\n",
        "    - Mutable: list, dictionaries etc\n",
        "    - Immutable - String, tuples etc\n",
        "\n",
        "\n",
        "6. Why are lists mutable, but tuples are immutable?\n",
        "\n",
        "    =>\n",
        "      - Lists are meant for collections that you expect to change, like a to-do list where you add and remove items.\n",
        "      - Tuples are for collections that are fixed and shouldn't be altered—like a set of coordinates that shouldn't move. Tuples are immutable because they are meant to be fixed collections, which makes them faster and safer for things that shouldn’t change.\n",
        "\n",
        "\n",
        "7. What is the difference between “==” and “is” operators in Python?\n",
        "\n",
        "    =>\n",
        "    - \"==\" operator checks if values are equal.\n",
        "    - \"is\" operator checks if both refer to the same object in memory.\n",
        "\n",
        "\n",
        "8. What are logical operators in Python?\n",
        "\n",
        "    => Logical operators are used to combine conditional statements. In other words, Logical operators in Python are used to combine or modify boolean values. There are 3 logical operators in Python:\n",
        "    - or: True if any one is True\n",
        "    - not: Reverses the boolean value\n",
        "    - and: True if both are True\n",
        "\n",
        "\n",
        "9. What is type casting in Python?\n",
        "\n",
        "    => Type casting means converting data type of a value/object. It’s necessary when operations require compatible data types, as arithmetic on numbers vs. concatenation on strings.\n",
        "\n",
        "\n",
        "\n",
        "10. What is the difference between implicit and explicit type casting?\n",
        "\n",
        "    =>\n",
        "    - Implicit casting (type conversion) → Python does it automatically when it is safe.\n",
        "    Example: x = 5 + 2.0 → result is 7.0 (int changed to float).\n",
        "    - Explicit casting → You do it manually using functions like int(), float(), str().\n",
        "    Example: x = int(\"5\") → converts string \"5\" to integer 5.\n",
        "\n",
        "\n",
        "\n",
        "11. What is the purpose of conditional statements in Python ?\n",
        "\n",
        "    => Conditional statements lets your program to make decisions. In other words Conditional statements are used to control the flow of a program.\n",
        "    - example:  age = 18\n",
        "                if age >= 18:\n",
        "                    print(\"You can vote\")\n",
        "                else:\n",
        "                    print(\"Too young\")\n",
        "\n",
        "\n",
        "\n",
        "12. How does the elif statement work?\n",
        "\n",
        "    => If the **if** condition is false, then Python checks the **elif** condition.\n",
        "    - example:  num = 0\n",
        "                if num > 0:\n",
        "                    print(\"Positive\")\n",
        "                elif num == 0:\n",
        "                    print(\"Zero\")   # this runs\n",
        "                else:\n",
        "                    print(\"Negative\")\n",
        "\n",
        "\n",
        "\n",
        "13. What is the difference between for and while loops?\n",
        "\n",
        "    =>\n",
        "    - for loop → runs through a sequence (like a list or range).\n",
        "    - while loop → keeps executing a block of code as long as the condition is true.\n",
        "\n",
        "\n",
        "\n",
        "14. Describe a scenario where a while loop is more suitable than a for loop.\n",
        "\n",
        "    => A while loop is better when you don’t know beforehand how many times you need to repeat.\n",
        "    - Example: keep asking a user for a password until they type the correct one.\n",
        "    - password = \"\"\n",
        "      while password != \"1234\":\n",
        "          password = input(\"Enter password: \")\n",
        "      print(\"Access granted\")\n",
        "\n"
      ],
      "metadata": {
        "id": "dhCtZk8Q1JCI"
      }
    },
    {
      "cell_type": "code",
      "execution_count": 2,
      "metadata": {
        "colab": {
          "base_uri": "https://localhost:8080/"
        },
        "id": "5p65P_Kpq18N",
        "outputId": "3261f482-17f2-459a-d396-6c5ff12365a7"
      },
      "outputs": [
        {
          "output_type": "stream",
          "name": "stdout",
          "text": [
            "Hello, World!\n"
          ]
        }
      ],
      "source": [
        "#1. Write a Python program to print \"Hello, World!\".\n",
        "print(\"Hello, World!\")"
      ]
    },
    {
      "cell_type": "code",
      "source": [
        "#2. Write a Python program that displays your name and age.\n",
        "name = \"Gaurav Pratap\"\n",
        "age = 28\n",
        "print(\"My name is\", name, \"and I am \", age, \"years old.\")"
      ],
      "metadata": {
        "colab": {
          "base_uri": "https://localhost:8080/"
        },
        "id": "R47iRdXps2mt",
        "outputId": "92781691-5b1a-4337-f6da-07122c6c309a"
      },
      "execution_count": 6,
      "outputs": [
        {
          "output_type": "stream",
          "name": "stdout",
          "text": [
            "My name is Gaurav Pratap and I am  28 years old.\n"
          ]
        }
      ]
    },
    {
      "cell_type": "code",
      "source": [
        "#3. Write code to print all the pre-defined keywords in Python using the keyword library.\n",
        "# First way\n",
        "help('keywords')\n",
        "\n",
        "# Second way\n",
        "import keyword\n",
        "print(\"Python Keywords:\")\n",
        "\n",
        "print(keyword.kwlist)\n"
      ],
      "metadata": {
        "colab": {
          "base_uri": "https://localhost:8080/"
        },
        "id": "ajmklKA6tyyH",
        "outputId": "9e425b4a-d7b9-4142-c0a0-32b413ea998c"
      },
      "execution_count": 11,
      "outputs": [
        {
          "output_type": "stream",
          "name": "stdout",
          "text": [
            "\n",
            "Here is a list of the Python keywords.  Enter any keyword to get more help.\n",
            "\n",
            "False               class               from                or\n",
            "None                continue            global              pass\n",
            "True                def                 if                  raise\n",
            "and                 del                 import              return\n",
            "as                  elif                in                  try\n",
            "assert              else                is                  while\n",
            "async               except              lambda              with\n",
            "await               finally             nonlocal            yield\n",
            "break               for                 not                 \n",
            "\n",
            "Python Keywords:\n",
            "['False', 'None', 'True', 'and', 'as', 'assert', 'async', 'await', 'break', 'class', 'continue', 'def', 'del', 'elif', 'else', 'except', 'finally', 'for', 'from', 'global', 'if', 'import', 'in', 'is', 'lambda', 'nonlocal', 'not', 'or', 'pass', 'raise', 'return', 'try', 'while', 'with', 'yield']\n"
          ]
        }
      ]
    },
    {
      "cell_type": "code",
      "source": [
        "#4. Write a program that checks if a given word is a Python keyword.\n",
        "import keyword\n",
        "word = input(\"Enter the word:\")\n",
        "if(keyword.iskeyword(word)):\n",
        "  print(word, 'is a Python keyword.')\n",
        "else:\n",
        "  print(word, \"is not a Python keyword.\" )"
      ],
      "metadata": {
        "colab": {
          "base_uri": "https://localhost:8080/"
        },
        "id": "ovnL_1JPvYTw",
        "outputId": "c972ae55-d37c-42c2-959c-3ca27e5dde03"
      },
      "execution_count": 14,
      "outputs": [
        {
          "output_type": "stream",
          "name": "stdout",
          "text": [
            "Enter the word:False\n",
            "False is a Python keyword.\n"
          ]
        }
      ]
    },
    {
      "cell_type": "code",
      "source": [
        "#5. Create a list and tuple in Python, and demonstrate how attempting to change an element works differently for each.\n",
        "# List\n",
        "my_list = [1,2,3,4,5]\n",
        "my_list[0] = 10\n",
        "\n",
        "print(\"List after change: \", my_list) # [10, 2, 3, 4, 5]\n",
        "\n",
        "my_tuple = (1,2,3)\n",
        "\n",
        "#my_tuple[0] = 20\n",
        "#It will generate the error, Please uncomment above statement to check\n",
        "print(\"Tuple\", my_tuple)\n",
        "\n"
      ],
      "metadata": {
        "colab": {
          "base_uri": "https://localhost:8080/"
        },
        "id": "nsK50r3pwALI",
        "outputId": "a2ba1071-33fe-42aa-a573-dce89a37189e"
      },
      "execution_count": 18,
      "outputs": [
        {
          "output_type": "stream",
          "name": "stdout",
          "text": [
            "List after change:  [10, 2, 3, 4, 5]\n",
            "Tuple (1, 2, 3)\n"
          ]
        }
      ]
    },
    {
      "cell_type": "code",
      "source": [
        "#6. Write a function to demonstrate the behavior of mutable and immutable arguments.\n",
        "# Mutable example (list)\n",
        "def add_item(m_list):\n",
        " m_list.append(5) #modifies the original list\n",
        "\n",
        "my_list = [1,2]\n",
        "add_item(my_list)\n",
        "print(my_list) # [1,2,5]\n",
        "\n",
        "# Immutable example\n",
        "def add_number(n):\n",
        "  n += 10 #it will change only local copy\n",
        "\n",
        "num = 10\n",
        "add_number(num)\n",
        "print(num) # 10"
      ],
      "metadata": {
        "colab": {
          "base_uri": "https://localhost:8080/"
        },
        "id": "I6A8dRQgzfFP",
        "outputId": "6cc1ffcb-32bf-406c-c2b0-0286c4dd8dbd"
      },
      "execution_count": 22,
      "outputs": [
        {
          "output_type": "stream",
          "name": "stdout",
          "text": [
            "[1, 2, 5]\n",
            "10\n"
          ]
        }
      ]
    },
    {
      "cell_type": "code",
      "source": [
        "#7. Write a program that performs basic arithmetic operations on two user-input numbers.\n",
        "\n",
        "num1 = int(input(\"Enter first number:\"))\n",
        "num2 = int(input(\"Enter second number:\"))\n",
        "\n",
        "# Arithmetic operations\n",
        "print(\"Addition:\", num1 + num2)\n",
        "print(\"Subtraction:\", num1 - num2)\n",
        "print(\"Multiplication:\", num1 * num2)\n",
        "print(\"Division:\", num1 / num2)\n",
        "print(\"Modulus:\", num1 % num2)\n"
      ],
      "metadata": {
        "colab": {
          "base_uri": "https://localhost:8080/"
        },
        "id": "ALQDGWGc9PaL",
        "outputId": "374ef42b-c887-49a1-e90f-798cba71e85a"
      },
      "execution_count": 25,
      "outputs": [
        {
          "output_type": "stream",
          "name": "stdout",
          "text": [
            "Enter first number:10\n",
            "Enter second number:5\n",
            "Addition: 15\n",
            "Subtraction: 5\n",
            "Multiplication: 50\n",
            "Division: 2.0\n",
            "Modulus: 0\n"
          ]
        }
      ]
    },
    {
      "cell_type": "code",
      "source": [
        "#8. Write a program to demonstrate the use of logical operators.\n",
        "a = 10\n",
        "b = 25\n",
        "\n",
        "# AND: both conditions must be True\n",
        "print(a > 5 and b > 15)   # True\n",
        "\n",
        "# OR: at least one condition is True\n",
        "print(a > 15 or b > 15)   # True\n",
        "\n",
        "# NOT: reverses the condition\n",
        "print(not (a > 5))        # False\n"
      ],
      "metadata": {
        "colab": {
          "base_uri": "https://localhost:8080/"
        },
        "id": "bFiF5BUGAV0e",
        "outputId": "82b38896-d180-411f-d0cc-308dcf17dbe6"
      },
      "execution_count": 27,
      "outputs": [
        {
          "output_type": "stream",
          "name": "stdout",
          "text": [
            "True\n",
            "True\n",
            "False\n"
          ]
        }
      ]
    },
    {
      "cell_type": "code",
      "source": [
        "#9. Write a Python program to convert user input from string to integer, float, and boolean types.\n",
        "\n",
        "user_input = input(\"Please enter something:\")\n",
        "# Please enter numeric value otherwise it will throw the error.\n",
        "\n",
        "#Convert to different types\n",
        "user_input_int = int(user_input)\n",
        "user_input_float = float(user_input)\n",
        "user_input_bool = bool(user_input)\n",
        "\n",
        "print(\"As integer:\", user_input_int)\n",
        "print(\"As float:\", user_input_float)\n",
        "print(\"As boolean:\", user_input_bool)"
      ],
      "metadata": {
        "colab": {
          "base_uri": "https://localhost:8080/"
        },
        "id": "Xux9hX9mBQI-",
        "outputId": "39c8bfd7-be42-469b-b55d-2c146b6c2d8c"
      },
      "execution_count": 35,
      "outputs": [
        {
          "output_type": "stream",
          "name": "stdout",
          "text": [
            "Please enter something:690936\n",
            "As integer: 690936\n",
            "As float: 690936.0\n",
            "As boolean: True\n"
          ]
        }
      ]
    },
    {
      "cell_type": "code",
      "source": [
        "#10. Write code to demonstrate type casting with list elements.\n",
        "\n",
        "# Original list\n",
        "original_list = [\"10\", \"20\", \"50\", \"4\"]\n",
        "\n",
        "# Converting each element to integer using for loop\n",
        "changed_list = [int(x) for x in original_list]\n",
        "\n",
        "print(\"Original list:\", original_list) # ['10', '20', '50', '4']\n",
        "print(\"After type casting to int:\", changed_list)  # [10, 20, 50, 4]\n",
        "\n"
      ],
      "metadata": {
        "colab": {
          "base_uri": "https://localhost:8080/"
        },
        "id": "C4nHKmV2DpKt",
        "outputId": "00a87f24-a4f9-4ec4-f7ee-a4e3c6885988"
      },
      "execution_count": 37,
      "outputs": [
        {
          "output_type": "stream",
          "name": "stdout",
          "text": [
            "Original list: ['10', '20', '50', '4']\n",
            "After type casting to int: [10, 20, 50, 4]\n"
          ]
        }
      ]
    },
    {
      "cell_type": "code",
      "source": [
        "#11. Write a program that checks if a number is positive, negative, or zero.\n",
        "\n",
        "number = int(input(\"Please enter a number:\"))\n",
        "\n",
        "if(number > 0):\n",
        "  print(\"Postive\")\n",
        "elif(number < 0):\n",
        "  print(\"Negative\")\n",
        "else:\n",
        "  print(\"Zero\")"
      ],
      "metadata": {
        "colab": {
          "base_uri": "https://localhost:8080/"
        },
        "id": "60mxlbLsEpVy",
        "outputId": "d2a2fb57-5c9d-445e-ebef-10e28193f459"
      },
      "execution_count": 41,
      "outputs": [
        {
          "output_type": "stream",
          "name": "stdout",
          "text": [
            "Please enter a number:-2\n",
            "Negative\n"
          ]
        }
      ]
    },
    {
      "cell_type": "code",
      "source": [
        "#12. Write a for loop to print numbers from 1 to 10.\n",
        "\n",
        "for i in range(1,11):\n",
        "  print(i)"
      ],
      "metadata": {
        "colab": {
          "base_uri": "https://localhost:8080/"
        },
        "id": "n1PKkX9kFXJe",
        "outputId": "c23d5a51-c6ff-4a20-9372-182577c5dfa9"
      },
      "execution_count": 42,
      "outputs": [
        {
          "output_type": "stream",
          "name": "stdout",
          "text": [
            "1\n",
            "2\n",
            "3\n",
            "4\n",
            "5\n",
            "6\n",
            "7\n",
            "8\n",
            "9\n",
            "10\n"
          ]
        }
      ]
    },
    {
      "cell_type": "code",
      "source": [
        "#13. Write a Python program to find the sum of all even numbers between 1 and 50.\n",
        "sum = 0\n",
        "for i in range (1,51):\n",
        "  if(i % 2 == 0):\n",
        "    sum += i\n",
        "\n",
        "print(\"Sum of all even numbers between 1 and 50 is\",sum)"
      ],
      "metadata": {
        "colab": {
          "base_uri": "https://localhost:8080/"
        },
        "id": "okjCCL-HFqjH",
        "outputId": "4031e2ae-636c-4904-f37d-cada0790acda"
      },
      "execution_count": 47,
      "outputs": [
        {
          "output_type": "stream",
          "name": "stdout",
          "text": [
            "Sum of all even numbers between 1 and 50 is 650\n"
          ]
        }
      ]
    },
    {
      "cell_type": "code",
      "source": [
        "#14. Write a program to reverse a string using a while loop.\n",
        "\n",
        "str = \"Hello\"\n",
        "rev_str = \"\"\n",
        "index = len(str) - 1\n",
        "while index >= 0:\n",
        "    rev_str += str[index]\n",
        "    index -= 1\n",
        "\n",
        "print(\"Reversed string:\", rev_str)"
      ],
      "metadata": {
        "colab": {
          "base_uri": "https://localhost:8080/"
        },
        "id": "TieDEeoMGjhB",
        "outputId": "8a17483a-66e7-4c27-de1a-c3325d9737ec"
      },
      "execution_count": 48,
      "outputs": [
        {
          "output_type": "stream",
          "name": "stdout",
          "text": [
            "Reversed string: olleH\n"
          ]
        }
      ]
    },
    {
      "cell_type": "code",
      "source": [
        "#15. Write a Python program to calculate the factorial of a number provided by the user using a while loop.\n",
        "num = int(input(\"Please enter a number:\"))\n",
        "fact = 1\n",
        "n = num\n",
        "while(n > 0):\n",
        "  fact *= n\n",
        "  n -= 1\n",
        "\n",
        "print(\"Factorial of \", num, \"is\", fact)"
      ],
      "metadata": {
        "colab": {
          "base_uri": "https://localhost:8080/"
        },
        "id": "u3tO-6j7HJNI",
        "outputId": "854b74dc-9cc9-4507-b2ae-e7c44fb4b730"
      },
      "execution_count": 54,
      "outputs": [
        {
          "output_type": "stream",
          "name": "stdout",
          "text": [
            "Please enter a number:3\n",
            "Factorial of  3 is 6\n"
          ]
        }
      ]
    }
  ]
}