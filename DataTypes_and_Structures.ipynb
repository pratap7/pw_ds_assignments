{
  "nbformat": 4,
  "nbformat_minor": 0,
  "metadata": {
    "colab": {
      "provenance": []
    },
    "kernelspec": {
      "name": "python3",
      "display_name": "Python 3"
    },
    "language_info": {
      "name": "python"
    }
  },
  "cells": [
    {
      "cell_type": "markdown",
      "source": [
        "# Data Types and Structures: Theory Questions"
      ],
      "metadata": {
        "id": "1PZAscXZulfG"
      }
    },
    {
      "cell_type": "markdown",
      "source": [
        "1. What are data structures, and why are they important?\n",
        "  \n",
        "   => A data structure is a way of organizing, storing, and managing data so it can be used efficiently. In other words these are like containers that hold your data and determine how you can interact with it. Different containers are better suited for different types of items.\n",
        "   Examples: lists, stacks, queues, trees, graphs, hash tables.\n",
        "   Imortance of data structure:\n",
        "    - Organize Data Efficiently: Help store data in a logical way\n",
        "    - Improve Performance: The right data structure makes searching, sorting, and updating faster.\n",
        "    -  Flexibility: Different data structures serve different purposes. Some are great for storing lots of data, while others are optimized for quick searches or data retrievalal\n",
        "    - Enable Complex Applications: Advanced systems like databases, operating systems, compilers, AI, and web services rely heavily on data structures like graphs, trees, and heaps.\n",
        "    - Optimize Memory Usage: Proper structures avoid wasting memory by fitting the right representation for the problem.\n",
        "    - Solve Real-World Problems: Like GPS navigation → Graphs, Undo/Redo in editors -> Stack etc."
      ],
      "metadata": {
        "id": "ZIif9hDtyxYS"
      }
    },
    {
      "cell_type": "markdown",
      "source": [
        "2. Explain the difference between mutable and immutable data types with examples?\n",
        "   \n",
        "   =>\n",
        "   - Mutable means changeable. Once you create the object, you can modify it (add, remove, update values) without creating a new one.\n",
        "\n",
        "   - Immutable means unchangeable. Once created, the object's value cannot be changed — if you try, Python will actually make a new object in memory.\n",
        "   Example: Mutable:  nums = [1, 2, 3]\n",
        "                      nums.append(4)   # we can add\n",
        "                      nums[0] = 99     # we can modify\n",
        "                      print(nums)      # [99, 2, 3, 4]\n",
        "            Immutable:  t = (1, 2, 3)\n",
        "                        # t[0] = 10  not allowed, will throw TypeError\n"
      ],
      "metadata": {
        "id": "mxlyKp2C2Xq3"
      }
    },
    {
      "cell_type": "markdown",
      "source": [
        "3. What are the main differences between lists and tuples in Python?\n",
        "   \n",
        "   => Follwing are the main diferences between tuples and list:\n",
        "   - Mutability:\n",
        "       - List → mutable (can add, remove, modify)\n",
        "       - Tuple → immutable (cannot be changed once created)\n",
        "   - Syntax:\n",
        "       - List → [1, 2, 3]\n",
        "       - Tuple → (1, 2, 3)\n",
        "   - Performance: Tuples are faster and use less memory than lists.\n",
        "   - Use case:\n",
        "       - List → when data may change\n",
        "       - Tuple → when data should stay fixed (like coordinates)."
      ],
      "metadata": {
        "id": "a9W3fr3A7B3G"
      }
    },
    {
      "cell_type": "markdown",
      "source": [
        "4. Describe how dictionaries store data?\n",
        "    \n",
        "   => Dictionaries store data as key:value pairs.\n",
        "      - Each key acts as a unique identifier for retrieving an associated value.\n",
        "      - Keys and values can be of various data types (strings, numbers, lists, and even other dictionaries).\n",
        "      - example: student = {\"name\": \"Alice\", \"age\": 20, \"grade\": \"A\"}\n"
      ],
      "metadata": {
        "id": "0PHr1b_X78m0"
      }
    },
    {
      "cell_type": "markdown",
      "source": [
        "5. Why might you use a set instead of a list in Python?\n",
        "\n",
        "   => We use set instead of a list in these conditions:\n",
        "      - When we need unique elements (sets automatically remove duplicates).\n",
        "      - When we want fast membership tests (x in my_set is much faster than in a list).\n",
        "      - When we need to do set operations like union, intersection, difference."
      ],
      "metadata": {
        "id": "s5UZx4JWUGZi"
      }
    },
    {
      "cell_type": "markdown",
      "source": [
        "6. What is a string in Python, and how is it different from a list?\n",
        "   \n",
        "   => A string in Python is a sequence of characters, written inside quotes (\"hello\" or 'hello').\n",
        "   Key differences from a list:\n",
        "    - Data type: String\n",
        "        - only characters/text.\n",
        "        - List → can hold mixed types ([1, \"hi\", 3.5]).\n",
        "    - Mutability: String is immutable and List is mutable.\n",
        "    - Syntax:\n",
        "        - String: \"abc\"\n",
        "        - List: ['a', 'b', 'c']"
      ],
      "metadata": {
        "id": "auPylXP4U4HN"
      }
    },
    {
      "cell_type": "markdown",
      "source": [
        "7. How do tuples ensure data integrity in Python?\n",
        "   \n",
        "   => Tuples help ensure data integrity because they are immutable — once created, their contents can not be changed. Tuples ensure data integrity in Python because of immutability at the memory level:\n",
        "     - No modification methods: Tuples does not have any built-in method to change the elements.\n",
        "     - Memory is fixed: When a tuple is created, Python allocates memory for its contents. Since it is immutable, Python does not allow changing that memory slot. Any change attempt creates a new object instead of modifying the original.\n"
      ],
      "metadata": {
        "id": "AwOBKeoRWutr"
      }
    },
    {
      "cell_type": "markdown",
      "source": [
        "8. What is a hash table, and how does it relate to dictionaries in Python?\n",
        "   \n",
        "   => A hash table is a data structure that stores data in key–value pairs and uses a hash function to decide where each value goes in memory.\n",
        "    - Relation to Python dictionaries:A Python dictionary is basically a hash table under the hood. Dictionaries in Python are built on top of hash tables, which make key lookups super fast.\n",
        "    Example: my_dict = {\"name\": \"Alice\", \"age\": 25}\n",
        "                      print(my_dict[\"name\"])# fast lookup using hash of \"name\"\n"
      ],
      "metadata": {
        "id": "oDtVgI1aYq8M"
      }
    },
    {
      "cell_type": "markdown",
      "source": [
        "9. Can lists contain different data types in Python?\n",
        "\n",
        "   => Yes, lists in Python can hold different data types in the same list.\n",
        "      - Example: mixed_list = [1, \"hello\", 3.14, True]"
      ],
      "metadata": {
        "id": "afoH2XoYc6-T"
      }
    },
    {
      "cell_type": "markdown",
      "source": [
        "10. Explain why strings are immutable in Python?\n",
        "\n",
        "    => Strings are immutable in Python because once a string is created, its contents cannot be changed in memory. If you \"modify\" a string, Python actually makes a new string in memory. Following are the reasons why string are immutable:\n",
        "     - It keeps data safe — if two variables share the same string, one can not mess it up for the other.\n",
        "     - It makes strings hashable, so they can be used as keys in dictionaries and elements in sets.\n",
        "     - It allows Python to optimize memory by reusing the same string objects instead of copying them."
      ],
      "metadata": {
        "id": "mHRFfqOhd-UM"
      }
    },
    {
      "cell_type": "markdown",
      "source": [
        "11. What advantages do dictionaries offer over lists for certain tasks?\n",
        "\n",
        "    => Dictionaries are often better than lists when you need to map keys to values and look things up quickly. Here are some main advantages:\n",
        "     - Fast lookups: finding a value by key is much quicker than searching through a list.\n",
        "     - Key–value mapping: you can use meaningful keys (\"name\", \"age\") instead of just numeric indexes.\n",
        "     - No duplicate keys: ensures each key is unique.\n",
        "     - Flexibility: values can be any data type (lists, numbers, even other dicts)."
      ],
      "metadata": {
        "id": "Wkc4lZXZfh6t"
      }
    },
    {
      "cell_type": "markdown",
      "source": [
        "12. Describe a scenario where using a tuple would be preferable over a list?\n",
        "\n",
        "    => Tuple is immutable so can prefer it when the data should never change.\n",
        "    - Example scenario: Storing a person's GPS coordinates: location = (40.7128, -74.0060)  # New York City\n"
      ],
      "metadata": {
        "id": "Tqcq3osug77o"
      }
    },
    {
      "cell_type": "markdown",
      "source": [
        "13. How do sets handle duplicate values in Python?\n",
        "\n",
        "    => Sets in Python automatically remove duplicates. If you try to add the same value more than once, it only keeps a single copy.\n",
        "    - Example: nums = {1, 2, 2, 3, 3, 3}\n",
        "               print(nums)\n",
        "               # Output: {1,2,3}\n",
        "                "
      ],
      "metadata": {
        "id": "VjmhHMfSh507"
      }
    },
    {
      "cell_type": "markdown",
      "source": [
        "14. How does the \"in\" keyword work differently for lists and dictionaries?\n",
        "\n",
        "    => List and dictionatries follow different structures, \"in\" behaviour little bit different in both, here are the examples:  \n",
        "    - **For lists**: in checks if a value exists among the elements.\n",
        "        - Example:  nums = [1, 2, 3]\n",
        "                    print(2 in nums)   # True (2 is an element)\n",
        "    - **For dictionaries**: in checks if a key exists, not a value.\n",
        "      - Example: person = {\"name\": \"Alice\", \"age\": 25}\n",
        "                          print(\"name\" in person)   # True (key exists)\n",
        "                          print(25 in person)       # False (25 is a value, not a key)"
      ],
      "metadata": {
        "id": "lRpfoTleicNq"
      }
    },
    {
      "cell_type": "markdown",
      "source": [
        "15. Can you modify the elements of a tuple? Explain why or why not?\n",
        "\n",
        "    => No, you cannot modify the elements of a tuple in Python.\n",
        "       - Reason: tuples are immutable. Once created, their contents are fixed — you can not add, remove, or change elements.\n",
        "       - No modification methods: Tuples does not have any built-in method to change the elements.\n",
        "       - Memory is fixed: When a tuple is created, Python allocates memory for its contents. Since it is immutable, Python does not allow changing that memory slot. Any change attempt creates a new object instead of modifying the original."
      ],
      "metadata": {
        "id": "lq4qX90nAta2"
      }
    },
    {
      "cell_type": "markdown",
      "source": [
        "16. What is a nested dictionary, and give an example of its use case?\n",
        "\n",
        "    => A nested dictionary is simply a dictionary inside another dictionary. It lets you organize data in a hierarchical or structured way.\n",
        "    - Example: students = {\n",
        "                    \"Alice\": {\"age\": 20, \"grade\": \"A\"},\n",
        "                    \"Bob\": {\"age\": 22, \"grade\": \"B\"}\n",
        "                }\n",
        "                print(students[\"Alice\"][\"grade\"]) # Output: A\n",
        "     - Use case:\n",
        "          - Nested dictionaries are useful when you need to store complex data. For example: Student records (name -> details)\n",
        "          - Configuration files (sections -> settings)\n",
        "          - JSON-like data structures\n",
        "          - In short: a nested dictionary is perfect when each key needs to hold more detailed information.\n"
      ],
      "metadata": {
        "id": "ZTN1Au69LWPK"
      }
    },
    {
      "cell_type": "markdown",
      "source": [
        "17. Describe the time complexity of accessing elements in a dictionary?\n",
        "\n",
        "    => Accessing an element in a Python dictionary is usually O(1) — constant time. It is because:\n",
        "       - Dictionaries use a hash table.\n",
        "       - The key is hashed, and Python jumps directly to where the value is stored.\n",
        "       - Example: person = {\"name\": \"Alice\", \"age\": 25}\n",
        "                  print(person[\"age\"])  # O(1) lookup"
      ],
      "metadata": {
        "id": "UFb6Gs3WNdDE"
      }
    },
    {
      "cell_type": "markdown",
      "source": [
        "18. In what situations are lists preferred over dictionaries?\n",
        "\n",
        "    => Lists are preferred over dictionaries in these conditions:\n",
        "       - **Iteration in order** is required (like looping through tasks, names, scores).\n",
        "       - **Order matters**: lists keep elements in sequence.\n",
        "       - **Simple collections** where you only need values, not key->value pairs.\n",
        "       - **Indexing by position** is needed (like items[0], items[1]).\n",
        "       - **Duplicates are allowed**: As dictionaries don't allow duplicate keys."
      ],
      "metadata": {
        "id": "odZ3r3IQOaeS"
      }
    },
    {
      "cell_type": "markdown",
      "source": [
        "19. Why are dictionaries considered unordered, and how does that affect data retrieval?\n",
        "\n",
        "    => Dictionaries are considered unordered because, they didn't guarantee that items would stay in the order you inserted them. The way data is stored depends on the hashing mechanism, not the order.\n",
        "\n",
        "    Effect on retrieval:\n",
        "      - You can't rely on position (like you do with lists using indexes).\n",
        "      - Retrieval is always done by key, not by order.\n"
      ],
      "metadata": {
        "id": "ej0coWTLPSK3"
      }
    },
    {
      "cell_type": "markdown",
      "source": [
        "20. Explain the difference between a list and a dictionary in terms of data retrieval.\n",
        "\n",
        "    => Here is the key difference in accessing data via List and Dictioanry:\n",
        "\n",
        "      - List: Data is retrieved by position (index).\n",
        "        - Example:  fruits = [\"apple\", \"banana\", \"cherry\"]\n",
        "                    print(fruits[1])   # banana\n",
        "      - Dictionary: Data is retrieved by key, not position.\n",
        "          - Example:  person = {\"name\": \"Alice\", \"age\": 25}\n",
        "                  print(person[\"age\"])   # 25"
      ],
      "metadata": {
        "id": "YMYL0IdGR-9l"
      }
    },
    {
      "cell_type": "markdown",
      "source": [
        "#Practical Questions"
      ],
      "metadata": {
        "id": "hQGF4lPEX6dP"
      }
    },
    {
      "cell_type": "code",
      "source": [
        "#1. Write a code to create a string with your name and print it.\n",
        "name = \"Gaurav Pratap\"\n",
        "print(name)"
      ],
      "metadata": {
        "colab": {
          "base_uri": "https://localhost:8080/"
        },
        "id": "ck_33s6yYDGC",
        "outputId": "1ac1899d-d651-4e0f-89fa-37f51ae217ce"
      },
      "execution_count": 1,
      "outputs": [
        {
          "output_type": "stream",
          "name": "stdout",
          "text": [
            "Gaurav Pratap\n"
          ]
        }
      ]
    },
    {
      "cell_type": "code",
      "source": [
        "#2. Write a code to find the length of the string \"Hello World\".\n",
        "str = \"Hello World\"\n",
        "print(len(str))"
      ],
      "metadata": {
        "colab": {
          "base_uri": "https://localhost:8080/"
        },
        "id": "Io1m26J9YWJh",
        "outputId": "9cbf14ab-bb60-40cc-b91c-28c834777c27"
      },
      "execution_count": 2,
      "outputs": [
        {
          "output_type": "stream",
          "name": "stdout",
          "text": [
            "11\n"
          ]
        }
      ]
    },
    {
      "cell_type": "code",
      "source": [
        "#3. Write a code to slice the first 3 characters from the string \"Python Programming\".\n",
        "str = \"Python Programming\"\n",
        "slice_3_char = str[:3]\n",
        "print(slice_3_char)"
      ],
      "metadata": {
        "colab": {
          "base_uri": "https://localhost:8080/"
        },
        "id": "5N12_ajkZyC-",
        "outputId": "43dc99d0-61df-4ea1-ce2b-9b2ff500c10b"
      },
      "execution_count": 3,
      "outputs": [
        {
          "output_type": "stream",
          "name": "stdout",
          "text": [
            "Pyt\n"
          ]
        }
      ]
    },
    {
      "cell_type": "code",
      "source": [
        "#4. Write a code to convert the string \"hello\" to uppercase.\n",
        "str = \"hello\"\n",
        "print(str.upper())"
      ],
      "metadata": {
        "colab": {
          "base_uri": "https://localhost:8080/"
        },
        "id": "4i3A5giBbQ2q",
        "outputId": "577e20e3-6d06-4967-bcf7-9ada3574e6b7"
      },
      "execution_count": 4,
      "outputs": [
        {
          "output_type": "stream",
          "name": "stdout",
          "text": [
            "HELLO\n"
          ]
        }
      ]
    },
    {
      "cell_type": "code",
      "source": [
        "#5. Write a code to replace the word \"apple\" with \"orange\" in the string \"I like apple\".\n",
        "str = \"I like apple\"\n",
        "new_str = str.replace(\"apple\", \"orange\")\n",
        "print(new_str)"
      ],
      "metadata": {
        "colab": {
          "base_uri": "https://localhost:8080/"
        },
        "id": "1tPmTLurbepB",
        "outputId": "ecba95b6-0c85-49a9-815e-431fbc88eda5"
      },
      "execution_count": 5,
      "outputs": [
        {
          "output_type": "stream",
          "name": "stdout",
          "text": [
            "I like orange\n"
          ]
        }
      ]
    },
    {
      "cell_type": "code",
      "source": [
        "#6. Write a code to create a list with numbers 1 to 5 and print it.\n",
        "nums = [1,2,3,4,5]\n",
        "print(nums)"
      ],
      "metadata": {
        "colab": {
          "base_uri": "https://localhost:8080/"
        },
        "id": "O2Mbty3Ib93l",
        "outputId": "021760d4-d5fe-4634-f49e-08f9d8e290bc"
      },
      "execution_count": 12,
      "outputs": [
        {
          "output_type": "stream",
          "name": "stdout",
          "text": [
            "[1, 2, 3, 4, 5]\n"
          ]
        }
      ]
    },
    {
      "cell_type": "code",
      "source": [
        "#7. Write a code to append the number 10 to the list [1, 2, 3, 4].\n",
        "numbers = [1,2,3,4]\n",
        "numbers.append(10)\n",
        "print(numbers)"
      ],
      "metadata": {
        "colab": {
          "base_uri": "https://localhost:8080/"
        },
        "id": "gGuG-MFfchmK",
        "outputId": "1a071195-81c2-48a0-a8f1-e7d7cb53db8e"
      },
      "execution_count": 14,
      "outputs": [
        {
          "output_type": "stream",
          "name": "stdout",
          "text": [
            "[1, 2, 3, 4, 10]\n"
          ]
        }
      ]
    },
    {
      "cell_type": "code",
      "source": [
        "#8. Write a code to remove the number 3 from the list [1, 2, 3, 4, 5].\n",
        "numbers = [1,2,3,4,5]\n",
        "numbers.remove(3)\n",
        "print(numbers)"
      ],
      "metadata": {
        "colab": {
          "base_uri": "https://localhost:8080/"
        },
        "id": "ggQ-9g-BeXj3",
        "outputId": "eeef2198-7011-4903-e41c-e9d6038618df"
      },
      "execution_count": 15,
      "outputs": [
        {
          "output_type": "stream",
          "name": "stdout",
          "text": [
            "[1, 2, 4, 5]\n"
          ]
        }
      ]
    },
    {
      "cell_type": "code",
      "source": [
        "#9. Write a code to access the second element in the list ['a', 'b', 'c', 'd'].\n",
        "my_list = ['a', 'b', 'c', 'd']\n",
        "print(my_list[1])"
      ],
      "metadata": {
        "colab": {
          "base_uri": "https://localhost:8080/"
        },
        "id": "qw3gUjykeyQe",
        "outputId": "cdf5545c-5076-4489-aee1-1fc42abd5672"
      },
      "execution_count": 16,
      "outputs": [
        {
          "output_type": "stream",
          "name": "stdout",
          "text": [
            "b\n"
          ]
        }
      ]
    },
    {
      "cell_type": "code",
      "source": [
        "#10. Write a code to reverse the list [10, 20, 30, 40, 50].\n",
        "numbers = [10, 20, 30, 40, 50]\n",
        "numbers.reverse()\n",
        "print(numbers)"
      ],
      "metadata": {
        "colab": {
          "base_uri": "https://localhost:8080/"
        },
        "id": "_vtovumVfUw0",
        "outputId": "4fd4d285-bf54-44f7-8e48-f68e539dbf08"
      },
      "execution_count": 18,
      "outputs": [
        {
          "output_type": "stream",
          "name": "stdout",
          "text": [
            "[50, 40, 30, 20, 10]\n"
          ]
        }
      ]
    },
    {
      "cell_type": "code",
      "source": [
        "#11. Write a code to create a tuple with the elements 100, 200, 300 and print it.\n",
        "numbers = (100, 200, 300)\n",
        "print(numbers)"
      ],
      "metadata": {
        "colab": {
          "base_uri": "https://localhost:8080/"
        },
        "id": "9jlPwih6f29X",
        "outputId": "b8798f01-3f94-41fc-b185-51dd7e4e8384"
      },
      "execution_count": 19,
      "outputs": [
        {
          "output_type": "stream",
          "name": "stdout",
          "text": [
            "(100, 200, 300)\n"
          ]
        }
      ]
    },
    {
      "cell_type": "code",
      "source": [
        "#12. Write a code to access the second-to-last element of the tuple ('red', 'green', 'blue', 'yellow').\n",
        "color = ('red', 'green', 'blue', 'yellow')\n",
        "print(color[-2])\n"
      ],
      "metadata": {
        "colab": {
          "base_uri": "https://localhost:8080/"
        },
        "id": "n2OPSQ1PgR_T",
        "outputId": "7bc66474-cd1f-406c-b473-47d81b20c128"
      },
      "execution_count": 20,
      "outputs": [
        {
          "output_type": "stream",
          "name": "stdout",
          "text": [
            "blue\n"
          ]
        }
      ]
    },
    {
      "cell_type": "code",
      "source": [
        "#13. Write a code to find the minimum number in the tuple (10, 20, 5, 15).\n",
        "nums = (10, 20, 5, 15)\n",
        "min_num = min(nums)\n",
        "print(min_num)"
      ],
      "metadata": {
        "colab": {
          "base_uri": "https://localhost:8080/"
        },
        "id": "LOWOqBnVg2tR",
        "outputId": "5b481cec-7bb3-498b-ac2e-00a414aff67a"
      },
      "execution_count": 25,
      "outputs": [
        {
          "output_type": "stream",
          "name": "stdout",
          "text": [
            "5\n"
          ]
        }
      ]
    },
    {
      "cell_type": "code",
      "source": [
        "#14. Write a code to find the index of the element \"cat\" in the tuple ('dog', 'cat', 'rabbit').\n",
        "animals = ('dog', 'cat', 'rabbit')\n",
        "index_of_cat = animals.index(\"cat\")\n",
        "print(index_of_cat)"
      ],
      "metadata": {
        "colab": {
          "base_uri": "https://localhost:8080/"
        },
        "id": "nIoWHnO7hwd5",
        "outputId": "3ca61377-d117-4ac0-d10d-09c67fb8cc35"
      },
      "execution_count": 26,
      "outputs": [
        {
          "output_type": "stream",
          "name": "stdout",
          "text": [
            "1\n"
          ]
        }
      ]
    },
    {
      "cell_type": "code",
      "source": [
        "#15. Write a code to create a tuple containing three different fruits and check if \"kiwi\" is in it.\n",
        "fruits = (\"apple\", \"banana\", \"orange\")\n",
        "if(\"kiwi\" in fruits):\n",
        "  print(\"Kiwi found in the tuple!\")\n",
        "else:\n",
        "  print(\"Kiwi does not found in tuple!\")"
      ],
      "metadata": {
        "colab": {
          "base_uri": "https://localhost:8080/"
        },
        "id": "ScwNxYbvi-ZK",
        "outputId": "9961c671-12f0-4b44-fd8e-767268421118"
      },
      "execution_count": 31,
      "outputs": [
        {
          "output_type": "stream",
          "name": "stdout",
          "text": [
            "Kiwi does not found in tuple!\n"
          ]
        }
      ]
    },
    {
      "cell_type": "code",
      "source": [
        "#16. Write a code to create a set with the elements 'a', 'b', 'c' and print it.\n",
        "my_set = {'a', 'b', 'c' }\n",
        "print(my_set)"
      ],
      "metadata": {
        "colab": {
          "base_uri": "https://localhost:8080/"
        },
        "id": "8LZpRYWUkKy3",
        "outputId": "7d722c2d-7762-41e5-fc49-e986628fd7c7"
      },
      "execution_count": 32,
      "outputs": [
        {
          "output_type": "stream",
          "name": "stdout",
          "text": [
            "{'b', 'a', 'c'}\n"
          ]
        }
      ]
    },
    {
      "cell_type": "code",
      "source": [
        "#17. Write a code to clear all elements from the set {1, 2, 3, 4, 5}.\n",
        "numbers = {1, 2, 3, 4, 5}\n",
        "numbers.clear()\n",
        "print(numbers)\n"
      ],
      "metadata": {
        "colab": {
          "base_uri": "https://localhost:8080/"
        },
        "id": "qKMBMFNlkdmd",
        "outputId": "59466930-63e3-44e8-e606-17c34c5ad4b7"
      },
      "execution_count": 35,
      "outputs": [
        {
          "output_type": "stream",
          "name": "stdout",
          "text": [
            "set()\n"
          ]
        }
      ]
    },
    {
      "cell_type": "code",
      "source": [
        "#18. Write a code to remove the element 4 from the set {1, 2, 3, 4}.\n",
        "numbers = {1, 2, 3, 4}\n",
        "numbers.remove(4)\n",
        "print(numbers)"
      ],
      "metadata": {
        "colab": {
          "base_uri": "https://localhost:8080/"
        },
        "id": "FcrXSAy4lBNK",
        "outputId": "7c55fcbf-a2f5-42d0-817a-0234c1d6fe20"
      },
      "execution_count": 36,
      "outputs": [
        {
          "output_type": "stream",
          "name": "stdout",
          "text": [
            "{1, 2, 3}\n"
          ]
        }
      ]
    },
    {
      "cell_type": "code",
      "source": [
        "#19. Write a code to find the union of two sets {1, 2, 3} and {3, 4, 5}.\n",
        "numbers1 = {1, 2, 3}\n",
        "numbers2 = {3, 4, 5}\n",
        "all_numbers = numbers1.union(numbers2)\n",
        "print(all_numbers)\n"
      ],
      "metadata": {
        "colab": {
          "base_uri": "https://localhost:8080/"
        },
        "id": "huuGRuZalTDo",
        "outputId": "ccdc1ff8-712e-4105-a146-06b22aae3424"
      },
      "execution_count": 37,
      "outputs": [
        {
          "output_type": "stream",
          "name": "stdout",
          "text": [
            "{1, 2, 3, 4, 5}\n"
          ]
        }
      ]
    },
    {
      "cell_type": "code",
      "source": [
        "#20. Write a code to find the intersection of two sets {1, 2, 3} and {2, 3, 4}.\n",
        "nums1 = {1,2,3}\n",
        "nums2 = {2,3,4}\n",
        "common_numbers = nums1.intersection(nums2)\n",
        "print(\"Common numbers:\", common_numbers)"
      ],
      "metadata": {
        "colab": {
          "base_uri": "https://localhost:8080/"
        },
        "id": "zjF728cSl59u",
        "outputId": "6b2b712a-ef41-416b-c193-3a2dd0ca45ac"
      },
      "execution_count": 40,
      "outputs": [
        {
          "output_type": "stream",
          "name": "stdout",
          "text": [
            "Common numbers: {2, 3}\n"
          ]
        }
      ]
    },
    {
      "cell_type": "code",
      "source": [
        "#21. Write a code to create a dictionary with the keys \"name\", \"age\", and \"city\", and print it.\n",
        "person = {\n",
        "    \"name\": \"Gaurav\",\n",
        "    \"age\": 28,\n",
        "    \"city\": \"Dehradun\"\n",
        "}\n",
        "print(person)"
      ],
      "metadata": {
        "colab": {
          "base_uri": "https://localhost:8080/"
        },
        "id": "JbG4NaKvjsB3",
        "outputId": "073d2a1a-58fd-478b-d7a7-fe3994dc4455"
      },
      "execution_count": 42,
      "outputs": [
        {
          "output_type": "stream",
          "name": "stdout",
          "text": [
            "{'name': 'Gaurav', 'age': 28, 'city': 'Dehradun'}\n"
          ]
        }
      ]
    },
    {
      "cell_type": "code",
      "source": [
        "#22.  Write a code to add a new key-value pair \"country\": \"USA\" to the dictionary {'name': 'John', 'age': 25}.\n",
        "person = {'name': 'John', 'age': 25}\n",
        "person[\"country\"] = \"USA\"\n",
        "print(person)"
      ],
      "metadata": {
        "colab": {
          "base_uri": "https://localhost:8080/"
        },
        "id": "jbcgUmoynKUb",
        "outputId": "e22ec25c-d420-43f5-bc8b-1e483e7d83a1"
      },
      "execution_count": 43,
      "outputs": [
        {
          "output_type": "stream",
          "name": "stdout",
          "text": [
            "{'name': 'John', 'age': 25, 'country': 'USA'}\n"
          ]
        }
      ]
    },
    {
      "cell_type": "code",
      "source": [
        "#23. Write a code to access the value associated with the key \"name\" in the dictionary {'name': 'Alice', 'age': 30}.\n",
        "person = {'name': 'Alice', 'age': 30}\n",
        "print(\"Name of person is:\", person[\"name\"])"
      ],
      "metadata": {
        "colab": {
          "base_uri": "https://localhost:8080/"
        },
        "id": "BKkoYloln2l2",
        "outputId": "16d60f58-34f4-449c-c8c1-1f6d073ad6d5"
      },
      "execution_count": 44,
      "outputs": [
        {
          "output_type": "stream",
          "name": "stdout",
          "text": [
            "Name of person is: Alice\n"
          ]
        }
      ]
    },
    {
      "cell_type": "code",
      "source": [
        "#24. Write a code to remove the key \"age\" from the dictionary {'name': 'Bob', 'age': 22, 'city': 'New York'}.\n",
        "person = {'name': 'Bob', 'age': 22, 'city': 'New York'}\n",
        "person.pop(\"age\")\n",
        "print(person)"
      ],
      "metadata": {
        "colab": {
          "base_uri": "https://localhost:8080/"
        },
        "id": "pvCz9TiIoIS5",
        "outputId": "8adac341-8a05-4f81-ae69-0aff9306d45b"
      },
      "execution_count": 45,
      "outputs": [
        {
          "output_type": "stream",
          "name": "stdout",
          "text": [
            "{'name': 'Bob', 'city': 'New York'}\n"
          ]
        }
      ]
    },
    {
      "cell_type": "code",
      "source": [
        "#25. Write a code to check if the key \"city\" exists in the dictionary {'name': 'Alice', 'city': 'Paris'}.\n",
        "person = {'name': 'Alice', 'city': 'Paris'}\n",
        "\n",
        "if \"city\" in person:\n",
        "    print(\"Key 'city' exists\")\n",
        "else:\n",
        "    print(\"Key 'city' does not exist\")"
      ],
      "metadata": {
        "colab": {
          "base_uri": "https://localhost:8080/"
        },
        "id": "L8RylmyVoag8",
        "outputId": "87245863-8c26-4c37-dca4-0c1b9c13fd18"
      },
      "execution_count": 46,
      "outputs": [
        {
          "output_type": "stream",
          "name": "stdout",
          "text": [
            "Key 'city' exists\n"
          ]
        }
      ]
    },
    {
      "cell_type": "code",
      "source": [
        "#26. Write a code to create a list, a tuple, and a dictionary, and print them all.\n",
        "# create a list\n",
        "my_list = [1, 2, 3, 4, 5]\n",
        "\n",
        "# create a tuple\n",
        "my_tuple = (\"apple\", \"banana\", \"cherry\")\n",
        "\n",
        "# create a dictionary\n",
        "my_dict = {\"name\": \"Alice\", \"age\": 25, \"city\": \"Paris\"}\n",
        "\n",
        "print(\"List:\", my_list)\n",
        "print(\"Tuple:\", my_tuple)\n",
        "print(\"Dictionary:\", my_dict)"
      ],
      "metadata": {
        "colab": {
          "base_uri": "https://localhost:8080/"
        },
        "id": "0w5ml8m-o4Ql",
        "outputId": "9405a378-59ca-4bf4-b319-028af0444034"
      },
      "execution_count": 47,
      "outputs": [
        {
          "output_type": "stream",
          "name": "stdout",
          "text": [
            "List: [1, 2, 3, 4, 5]\n",
            "Tuple: ('apple', 'banana', 'cherry')\n",
            "Dictionary: {'name': 'Alice', 'age': 25, 'city': 'Paris'}\n"
          ]
        }
      ]
    },
    {
      "cell_type": "code",
      "source": [
        "#27. Write a code to create a list of 5 random numbers between 1 and 100, sort it in ascending order, and print the result.\n",
        "import random\n",
        "\n",
        "# create a list of 5 random numbers between 1 and 100\n",
        "numbers = [random.randint(1, 100) for _ in range(5)]\n",
        "\n",
        "print(\"Before Sorting:\", numbers)\n",
        "\n",
        "# sort the list in ascending order\n",
        "numbers.sort()\n",
        "print(\"After Sorting:\", numbers)"
      ],
      "metadata": {
        "colab": {
          "base_uri": "https://localhost:8080/"
        },
        "id": "NV-r68KMpstc",
        "outputId": "d1b6121a-0b00-43e7-a065-7e25fbc7fe36"
      },
      "execution_count": 57,
      "outputs": [
        {
          "output_type": "stream",
          "name": "stdout",
          "text": [
            "Before Sorting: [74, 32, 81, 86, 85]\n",
            "After Sorting: [32, 74, 81, 85, 86]\n"
          ]
        }
      ]
    },
    {
      "cell_type": "code",
      "source": [
        "#28. Write a code to create a list with strings and print the element at the third index.\n",
        "fruits = [\"apple\", \"banana\", \"cherry\", \"mango\", \"orange\"]\n",
        "print(fruits[3])\n"
      ],
      "metadata": {
        "colab": {
          "base_uri": "https://localhost:8080/"
        },
        "id": "NxSgcovSqm5J",
        "outputId": "c60c62e5-fa52-453e-d1dc-afd83ec15699"
      },
      "execution_count": 58,
      "outputs": [
        {
          "output_type": "stream",
          "name": "stdout",
          "text": [
            "mango\n"
          ]
        }
      ]
    },
    {
      "cell_type": "code",
      "source": [
        "#29. Write a code to combine two dictionaries into one and print the result.\n",
        "dict1 = {\"a\": 1, \"b\": 2}\n",
        "dict2 = {\"c\": 3, \"d\": 4}\n",
        "\n",
        "#using merge operator\n",
        "combined = dict1 | dict2\n",
        "\n",
        "print(combined)"
      ],
      "metadata": {
        "colab": {
          "base_uri": "https://localhost:8080/"
        },
        "id": "2d8qUnePq3-i",
        "outputId": "c923fd97-8d31-4dad-b8aa-36c104f52914"
      },
      "execution_count": 62,
      "outputs": [
        {
          "output_type": "stream",
          "name": "stdout",
          "text": [
            "{'a': 1, 'b': 2, 'c': 3, 'd': 4}\n"
          ]
        }
      ]
    },
    {
      "cell_type": "code",
      "source": [
        "#30. Write a code to convert a list of strings into a set.\n",
        "fruits = [\"apple\", \"banana\", \"cherry\", \"apple\", \"banana\"]\n",
        "fruits_set = set(fruits) # convert list to set\n",
        "print(fruits_set)"
      ],
      "metadata": {
        "colab": {
          "base_uri": "https://localhost:8080/"
        },
        "id": "cz_ikAGMr0Hf",
        "outputId": "4034c965-683c-4dd0-f2f8-dd0edfeed017"
      },
      "execution_count": 63,
      "outputs": [
        {
          "output_type": "stream",
          "name": "stdout",
          "text": [
            "{'banana', 'apple', 'cherry'}\n"
          ]
        }
      ]
    }
  ]
}